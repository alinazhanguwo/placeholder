{
  "nbformat": 4,
  "nbformat_minor": 0,
  "metadata": {
    "colab": {
      "name": "Hugging Face Text Classification with Pandas Input - bbc-text-NLP-multiclass.ipynb",
      "provenance": [],
      "collapsed_sections": [],
      "toc_visible": true
    },
    "kernelspec": {
      "name": "python3",
      "display_name": "Python 3"
    },
    "language_info": {
      "name": "python"
    },
    "accelerator": "GPU",
    "widgets": {
      "application/vnd.jupyter.widget-state+json": {
        "c8486113af144e8eb4d084cd33b62246": {
          "model_module": "@jupyter-widgets/controls",
          "model_name": "HBoxModel",
          "model_module_version": "1.5.0",
          "state": {
            "_dom_classes": [],
            "_model_module": "@jupyter-widgets/controls",
            "_model_module_version": "1.5.0",
            "_model_name": "HBoxModel",
            "_view_count": null,
            "_view_module": "@jupyter-widgets/controls",
            "_view_module_version": "1.5.0",
            "_view_name": "HBoxView",
            "box_style": "",
            "children": [
              "IPY_MODEL_61669dcb432e43a387abd71228d23661",
              "IPY_MODEL_e2abaa1a4af14271bdd142936360d337",
              "IPY_MODEL_e1b01fe0f01d4bdea297bfecff7a685e"
            ],
            "layout": "IPY_MODEL_1d9644bba0cd4fd6bef356d7d263b066"
          }
        },
        "61669dcb432e43a387abd71228d23661": {
          "model_module": "@jupyter-widgets/controls",
          "model_name": "HTMLModel",
          "model_module_version": "1.5.0",
          "state": {
            "_dom_classes": [],
            "_model_module": "@jupyter-widgets/controls",
            "_model_module_version": "1.5.0",
            "_model_name": "HTMLModel",
            "_view_count": null,
            "_view_module": "@jupyter-widgets/controls",
            "_view_module_version": "1.5.0",
            "_view_name": "HTMLView",
            "description": "",
            "description_tooltip": null,
            "layout": "IPY_MODEL_f75ca9bbaa3f45ba99aa31a0ffce0dca",
            "placeholder": "​",
            "style": "IPY_MODEL_d401b6821a2b4b9896859659d500da4f",
            "value": "100%"
          }
        },
        "e2abaa1a4af14271bdd142936360d337": {
          "model_module": "@jupyter-widgets/controls",
          "model_name": "FloatProgressModel",
          "model_module_version": "1.5.0",
          "state": {
            "_dom_classes": [],
            "_model_module": "@jupyter-widgets/controls",
            "_model_module_version": "1.5.0",
            "_model_name": "FloatProgressModel",
            "_view_count": null,
            "_view_module": "@jupyter-widgets/controls",
            "_view_module_version": "1.5.0",
            "_view_name": "ProgressView",
            "bar_style": "success",
            "description": "",
            "description_tooltip": null,
            "layout": "IPY_MODEL_fd3a368265e340e69127928cbaf827ce",
            "max": 1,
            "min": 0,
            "orientation": "horizontal",
            "style": "IPY_MODEL_4f57b2b6500e4537b90af0eaa3b71f85",
            "value": 1
          }
        },
        "e1b01fe0f01d4bdea297bfecff7a685e": {
          "model_module": "@jupyter-widgets/controls",
          "model_name": "HTMLModel",
          "model_module_version": "1.5.0",
          "state": {
            "_dom_classes": [],
            "_model_module": "@jupyter-widgets/controls",
            "_model_module_version": "1.5.0",
            "_model_name": "HTMLModel",
            "_view_count": null,
            "_view_module": "@jupyter-widgets/controls",
            "_view_module_version": "1.5.0",
            "_view_name": "HTMLView",
            "description": "",
            "description_tooltip": null,
            "layout": "IPY_MODEL_1293765074064fa098553af210e0c671",
            "placeholder": "​",
            "style": "IPY_MODEL_8c7ade1bebd04a718a1d141fe27ab4d7",
            "value": " 1/1 [00:02&lt;00:00,  2.44s/ba]"
          }
        },
        "1d9644bba0cd4fd6bef356d7d263b066": {
          "model_module": "@jupyter-widgets/base",
          "model_name": "LayoutModel",
          "model_module_version": "1.2.0",
          "state": {
            "_model_module": "@jupyter-widgets/base",
            "_model_module_version": "1.2.0",
            "_model_name": "LayoutModel",
            "_view_count": null,
            "_view_module": "@jupyter-widgets/base",
            "_view_module_version": "1.2.0",
            "_view_name": "LayoutView",
            "align_content": null,
            "align_items": null,
            "align_self": null,
            "border": null,
            "bottom": null,
            "display": null,
            "flex": null,
            "flex_flow": null,
            "grid_area": null,
            "grid_auto_columns": null,
            "grid_auto_flow": null,
            "grid_auto_rows": null,
            "grid_column": null,
            "grid_gap": null,
            "grid_row": null,
            "grid_template_areas": null,
            "grid_template_columns": null,
            "grid_template_rows": null,
            "height": null,
            "justify_content": null,
            "justify_items": null,
            "left": null,
            "margin": null,
            "max_height": null,
            "max_width": null,
            "min_height": null,
            "min_width": null,
            "object_fit": null,
            "object_position": null,
            "order": null,
            "overflow": null,
            "overflow_x": null,
            "overflow_y": null,
            "padding": null,
            "right": null,
            "top": null,
            "visibility": null,
            "width": null
          }
        },
        "f75ca9bbaa3f45ba99aa31a0ffce0dca": {
          "model_module": "@jupyter-widgets/base",
          "model_name": "LayoutModel",
          "model_module_version": "1.2.0",
          "state": {
            "_model_module": "@jupyter-widgets/base",
            "_model_module_version": "1.2.0",
            "_model_name": "LayoutModel",
            "_view_count": null,
            "_view_module": "@jupyter-widgets/base",
            "_view_module_version": "1.2.0",
            "_view_name": "LayoutView",
            "align_content": null,
            "align_items": null,
            "align_self": null,
            "border": null,
            "bottom": null,
            "display": null,
            "flex": null,
            "flex_flow": null,
            "grid_area": null,
            "grid_auto_columns": null,
            "grid_auto_flow": null,
            "grid_auto_rows": null,
            "grid_column": null,
            "grid_gap": null,
            "grid_row": null,
            "grid_template_areas": null,
            "grid_template_columns": null,
            "grid_template_rows": null,
            "height": null,
            "justify_content": null,
            "justify_items": null,
            "left": null,
            "margin": null,
            "max_height": null,
            "max_width": null,
            "min_height": null,
            "min_width": null,
            "object_fit": null,
            "object_position": null,
            "order": null,
            "overflow": null,
            "overflow_x": null,
            "overflow_y": null,
            "padding": null,
            "right": null,
            "top": null,
            "visibility": null,
            "width": null
          }
        },
        "d401b6821a2b4b9896859659d500da4f": {
          "model_module": "@jupyter-widgets/controls",
          "model_name": "DescriptionStyleModel",
          "model_module_version": "1.5.0",
          "state": {
            "_model_module": "@jupyter-widgets/controls",
            "_model_module_version": "1.5.0",
            "_model_name": "DescriptionStyleModel",
            "_view_count": null,
            "_view_module": "@jupyter-widgets/base",
            "_view_module_version": "1.2.0",
            "_view_name": "StyleView",
            "description_width": ""
          }
        },
        "fd3a368265e340e69127928cbaf827ce": {
          "model_module": "@jupyter-widgets/base",
          "model_name": "LayoutModel",
          "model_module_version": "1.2.0",
          "state": {
            "_model_module": "@jupyter-widgets/base",
            "_model_module_version": "1.2.0",
            "_model_name": "LayoutModel",
            "_view_count": null,
            "_view_module": "@jupyter-widgets/base",
            "_view_module_version": "1.2.0",
            "_view_name": "LayoutView",
            "align_content": null,
            "align_items": null,
            "align_self": null,
            "border": null,
            "bottom": null,
            "display": null,
            "flex": null,
            "flex_flow": null,
            "grid_area": null,
            "grid_auto_columns": null,
            "grid_auto_flow": null,
            "grid_auto_rows": null,
            "grid_column": null,
            "grid_gap": null,
            "grid_row": null,
            "grid_template_areas": null,
            "grid_template_columns": null,
            "grid_template_rows": null,
            "height": null,
            "justify_content": null,
            "justify_items": null,
            "left": null,
            "margin": null,
            "max_height": null,
            "max_width": null,
            "min_height": null,
            "min_width": null,
            "object_fit": null,
            "object_position": null,
            "order": null,
            "overflow": null,
            "overflow_x": null,
            "overflow_y": null,
            "padding": null,
            "right": null,
            "top": null,
            "visibility": null,
            "width": null
          }
        },
        "4f57b2b6500e4537b90af0eaa3b71f85": {
          "model_module": "@jupyter-widgets/controls",
          "model_name": "ProgressStyleModel",
          "model_module_version": "1.5.0",
          "state": {
            "_model_module": "@jupyter-widgets/controls",
            "_model_module_version": "1.5.0",
            "_model_name": "ProgressStyleModel",
            "_view_count": null,
            "_view_module": "@jupyter-widgets/base",
            "_view_module_version": "1.2.0",
            "_view_name": "StyleView",
            "bar_color": null,
            "description_width": ""
          }
        },
        "1293765074064fa098553af210e0c671": {
          "model_module": "@jupyter-widgets/base",
          "model_name": "LayoutModel",
          "model_module_version": "1.2.0",
          "state": {
            "_model_module": "@jupyter-widgets/base",
            "_model_module_version": "1.2.0",
            "_model_name": "LayoutModel",
            "_view_count": null,
            "_view_module": "@jupyter-widgets/base",
            "_view_module_version": "1.2.0",
            "_view_name": "LayoutView",
            "align_content": null,
            "align_items": null,
            "align_self": null,
            "border": null,
            "bottom": null,
            "display": null,
            "flex": null,
            "flex_flow": null,
            "grid_area": null,
            "grid_auto_columns": null,
            "grid_auto_flow": null,
            "grid_auto_rows": null,
            "grid_column": null,
            "grid_gap": null,
            "grid_row": null,
            "grid_template_areas": null,
            "grid_template_columns": null,
            "grid_template_rows": null,
            "height": null,
            "justify_content": null,
            "justify_items": null,
            "left": null,
            "margin": null,
            "max_height": null,
            "max_width": null,
            "min_height": null,
            "min_width": null,
            "object_fit": null,
            "object_position": null,
            "order": null,
            "overflow": null,
            "overflow_x": null,
            "overflow_y": null,
            "padding": null,
            "right": null,
            "top": null,
            "visibility": null,
            "width": null
          }
        },
        "8c7ade1bebd04a718a1d141fe27ab4d7": {
          "model_module": "@jupyter-widgets/controls",
          "model_name": "DescriptionStyleModel",
          "model_module_version": "1.5.0",
          "state": {
            "_model_module": "@jupyter-widgets/controls",
            "_model_module_version": "1.5.0",
            "_model_name": "DescriptionStyleModel",
            "_view_count": null,
            "_view_module": "@jupyter-widgets/base",
            "_view_module_version": "1.2.0",
            "_view_name": "StyleView",
            "description_width": ""
          }
        },
        "ac5286ab10984249a30b2fc2365dfcd1": {
          "model_module": "@jupyter-widgets/controls",
          "model_name": "HBoxModel",
          "model_module_version": "1.5.0",
          "state": {
            "_dom_classes": [],
            "_model_module": "@jupyter-widgets/controls",
            "_model_module_version": "1.5.0",
            "_model_name": "HBoxModel",
            "_view_count": null,
            "_view_module": "@jupyter-widgets/controls",
            "_view_module_version": "1.5.0",
            "_view_name": "HBoxView",
            "box_style": "",
            "children": [
              "IPY_MODEL_22999b57bc5843de9ef743e2387822ff",
              "IPY_MODEL_cfdb88ed92b5491bb5389bca0b48e3bf",
              "IPY_MODEL_20aadc161ea6439296e559c602d968f9"
            ],
            "layout": "IPY_MODEL_7cd8934fa5bf40d1bea78d930e5bfa24"
          }
        },
        "22999b57bc5843de9ef743e2387822ff": {
          "model_module": "@jupyter-widgets/controls",
          "model_name": "HTMLModel",
          "model_module_version": "1.5.0",
          "state": {
            "_dom_classes": [],
            "_model_module": "@jupyter-widgets/controls",
            "_model_module_version": "1.5.0",
            "_model_name": "HTMLModel",
            "_view_count": null,
            "_view_module": "@jupyter-widgets/controls",
            "_view_module_version": "1.5.0",
            "_view_name": "HTMLView",
            "description": "",
            "description_tooltip": null,
            "layout": "IPY_MODEL_48c703adad224173a22455395dfaa147",
            "placeholder": "​",
            "style": "IPY_MODEL_8ff67a6d65e3436e99e1141911a27713",
            "value": "100%"
          }
        },
        "cfdb88ed92b5491bb5389bca0b48e3bf": {
          "model_module": "@jupyter-widgets/controls",
          "model_name": "FloatProgressModel",
          "model_module_version": "1.5.0",
          "state": {
            "_dom_classes": [],
            "_model_module": "@jupyter-widgets/controls",
            "_model_module_version": "1.5.0",
            "_model_name": "FloatProgressModel",
            "_view_count": null,
            "_view_module": "@jupyter-widgets/controls",
            "_view_module_version": "1.5.0",
            "_view_name": "ProgressView",
            "bar_style": "success",
            "description": "",
            "description_tooltip": null,
            "layout": "IPY_MODEL_899840f0c5dc40379b4c71c945b51698",
            "max": 1,
            "min": 0,
            "orientation": "horizontal",
            "style": "IPY_MODEL_2b0839ba85264f2db29c46162844f58a",
            "value": 1
          }
        },
        "20aadc161ea6439296e559c602d968f9": {
          "model_module": "@jupyter-widgets/controls",
          "model_name": "HTMLModel",
          "model_module_version": "1.5.0",
          "state": {
            "_dom_classes": [],
            "_model_module": "@jupyter-widgets/controls",
            "_model_module_version": "1.5.0",
            "_model_name": "HTMLModel",
            "_view_count": null,
            "_view_module": "@jupyter-widgets/controls",
            "_view_module_version": "1.5.0",
            "_view_name": "HTMLView",
            "description": "",
            "description_tooltip": null,
            "layout": "IPY_MODEL_ae177a4b6f3347e088e5b91ced52e428",
            "placeholder": "​",
            "style": "IPY_MODEL_6b7f87d053554659b6d9dbdb50d4e9a5",
            "value": " 1/1 [00:00&lt;00:00,  1.94ba/s]"
          }
        },
        "7cd8934fa5bf40d1bea78d930e5bfa24": {
          "model_module": "@jupyter-widgets/base",
          "model_name": "LayoutModel",
          "model_module_version": "1.2.0",
          "state": {
            "_model_module": "@jupyter-widgets/base",
            "_model_module_version": "1.2.0",
            "_model_name": "LayoutModel",
            "_view_count": null,
            "_view_module": "@jupyter-widgets/base",
            "_view_module_version": "1.2.0",
            "_view_name": "LayoutView",
            "align_content": null,
            "align_items": null,
            "align_self": null,
            "border": null,
            "bottom": null,
            "display": null,
            "flex": null,
            "flex_flow": null,
            "grid_area": null,
            "grid_auto_columns": null,
            "grid_auto_flow": null,
            "grid_auto_rows": null,
            "grid_column": null,
            "grid_gap": null,
            "grid_row": null,
            "grid_template_areas": null,
            "grid_template_columns": null,
            "grid_template_rows": null,
            "height": null,
            "justify_content": null,
            "justify_items": null,
            "left": null,
            "margin": null,
            "max_height": null,
            "max_width": null,
            "min_height": null,
            "min_width": null,
            "object_fit": null,
            "object_position": null,
            "order": null,
            "overflow": null,
            "overflow_x": null,
            "overflow_y": null,
            "padding": null,
            "right": null,
            "top": null,
            "visibility": null,
            "width": null
          }
        },
        "48c703adad224173a22455395dfaa147": {
          "model_module": "@jupyter-widgets/base",
          "model_name": "LayoutModel",
          "model_module_version": "1.2.0",
          "state": {
            "_model_module": "@jupyter-widgets/base",
            "_model_module_version": "1.2.0",
            "_model_name": "LayoutModel",
            "_view_count": null,
            "_view_module": "@jupyter-widgets/base",
            "_view_module_version": "1.2.0",
            "_view_name": "LayoutView",
            "align_content": null,
            "align_items": null,
            "align_self": null,
            "border": null,
            "bottom": null,
            "display": null,
            "flex": null,
            "flex_flow": null,
            "grid_area": null,
            "grid_auto_columns": null,
            "grid_auto_flow": null,
            "grid_auto_rows": null,
            "grid_column": null,
            "grid_gap": null,
            "grid_row": null,
            "grid_template_areas": null,
            "grid_template_columns": null,
            "grid_template_rows": null,
            "height": null,
            "justify_content": null,
            "justify_items": null,
            "left": null,
            "margin": null,
            "max_height": null,
            "max_width": null,
            "min_height": null,
            "min_width": null,
            "object_fit": null,
            "object_position": null,
            "order": null,
            "overflow": null,
            "overflow_x": null,
            "overflow_y": null,
            "padding": null,
            "right": null,
            "top": null,
            "visibility": null,
            "width": null
          }
        },
        "8ff67a6d65e3436e99e1141911a27713": {
          "model_module": "@jupyter-widgets/controls",
          "model_name": "DescriptionStyleModel",
          "model_module_version": "1.5.0",
          "state": {
            "_model_module": "@jupyter-widgets/controls",
            "_model_module_version": "1.5.0",
            "_model_name": "DescriptionStyleModel",
            "_view_count": null,
            "_view_module": "@jupyter-widgets/base",
            "_view_module_version": "1.2.0",
            "_view_name": "StyleView",
            "description_width": ""
          }
        },
        "899840f0c5dc40379b4c71c945b51698": {
          "model_module": "@jupyter-widgets/base",
          "model_name": "LayoutModel",
          "model_module_version": "1.2.0",
          "state": {
            "_model_module": "@jupyter-widgets/base",
            "_model_module_version": "1.2.0",
            "_model_name": "LayoutModel",
            "_view_count": null,
            "_view_module": "@jupyter-widgets/base",
            "_view_module_version": "1.2.0",
            "_view_name": "LayoutView",
            "align_content": null,
            "align_items": null,
            "align_self": null,
            "border": null,
            "bottom": null,
            "display": null,
            "flex": null,
            "flex_flow": null,
            "grid_area": null,
            "grid_auto_columns": null,
            "grid_auto_flow": null,
            "grid_auto_rows": null,
            "grid_column": null,
            "grid_gap": null,
            "grid_row": null,
            "grid_template_areas": null,
            "grid_template_columns": null,
            "grid_template_rows": null,
            "height": null,
            "justify_content": null,
            "justify_items": null,
            "left": null,
            "margin": null,
            "max_height": null,
            "max_width": null,
            "min_height": null,
            "min_width": null,
            "object_fit": null,
            "object_position": null,
            "order": null,
            "overflow": null,
            "overflow_x": null,
            "overflow_y": null,
            "padding": null,
            "right": null,
            "top": null,
            "visibility": null,
            "width": null
          }
        },
        "2b0839ba85264f2db29c46162844f58a": {
          "model_module": "@jupyter-widgets/controls",
          "model_name": "ProgressStyleModel",
          "model_module_version": "1.5.0",
          "state": {
            "_model_module": "@jupyter-widgets/controls",
            "_model_module_version": "1.5.0",
            "_model_name": "ProgressStyleModel",
            "_view_count": null,
            "_view_module": "@jupyter-widgets/base",
            "_view_module_version": "1.2.0",
            "_view_name": "StyleView",
            "bar_color": null,
            "description_width": ""
          }
        },
        "ae177a4b6f3347e088e5b91ced52e428": {
          "model_module": "@jupyter-widgets/base",
          "model_name": "LayoutModel",
          "model_module_version": "1.2.0",
          "state": {
            "_model_module": "@jupyter-widgets/base",
            "_model_module_version": "1.2.0",
            "_model_name": "LayoutModel",
            "_view_count": null,
            "_view_module": "@jupyter-widgets/base",
            "_view_module_version": "1.2.0",
            "_view_name": "LayoutView",
            "align_content": null,
            "align_items": null,
            "align_self": null,
            "border": null,
            "bottom": null,
            "display": null,
            "flex": null,
            "flex_flow": null,
            "grid_area": null,
            "grid_auto_columns": null,
            "grid_auto_flow": null,
            "grid_auto_rows": null,
            "grid_column": null,
            "grid_gap": null,
            "grid_row": null,
            "grid_template_areas": null,
            "grid_template_columns": null,
            "grid_template_rows": null,
            "height": null,
            "justify_content": null,
            "justify_items": null,
            "left": null,
            "margin": null,
            "max_height": null,
            "max_width": null,
            "min_height": null,
            "min_width": null,
            "object_fit": null,
            "object_position": null,
            "order": null,
            "overflow": null,
            "overflow_x": null,
            "overflow_y": null,
            "padding": null,
            "right": null,
            "top": null,
            "visibility": null,
            "width": null
          }
        },
        "6b7f87d053554659b6d9dbdb50d4e9a5": {
          "model_module": "@jupyter-widgets/controls",
          "model_name": "DescriptionStyleModel",
          "model_module_version": "1.5.0",
          "state": {
            "_model_module": "@jupyter-widgets/controls",
            "_model_module_version": "1.5.0",
            "_model_name": "DescriptionStyleModel",
            "_view_count": null,
            "_view_module": "@jupyter-widgets/base",
            "_view_module_version": "1.2.0",
            "_view_name": "StyleView",
            "description_width": ""
          }
        },
        "e63edae74c054c25b7b85e9e010906cd": {
          "model_module": "@jupyter-widgets/controls",
          "model_name": "HBoxModel",
          "model_module_version": "1.5.0",
          "state": {
            "_dom_classes": [],
            "_model_module": "@jupyter-widgets/controls",
            "_model_module_version": "1.5.0",
            "_model_name": "HBoxModel",
            "_view_count": null,
            "_view_module": "@jupyter-widgets/controls",
            "_view_module_version": "1.5.0",
            "_view_name": "HBoxView",
            "box_style": "",
            "children": [
              "IPY_MODEL_da59912d3528461da5f8c21439f50385",
              "IPY_MODEL_a0df1c5c7a7f4044b9484ef99bf5bfbc",
              "IPY_MODEL_d3ada8d7ce8345579daf282ac2e082f7"
            ],
            "layout": "IPY_MODEL_a006cbbf2799420ba75b40a80b949f52"
          }
        },
        "da59912d3528461da5f8c21439f50385": {
          "model_module": "@jupyter-widgets/controls",
          "model_name": "HTMLModel",
          "model_module_version": "1.5.0",
          "state": {
            "_dom_classes": [],
            "_model_module": "@jupyter-widgets/controls",
            "_model_module_version": "1.5.0",
            "_model_name": "HTMLModel",
            "_view_count": null,
            "_view_module": "@jupyter-widgets/controls",
            "_view_module_version": "1.5.0",
            "_view_name": "HTMLView",
            "description": "",
            "description_tooltip": null,
            "layout": "IPY_MODEL_2a842bc94af44185ab0a34f208c76686",
            "placeholder": "​",
            "style": "IPY_MODEL_5a14d8cf85b544eebccf35fc48545bd2",
            "value": "100%"
          }
        },
        "a0df1c5c7a7f4044b9484ef99bf5bfbc": {
          "model_module": "@jupyter-widgets/controls",
          "model_name": "FloatProgressModel",
          "model_module_version": "1.5.0",
          "state": {
            "_dom_classes": [],
            "_model_module": "@jupyter-widgets/controls",
            "_model_module_version": "1.5.0",
            "_model_name": "FloatProgressModel",
            "_view_count": null,
            "_view_module": "@jupyter-widgets/controls",
            "_view_module_version": "1.5.0",
            "_view_name": "ProgressView",
            "bar_style": "success",
            "description": "",
            "description_tooltip": null,
            "layout": "IPY_MODEL_f2e9f6d1cd6748169f1a65682255ff0f",
            "max": 1,
            "min": 0,
            "orientation": "horizontal",
            "style": "IPY_MODEL_92c70dda485a42618e0e08d3030eacef",
            "value": 1
          }
        },
        "d3ada8d7ce8345579daf282ac2e082f7": {
          "model_module": "@jupyter-widgets/controls",
          "model_name": "HTMLModel",
          "model_module_version": "1.5.0",
          "state": {
            "_dom_classes": [],
            "_model_module": "@jupyter-widgets/controls",
            "_model_module_version": "1.5.0",
            "_model_name": "HTMLModel",
            "_view_count": null,
            "_view_module": "@jupyter-widgets/controls",
            "_view_module_version": "1.5.0",
            "_view_name": "HTMLView",
            "description": "",
            "description_tooltip": null,
            "layout": "IPY_MODEL_e78dc3b33b804a98928499496e65e8d5",
            "placeholder": "​",
            "style": "IPY_MODEL_845c3dc02f5c47008fecaeff9d5daca1",
            "value": " 1/1 [00:00&lt;00:00, 24.38ba/s]"
          }
        },
        "a006cbbf2799420ba75b40a80b949f52": {
          "model_module": "@jupyter-widgets/base",
          "model_name": "LayoutModel",
          "model_module_version": "1.2.0",
          "state": {
            "_model_module": "@jupyter-widgets/base",
            "_model_module_version": "1.2.0",
            "_model_name": "LayoutModel",
            "_view_count": null,
            "_view_module": "@jupyter-widgets/base",
            "_view_module_version": "1.2.0",
            "_view_name": "LayoutView",
            "align_content": null,
            "align_items": null,
            "align_self": null,
            "border": null,
            "bottom": null,
            "display": null,
            "flex": null,
            "flex_flow": null,
            "grid_area": null,
            "grid_auto_columns": null,
            "grid_auto_flow": null,
            "grid_auto_rows": null,
            "grid_column": null,
            "grid_gap": null,
            "grid_row": null,
            "grid_template_areas": null,
            "grid_template_columns": null,
            "grid_template_rows": null,
            "height": null,
            "justify_content": null,
            "justify_items": null,
            "left": null,
            "margin": null,
            "max_height": null,
            "max_width": null,
            "min_height": null,
            "min_width": null,
            "object_fit": null,
            "object_position": null,
            "order": null,
            "overflow": null,
            "overflow_x": null,
            "overflow_y": null,
            "padding": null,
            "right": null,
            "top": null,
            "visibility": null,
            "width": null
          }
        },
        "2a842bc94af44185ab0a34f208c76686": {
          "model_module": "@jupyter-widgets/base",
          "model_name": "LayoutModel",
          "model_module_version": "1.2.0",
          "state": {
            "_model_module": "@jupyter-widgets/base",
            "_model_module_version": "1.2.0",
            "_model_name": "LayoutModel",
            "_view_count": null,
            "_view_module": "@jupyter-widgets/base",
            "_view_module_version": "1.2.0",
            "_view_name": "LayoutView",
            "align_content": null,
            "align_items": null,
            "align_self": null,
            "border": null,
            "bottom": null,
            "display": null,
            "flex": null,
            "flex_flow": null,
            "grid_area": null,
            "grid_auto_columns": null,
            "grid_auto_flow": null,
            "grid_auto_rows": null,
            "grid_column": null,
            "grid_gap": null,
            "grid_row": null,
            "grid_template_areas": null,
            "grid_template_columns": null,
            "grid_template_rows": null,
            "height": null,
            "justify_content": null,
            "justify_items": null,
            "left": null,
            "margin": null,
            "max_height": null,
            "max_width": null,
            "min_height": null,
            "min_width": null,
            "object_fit": null,
            "object_position": null,
            "order": null,
            "overflow": null,
            "overflow_x": null,
            "overflow_y": null,
            "padding": null,
            "right": null,
            "top": null,
            "visibility": null,
            "width": null
          }
        },
        "5a14d8cf85b544eebccf35fc48545bd2": {
          "model_module": "@jupyter-widgets/controls",
          "model_name": "DescriptionStyleModel",
          "model_module_version": "1.5.0",
          "state": {
            "_model_module": "@jupyter-widgets/controls",
            "_model_module_version": "1.5.0",
            "_model_name": "DescriptionStyleModel",
            "_view_count": null,
            "_view_module": "@jupyter-widgets/base",
            "_view_module_version": "1.2.0",
            "_view_name": "StyleView",
            "description_width": ""
          }
        },
        "f2e9f6d1cd6748169f1a65682255ff0f": {
          "model_module": "@jupyter-widgets/base",
          "model_name": "LayoutModel",
          "model_module_version": "1.2.0",
          "state": {
            "_model_module": "@jupyter-widgets/base",
            "_model_module_version": "1.2.0",
            "_model_name": "LayoutModel",
            "_view_count": null,
            "_view_module": "@jupyter-widgets/base",
            "_view_module_version": "1.2.0",
            "_view_name": "LayoutView",
            "align_content": null,
            "align_items": null,
            "align_self": null,
            "border": null,
            "bottom": null,
            "display": null,
            "flex": null,
            "flex_flow": null,
            "grid_area": null,
            "grid_auto_columns": null,
            "grid_auto_flow": null,
            "grid_auto_rows": null,
            "grid_column": null,
            "grid_gap": null,
            "grid_row": null,
            "grid_template_areas": null,
            "grid_template_columns": null,
            "grid_template_rows": null,
            "height": null,
            "justify_content": null,
            "justify_items": null,
            "left": null,
            "margin": null,
            "max_height": null,
            "max_width": null,
            "min_height": null,
            "min_width": null,
            "object_fit": null,
            "object_position": null,
            "order": null,
            "overflow": null,
            "overflow_x": null,
            "overflow_y": null,
            "padding": null,
            "right": null,
            "top": null,
            "visibility": null,
            "width": null
          }
        },
        "92c70dda485a42618e0e08d3030eacef": {
          "model_module": "@jupyter-widgets/controls",
          "model_name": "ProgressStyleModel",
          "model_module_version": "1.5.0",
          "state": {
            "_model_module": "@jupyter-widgets/controls",
            "_model_module_version": "1.5.0",
            "_model_name": "ProgressStyleModel",
            "_view_count": null,
            "_view_module": "@jupyter-widgets/base",
            "_view_module_version": "1.2.0",
            "_view_name": "StyleView",
            "bar_color": null,
            "description_width": ""
          }
        },
        "e78dc3b33b804a98928499496e65e8d5": {
          "model_module": "@jupyter-widgets/base",
          "model_name": "LayoutModel",
          "model_module_version": "1.2.0",
          "state": {
            "_model_module": "@jupyter-widgets/base",
            "_model_module_version": "1.2.0",
            "_model_name": "LayoutModel",
            "_view_count": null,
            "_view_module": "@jupyter-widgets/base",
            "_view_module_version": "1.2.0",
            "_view_name": "LayoutView",
            "align_content": null,
            "align_items": null,
            "align_self": null,
            "border": null,
            "bottom": null,
            "display": null,
            "flex": null,
            "flex_flow": null,
            "grid_area": null,
            "grid_auto_columns": null,
            "grid_auto_flow": null,
            "grid_auto_rows": null,
            "grid_column": null,
            "grid_gap": null,
            "grid_row": null,
            "grid_template_areas": null,
            "grid_template_columns": null,
            "grid_template_rows": null,
            "height": null,
            "justify_content": null,
            "justify_items": null,
            "left": null,
            "margin": null,
            "max_height": null,
            "max_width": null,
            "min_height": null,
            "min_width": null,
            "object_fit": null,
            "object_position": null,
            "order": null,
            "overflow": null,
            "overflow_x": null,
            "overflow_y": null,
            "padding": null,
            "right": null,
            "top": null,
            "visibility": null,
            "width": null
          }
        },
        "845c3dc02f5c47008fecaeff9d5daca1": {
          "model_module": "@jupyter-widgets/controls",
          "model_name": "DescriptionStyleModel",
          "model_module_version": "1.5.0",
          "state": {
            "_model_module": "@jupyter-widgets/controls",
            "_model_module_version": "1.5.0",
            "_model_name": "DescriptionStyleModel",
            "_view_count": null,
            "_view_module": "@jupyter-widgets/base",
            "_view_module_version": "1.2.0",
            "_view_name": "StyleView",
            "description_width": ""
          }
        }
      }
    },
    "gpuClass": "standard"
  },
  "cells": [
    {
      "cell_type": "markdown",
      "source": [
        "# Multiclass Classification With Hugging Face Transformers\n",
        "\n",
        "- Split pandas dataframe into train and test\n",
        "- Convert to HF datasets\n",
        "- Load a pretrained model\n",
        "- Defining the performance metrics\n",
        "- Define training hyperparameters\n",
        "- Create Trainer\n",
        "- Get the predictions on the test dataset\n",
        "- Save trained model\n",
        "- Load a saved model in local for prediction\n",
        "- Plot confusion matrix for model performance evaluation\n",
        "- Error Analysis: sort the validation samples by the model loss: highest and lowest loss"
      ],
      "metadata": {
        "id": "h9ORmQ1b3TwO"
      }
    },
    {
      "cell_type": "code",
      "execution_count": 1,
      "metadata": {
        "colab": {
          "base_uri": "https://localhost:8080/"
        },
        "id": "dGNPJP5yxRwR",
        "outputId": "3c460b8d-7dfa-4cae-d8eb-0ad2fe0319aa"
      },
      "outputs": [
        {
          "output_type": "stream",
          "name": "stdout",
          "text": [
            "Drive already mounted at /content/drive/; to attempt to forcibly remount, call drive.mount(\"/content/drive/\", force_remount=True).\n"
          ]
        }
      ],
      "source": [
        "from google.colab import drive\n",
        "drive.mount('/content/drive/')\n",
        "\n",
        "path = '/content/drive/MyDrive/career/data scientist/recommender system/datasets/'"
      ]
    },
    {
      "cell_type": "code",
      "source": [
        "! pip install transformers datasets"
      ],
      "metadata": {
        "id": "AcjMetwSzsJp",
        "colab": {
          "base_uri": "https://localhost:8080/"
        },
        "outputId": "8c146f3d-6e20-42db-cc15-cb6a9cb70358"
      },
      "execution_count": 2,
      "outputs": [
        {
          "output_type": "stream",
          "name": "stdout",
          "text": [
            "Looking in indexes: https://pypi.org/simple, https://us-python.pkg.dev/colab-wheels/public/simple/\n",
            "Requirement already satisfied: transformers in /usr/local/lib/python3.7/dist-packages (4.20.1)\n",
            "Requirement already satisfied: datasets in /usr/local/lib/python3.7/dist-packages (2.3.2)\n",
            "Requirement already satisfied: packaging>=20.0 in /usr/local/lib/python3.7/dist-packages (from transformers) (21.3)\n",
            "Requirement already satisfied: filelock in /usr/local/lib/python3.7/dist-packages (from transformers) (3.7.1)\n",
            "Requirement already satisfied: huggingface-hub<1.0,>=0.1.0 in /usr/local/lib/python3.7/dist-packages (from transformers) (0.8.1)\n",
            "Requirement already satisfied: tokenizers!=0.11.3,<0.13,>=0.11.1 in /usr/local/lib/python3.7/dist-packages (from transformers) (0.12.1)\n",
            "Requirement already satisfied: importlib-metadata in /usr/local/lib/python3.7/dist-packages (from transformers) (4.11.4)\n",
            "Requirement already satisfied: tqdm>=4.27 in /usr/local/lib/python3.7/dist-packages (from transformers) (4.64.0)\n",
            "Requirement already satisfied: regex!=2019.12.17 in /usr/local/lib/python3.7/dist-packages (from transformers) (2022.6.2)\n",
            "Requirement already satisfied: numpy>=1.17 in /usr/local/lib/python3.7/dist-packages (from transformers) (1.21.6)\n",
            "Requirement already satisfied: requests in /usr/local/lib/python3.7/dist-packages (from transformers) (2.23.0)\n",
            "Requirement already satisfied: pyyaml>=5.1 in /usr/local/lib/python3.7/dist-packages (from transformers) (6.0)\n",
            "Requirement already satisfied: typing-extensions>=3.7.4.3 in /usr/local/lib/python3.7/dist-packages (from huggingface-hub<1.0,>=0.1.0->transformers) (4.1.1)\n",
            "Requirement already satisfied: pyparsing!=3.0.5,>=2.0.2 in /usr/local/lib/python3.7/dist-packages (from packaging>=20.0->transformers) (3.0.9)\n",
            "Requirement already satisfied: multiprocess in /usr/local/lib/python3.7/dist-packages (from datasets) (0.70.13)\n",
            "Requirement already satisfied: responses<0.19 in /usr/local/lib/python3.7/dist-packages (from datasets) (0.18.0)\n",
            "Requirement already satisfied: xxhash in /usr/local/lib/python3.7/dist-packages (from datasets) (3.0.0)\n",
            "Requirement already satisfied: pandas in /usr/local/lib/python3.7/dist-packages (from datasets) (1.3.5)\n",
            "Requirement already satisfied: pyarrow>=6.0.0 in /usr/local/lib/python3.7/dist-packages (from datasets) (6.0.1)\n",
            "Requirement already satisfied: fsspec[http]>=2021.05.0 in /usr/local/lib/python3.7/dist-packages (from datasets) (2022.5.0)\n",
            "Requirement already satisfied: aiohttp in /usr/local/lib/python3.7/dist-packages (from datasets) (3.8.1)\n",
            "Requirement already satisfied: dill<0.3.6 in /usr/local/lib/python3.7/dist-packages (from datasets) (0.3.5.1)\n",
            "Requirement already satisfied: urllib3!=1.25.0,!=1.25.1,<1.26,>=1.21.1 in /usr/local/lib/python3.7/dist-packages (from requests->transformers) (1.25.11)\n",
            "Requirement already satisfied: certifi>=2017.4.17 in /usr/local/lib/python3.7/dist-packages (from requests->transformers) (2022.6.15)\n",
            "Requirement already satisfied: idna<3,>=2.5 in /usr/local/lib/python3.7/dist-packages (from requests->transformers) (2.10)\n",
            "Requirement already satisfied: chardet<4,>=3.0.2 in /usr/local/lib/python3.7/dist-packages (from requests->transformers) (3.0.4)\n",
            "Requirement already satisfied: async-timeout<5.0,>=4.0.0a3 in /usr/local/lib/python3.7/dist-packages (from aiohttp->datasets) (4.0.2)\n",
            "Requirement already satisfied: charset-normalizer<3.0,>=2.0 in /usr/local/lib/python3.7/dist-packages (from aiohttp->datasets) (2.0.12)\n",
            "Requirement already satisfied: multidict<7.0,>=4.5 in /usr/local/lib/python3.7/dist-packages (from aiohttp->datasets) (6.0.2)\n",
            "Requirement already satisfied: asynctest==0.13.0 in /usr/local/lib/python3.7/dist-packages (from aiohttp->datasets) (0.13.0)\n",
            "Requirement already satisfied: attrs>=17.3.0 in /usr/local/lib/python3.7/dist-packages (from aiohttp->datasets) (21.4.0)\n",
            "Requirement already satisfied: aiosignal>=1.1.2 in /usr/local/lib/python3.7/dist-packages (from aiohttp->datasets) (1.2.0)\n",
            "Requirement already satisfied: frozenlist>=1.1.1 in /usr/local/lib/python3.7/dist-packages (from aiohttp->datasets) (1.3.0)\n",
            "Requirement already satisfied: yarl<2.0,>=1.0 in /usr/local/lib/python3.7/dist-packages (from aiohttp->datasets) (1.7.2)\n",
            "Requirement already satisfied: zipp>=0.5 in /usr/local/lib/python3.7/dist-packages (from importlib-metadata->transformers) (3.8.0)\n",
            "Requirement already satisfied: pytz>=2017.3 in /usr/local/lib/python3.7/dist-packages (from pandas->datasets) (2022.1)\n",
            "Requirement already satisfied: python-dateutil>=2.7.3 in /usr/local/lib/python3.7/dist-packages (from pandas->datasets) (2.8.2)\n",
            "Requirement already satisfied: six>=1.5 in /usr/local/lib/python3.7/dist-packages (from python-dateutil>=2.7.3->pandas->datasets) (1.15.0)\n"
          ]
        }
      ]
    },
    {
      "cell_type": "code",
      "source": [
        "import pandas as pd\n"
      ],
      "metadata": {
        "id": "8MkNp32WxiBU"
      },
      "execution_count": 3,
      "outputs": []
    },
    {
      "cell_type": "code",
      "source": [
        "df = pd.read_csv(path+\"bbc-text-NLP-multiclass.csv\")"
      ],
      "metadata": {
        "id": "ZjMWZcLexqxK"
      },
      "execution_count": 4,
      "outputs": []
    },
    {
      "cell_type": "code",
      "source": [
        "df.head()"
      ],
      "metadata": {
        "id": "BAg7hW2Ox2eW",
        "colab": {
          "base_uri": "https://localhost:8080/",
          "height": 206
        },
        "outputId": "988ae248-c83d-4422-c60b-42b6113e462f"
      },
      "execution_count": 5,
      "outputs": [
        {
          "output_type": "execute_result",
          "data": {
            "text/plain": [
              "        category                                               text\n",
              "0           tech  tv future in the hands of viewers with home th...\n",
              "1       business  worldcom boss  left books alone  former worldc...\n",
              "2          sport  tigers wary of farrell  gamble  leicester say ...\n",
              "3          sport  yeading face newcastle in fa cup premiership s...\n",
              "4  entertainment  ocean s twelve raids box office ocean s twelve..."
            ],
            "text/html": [
              "\n",
              "  <div id=\"df-d13ab326-95dc-4a21-8bc5-41a1e346c6e0\">\n",
              "    <div class=\"colab-df-container\">\n",
              "      <div>\n",
              "<style scoped>\n",
              "    .dataframe tbody tr th:only-of-type {\n",
              "        vertical-align: middle;\n",
              "    }\n",
              "\n",
              "    .dataframe tbody tr th {\n",
              "        vertical-align: top;\n",
              "    }\n",
              "\n",
              "    .dataframe thead th {\n",
              "        text-align: right;\n",
              "    }\n",
              "</style>\n",
              "<table border=\"1\" class=\"dataframe\">\n",
              "  <thead>\n",
              "    <tr style=\"text-align: right;\">\n",
              "      <th></th>\n",
              "      <th>category</th>\n",
              "      <th>text</th>\n",
              "    </tr>\n",
              "  </thead>\n",
              "  <tbody>\n",
              "    <tr>\n",
              "      <th>0</th>\n",
              "      <td>tech</td>\n",
              "      <td>tv future in the hands of viewers with home th...</td>\n",
              "    </tr>\n",
              "    <tr>\n",
              "      <th>1</th>\n",
              "      <td>business</td>\n",
              "      <td>worldcom boss  left books alone  former worldc...</td>\n",
              "    </tr>\n",
              "    <tr>\n",
              "      <th>2</th>\n",
              "      <td>sport</td>\n",
              "      <td>tigers wary of farrell  gamble  leicester say ...</td>\n",
              "    </tr>\n",
              "    <tr>\n",
              "      <th>3</th>\n",
              "      <td>sport</td>\n",
              "      <td>yeading face newcastle in fa cup premiership s...</td>\n",
              "    </tr>\n",
              "    <tr>\n",
              "      <th>4</th>\n",
              "      <td>entertainment</td>\n",
              "      <td>ocean s twelve raids box office ocean s twelve...</td>\n",
              "    </tr>\n",
              "  </tbody>\n",
              "</table>\n",
              "</div>\n",
              "      <button class=\"colab-df-convert\" onclick=\"convertToInteractive('df-d13ab326-95dc-4a21-8bc5-41a1e346c6e0')\"\n",
              "              title=\"Convert this dataframe to an interactive table.\"\n",
              "              style=\"display:none;\">\n",
              "        \n",
              "  <svg xmlns=\"http://www.w3.org/2000/svg\" height=\"24px\"viewBox=\"0 0 24 24\"\n",
              "       width=\"24px\">\n",
              "    <path d=\"M0 0h24v24H0V0z\" fill=\"none\"/>\n",
              "    <path d=\"M18.56 5.44l.94 2.06.94-2.06 2.06-.94-2.06-.94-.94-2.06-.94 2.06-2.06.94zm-11 1L8.5 8.5l.94-2.06 2.06-.94-2.06-.94L8.5 2.5l-.94 2.06-2.06.94zm10 10l.94 2.06.94-2.06 2.06-.94-2.06-.94-.94-2.06-.94 2.06-2.06.94z\"/><path d=\"M17.41 7.96l-1.37-1.37c-.4-.4-.92-.59-1.43-.59-.52 0-1.04.2-1.43.59L10.3 9.45l-7.72 7.72c-.78.78-.78 2.05 0 2.83L4 21.41c.39.39.9.59 1.41.59.51 0 1.02-.2 1.41-.59l7.78-7.78 2.81-2.81c.8-.78.8-2.07 0-2.86zM5.41 20L4 18.59l7.72-7.72 1.47 1.35L5.41 20z\"/>\n",
              "  </svg>\n",
              "      </button>\n",
              "      \n",
              "  <style>\n",
              "    .colab-df-container {\n",
              "      display:flex;\n",
              "      flex-wrap:wrap;\n",
              "      gap: 12px;\n",
              "    }\n",
              "\n",
              "    .colab-df-convert {\n",
              "      background-color: #E8F0FE;\n",
              "      border: none;\n",
              "      border-radius: 50%;\n",
              "      cursor: pointer;\n",
              "      display: none;\n",
              "      fill: #1967D2;\n",
              "      height: 32px;\n",
              "      padding: 0 0 0 0;\n",
              "      width: 32px;\n",
              "    }\n",
              "\n",
              "    .colab-df-convert:hover {\n",
              "      background-color: #E2EBFA;\n",
              "      box-shadow: 0px 1px 2px rgba(60, 64, 67, 0.3), 0px 1px 3px 1px rgba(60, 64, 67, 0.15);\n",
              "      fill: #174EA6;\n",
              "    }\n",
              "\n",
              "    [theme=dark] .colab-df-convert {\n",
              "      background-color: #3B4455;\n",
              "      fill: #D2E3FC;\n",
              "    }\n",
              "\n",
              "    [theme=dark] .colab-df-convert:hover {\n",
              "      background-color: #434B5C;\n",
              "      box-shadow: 0px 1px 3px 1px rgba(0, 0, 0, 0.15);\n",
              "      filter: drop-shadow(0px 1px 2px rgba(0, 0, 0, 0.3));\n",
              "      fill: #FFFFFF;\n",
              "    }\n",
              "  </style>\n",
              "\n",
              "      <script>\n",
              "        const buttonEl =\n",
              "          document.querySelector('#df-d13ab326-95dc-4a21-8bc5-41a1e346c6e0 button.colab-df-convert');\n",
              "        buttonEl.style.display =\n",
              "          google.colab.kernel.accessAllowed ? 'block' : 'none';\n",
              "\n",
              "        async function convertToInteractive(key) {\n",
              "          const element = document.querySelector('#df-d13ab326-95dc-4a21-8bc5-41a1e346c6e0');\n",
              "          const dataTable =\n",
              "            await google.colab.kernel.invokeFunction('convertToInteractive',\n",
              "                                                     [key], {});\n",
              "          if (!dataTable) return;\n",
              "\n",
              "          const docLinkHtml = 'Like what you see? Visit the ' +\n",
              "            '<a target=\"_blank\" href=https://colab.research.google.com/notebooks/data_table.ipynb>data table notebook</a>'\n",
              "            + ' to learn more about interactive tables.';\n",
              "          element.innerHTML = '';\n",
              "          dataTable['output_type'] = 'display_data';\n",
              "          await google.colab.output.renderOutput(dataTable, element);\n",
              "          const docLink = document.createElement('div');\n",
              "          docLink.innerHTML = docLinkHtml;\n",
              "          element.appendChild(docLink);\n",
              "        }\n",
              "      </script>\n",
              "    </div>\n",
              "  </div>\n",
              "  "
            ]
          },
          "metadata": {},
          "execution_count": 5
        }
      ]
    },
    {
      "cell_type": "markdown",
      "source": [
        "# Convert category into numerical label"
      ],
      "metadata": {
        "id": "_93zx8f7JG5q"
      }
    },
    {
      "cell_type": "code",
      "source": [
        "df.category = pd.Categorical(df.category)\n",
        "df['label'] = df.category.cat.codes\n",
        "df.head()"
      ],
      "metadata": {
        "colab": {
          "base_uri": "https://localhost:8080/",
          "height": 206
        },
        "id": "kTD5JpmhIAi7",
        "outputId": "fb9308c1-766b-4a48-db15-90d4856859b6"
      },
      "execution_count": 6,
      "outputs": [
        {
          "output_type": "execute_result",
          "data": {
            "text/plain": [
              "        category                                               text  label\n",
              "0           tech  tv future in the hands of viewers with home th...      4\n",
              "1       business  worldcom boss  left books alone  former worldc...      0\n",
              "2          sport  tigers wary of farrell  gamble  leicester say ...      3\n",
              "3          sport  yeading face newcastle in fa cup premiership s...      3\n",
              "4  entertainment  ocean s twelve raids box office ocean s twelve...      1"
            ],
            "text/html": [
              "\n",
              "  <div id=\"df-36c9caa0-cf07-4f49-a4d7-c23b35d85df8\">\n",
              "    <div class=\"colab-df-container\">\n",
              "      <div>\n",
              "<style scoped>\n",
              "    .dataframe tbody tr th:only-of-type {\n",
              "        vertical-align: middle;\n",
              "    }\n",
              "\n",
              "    .dataframe tbody tr th {\n",
              "        vertical-align: top;\n",
              "    }\n",
              "\n",
              "    .dataframe thead th {\n",
              "        text-align: right;\n",
              "    }\n",
              "</style>\n",
              "<table border=\"1\" class=\"dataframe\">\n",
              "  <thead>\n",
              "    <tr style=\"text-align: right;\">\n",
              "      <th></th>\n",
              "      <th>category</th>\n",
              "      <th>text</th>\n",
              "      <th>label</th>\n",
              "    </tr>\n",
              "  </thead>\n",
              "  <tbody>\n",
              "    <tr>\n",
              "      <th>0</th>\n",
              "      <td>tech</td>\n",
              "      <td>tv future in the hands of viewers with home th...</td>\n",
              "      <td>4</td>\n",
              "    </tr>\n",
              "    <tr>\n",
              "      <th>1</th>\n",
              "      <td>business</td>\n",
              "      <td>worldcom boss  left books alone  former worldc...</td>\n",
              "      <td>0</td>\n",
              "    </tr>\n",
              "    <tr>\n",
              "      <th>2</th>\n",
              "      <td>sport</td>\n",
              "      <td>tigers wary of farrell  gamble  leicester say ...</td>\n",
              "      <td>3</td>\n",
              "    </tr>\n",
              "    <tr>\n",
              "      <th>3</th>\n",
              "      <td>sport</td>\n",
              "      <td>yeading face newcastle in fa cup premiership s...</td>\n",
              "      <td>3</td>\n",
              "    </tr>\n",
              "    <tr>\n",
              "      <th>4</th>\n",
              "      <td>entertainment</td>\n",
              "      <td>ocean s twelve raids box office ocean s twelve...</td>\n",
              "      <td>1</td>\n",
              "    </tr>\n",
              "  </tbody>\n",
              "</table>\n",
              "</div>\n",
              "      <button class=\"colab-df-convert\" onclick=\"convertToInteractive('df-36c9caa0-cf07-4f49-a4d7-c23b35d85df8')\"\n",
              "              title=\"Convert this dataframe to an interactive table.\"\n",
              "              style=\"display:none;\">\n",
              "        \n",
              "  <svg xmlns=\"http://www.w3.org/2000/svg\" height=\"24px\"viewBox=\"0 0 24 24\"\n",
              "       width=\"24px\">\n",
              "    <path d=\"M0 0h24v24H0V0z\" fill=\"none\"/>\n",
              "    <path d=\"M18.56 5.44l.94 2.06.94-2.06 2.06-.94-2.06-.94-.94-2.06-.94 2.06-2.06.94zm-11 1L8.5 8.5l.94-2.06 2.06-.94-2.06-.94L8.5 2.5l-.94 2.06-2.06.94zm10 10l.94 2.06.94-2.06 2.06-.94-2.06-.94-.94-2.06-.94 2.06-2.06.94z\"/><path d=\"M17.41 7.96l-1.37-1.37c-.4-.4-.92-.59-1.43-.59-.52 0-1.04.2-1.43.59L10.3 9.45l-7.72 7.72c-.78.78-.78 2.05 0 2.83L4 21.41c.39.39.9.59 1.41.59.51 0 1.02-.2 1.41-.59l7.78-7.78 2.81-2.81c.8-.78.8-2.07 0-2.86zM5.41 20L4 18.59l7.72-7.72 1.47 1.35L5.41 20z\"/>\n",
              "  </svg>\n",
              "      </button>\n",
              "      \n",
              "  <style>\n",
              "    .colab-df-container {\n",
              "      display:flex;\n",
              "      flex-wrap:wrap;\n",
              "      gap: 12px;\n",
              "    }\n",
              "\n",
              "    .colab-df-convert {\n",
              "      background-color: #E8F0FE;\n",
              "      border: none;\n",
              "      border-radius: 50%;\n",
              "      cursor: pointer;\n",
              "      display: none;\n",
              "      fill: #1967D2;\n",
              "      height: 32px;\n",
              "      padding: 0 0 0 0;\n",
              "      width: 32px;\n",
              "    }\n",
              "\n",
              "    .colab-df-convert:hover {\n",
              "      background-color: #E2EBFA;\n",
              "      box-shadow: 0px 1px 2px rgba(60, 64, 67, 0.3), 0px 1px 3px 1px rgba(60, 64, 67, 0.15);\n",
              "      fill: #174EA6;\n",
              "    }\n",
              "\n",
              "    [theme=dark] .colab-df-convert {\n",
              "      background-color: #3B4455;\n",
              "      fill: #D2E3FC;\n",
              "    }\n",
              "\n",
              "    [theme=dark] .colab-df-convert:hover {\n",
              "      background-color: #434B5C;\n",
              "      box-shadow: 0px 1px 3px 1px rgba(0, 0, 0, 0.15);\n",
              "      filter: drop-shadow(0px 1px 2px rgba(0, 0, 0, 0.3));\n",
              "      fill: #FFFFFF;\n",
              "    }\n",
              "  </style>\n",
              "\n",
              "      <script>\n",
              "        const buttonEl =\n",
              "          document.querySelector('#df-36c9caa0-cf07-4f49-a4d7-c23b35d85df8 button.colab-df-convert');\n",
              "        buttonEl.style.display =\n",
              "          google.colab.kernel.accessAllowed ? 'block' : 'none';\n",
              "\n",
              "        async function convertToInteractive(key) {\n",
              "          const element = document.querySelector('#df-36c9caa0-cf07-4f49-a4d7-c23b35d85df8');\n",
              "          const dataTable =\n",
              "            await google.colab.kernel.invokeFunction('convertToInteractive',\n",
              "                                                     [key], {});\n",
              "          if (!dataTable) return;\n",
              "\n",
              "          const docLinkHtml = 'Like what you see? Visit the ' +\n",
              "            '<a target=\"_blank\" href=https://colab.research.google.com/notebooks/data_table.ipynb>data table notebook</a>'\n",
              "            + ' to learn more about interactive tables.';\n",
              "          element.innerHTML = '';\n",
              "          dataTable['output_type'] = 'display_data';\n",
              "          await google.colab.output.renderOutput(dataTable, element);\n",
              "          const docLink = document.createElement('div');\n",
              "          docLink.innerHTML = docLinkHtml;\n",
              "          element.appendChild(docLink);\n",
              "        }\n",
              "      </script>\n",
              "    </div>\n",
              "  </div>\n",
              "  "
            ]
          },
          "metadata": {},
          "execution_count": 6
        }
      ]
    },
    {
      "cell_type": "code",
      "source": [
        "df.info()"
      ],
      "metadata": {
        "id": "sq8WNPnAx4ex",
        "colab": {
          "base_uri": "https://localhost:8080/"
        },
        "outputId": "3be47915-1ae2-46e3-c533-f140fd6f2657"
      },
      "execution_count": 7,
      "outputs": [
        {
          "output_type": "stream",
          "name": "stdout",
          "text": [
            "<class 'pandas.core.frame.DataFrame'>\n",
            "RangeIndex: 2225 entries, 0 to 2224\n",
            "Data columns (total 3 columns):\n",
            " #   Column    Non-Null Count  Dtype   \n",
            "---  ------    --------------  -----   \n",
            " 0   category  2225 non-null   category\n",
            " 1   text      2225 non-null   object  \n",
            " 2   label     2225 non-null   int8    \n",
            "dtypes: category(1), int8(1), object(1)\n",
            "memory usage: 22.1+ KB\n"
          ]
        }
      ]
    },
    {
      "cell_type": "code",
      "source": [
        "df = df[['text', 'label']]"
      ],
      "metadata": {
        "id": "etA6SWtCIxnA"
      },
      "execution_count": 8,
      "outputs": []
    },
    {
      "cell_type": "markdown",
      "source": [
        "# Split into pandas train and test dataframes"
      ],
      "metadata": {
        "id": "0Y9PNkJ81OuY"
      }
    },
    {
      "cell_type": "code",
      "source": [
        "from sklearn.model_selection import train_test_split\n",
        "\n",
        "train, test = train_test_split(df, test_size=0.2)"
      ],
      "metadata": {
        "id": "ouHCHzKXx5aS"
      },
      "execution_count": 9,
      "outputs": []
    },
    {
      "cell_type": "code",
      "source": [
        "train = train.reset_index(drop=True)\n",
        "train"
      ],
      "metadata": {
        "id": "DzY2AJM2yJxy",
        "colab": {
          "base_uri": "https://localhost:8080/",
          "height": 424
        },
        "outputId": "ee0347fa-95bb-4273-ddc0-1491d2fe01b5"
      },
      "execution_count": 10,
      "outputs": [
        {
          "output_type": "execute_result",
          "data": {
            "text/plain": [
              "                                                   text  label\n",
              "0     wilkinson fit to face edinburgh england captai...      3\n",
              "1     bush website blocked outside us surfers outsid...      4\n",
              "2     china aviation seeks rescue deal scandal-hit j...      0\n",
              "3     fiat chief takes steering wheel the chief exec...      0\n",
              "4     brown  proud of economy record  gordon brown h...      2\n",
              "...                                                 ...    ...\n",
              "1775  csi shows give  unrealistic view  people have ...      1\n",
              "1776  telewest to challenge sky plus cable firm tele...      4\n",
              "1777  us  to raise tv indecency fines  us politician...      1\n",
              "1778  venezuela and china sign oil deal venezuelan p...      0\n",
              "1779  original exorcist to be screened the original ...      1\n",
              "\n",
              "[1780 rows x 2 columns]"
            ],
            "text/html": [
              "\n",
              "  <div id=\"df-d2644504-573a-4fb6-a709-ea4537c0f879\">\n",
              "    <div class=\"colab-df-container\">\n",
              "      <div>\n",
              "<style scoped>\n",
              "    .dataframe tbody tr th:only-of-type {\n",
              "        vertical-align: middle;\n",
              "    }\n",
              "\n",
              "    .dataframe tbody tr th {\n",
              "        vertical-align: top;\n",
              "    }\n",
              "\n",
              "    .dataframe thead th {\n",
              "        text-align: right;\n",
              "    }\n",
              "</style>\n",
              "<table border=\"1\" class=\"dataframe\">\n",
              "  <thead>\n",
              "    <tr style=\"text-align: right;\">\n",
              "      <th></th>\n",
              "      <th>text</th>\n",
              "      <th>label</th>\n",
              "    </tr>\n",
              "  </thead>\n",
              "  <tbody>\n",
              "    <tr>\n",
              "      <th>0</th>\n",
              "      <td>wilkinson fit to face edinburgh england captai...</td>\n",
              "      <td>3</td>\n",
              "    </tr>\n",
              "    <tr>\n",
              "      <th>1</th>\n",
              "      <td>bush website blocked outside us surfers outsid...</td>\n",
              "      <td>4</td>\n",
              "    </tr>\n",
              "    <tr>\n",
              "      <th>2</th>\n",
              "      <td>china aviation seeks rescue deal scandal-hit j...</td>\n",
              "      <td>0</td>\n",
              "    </tr>\n",
              "    <tr>\n",
              "      <th>3</th>\n",
              "      <td>fiat chief takes steering wheel the chief exec...</td>\n",
              "      <td>0</td>\n",
              "    </tr>\n",
              "    <tr>\n",
              "      <th>4</th>\n",
              "      <td>brown  proud of economy record  gordon brown h...</td>\n",
              "      <td>2</td>\n",
              "    </tr>\n",
              "    <tr>\n",
              "      <th>...</th>\n",
              "      <td>...</td>\n",
              "      <td>...</td>\n",
              "    </tr>\n",
              "    <tr>\n",
              "      <th>1775</th>\n",
              "      <td>csi shows give  unrealistic view  people have ...</td>\n",
              "      <td>1</td>\n",
              "    </tr>\n",
              "    <tr>\n",
              "      <th>1776</th>\n",
              "      <td>telewest to challenge sky plus cable firm tele...</td>\n",
              "      <td>4</td>\n",
              "    </tr>\n",
              "    <tr>\n",
              "      <th>1777</th>\n",
              "      <td>us  to raise tv indecency fines  us politician...</td>\n",
              "      <td>1</td>\n",
              "    </tr>\n",
              "    <tr>\n",
              "      <th>1778</th>\n",
              "      <td>venezuela and china sign oil deal venezuelan p...</td>\n",
              "      <td>0</td>\n",
              "    </tr>\n",
              "    <tr>\n",
              "      <th>1779</th>\n",
              "      <td>original exorcist to be screened the original ...</td>\n",
              "      <td>1</td>\n",
              "    </tr>\n",
              "  </tbody>\n",
              "</table>\n",
              "<p>1780 rows × 2 columns</p>\n",
              "</div>\n",
              "      <button class=\"colab-df-convert\" onclick=\"convertToInteractive('df-d2644504-573a-4fb6-a709-ea4537c0f879')\"\n",
              "              title=\"Convert this dataframe to an interactive table.\"\n",
              "              style=\"display:none;\">\n",
              "        \n",
              "  <svg xmlns=\"http://www.w3.org/2000/svg\" height=\"24px\"viewBox=\"0 0 24 24\"\n",
              "       width=\"24px\">\n",
              "    <path d=\"M0 0h24v24H0V0z\" fill=\"none\"/>\n",
              "    <path d=\"M18.56 5.44l.94 2.06.94-2.06 2.06-.94-2.06-.94-.94-2.06-.94 2.06-2.06.94zm-11 1L8.5 8.5l.94-2.06 2.06-.94-2.06-.94L8.5 2.5l-.94 2.06-2.06.94zm10 10l.94 2.06.94-2.06 2.06-.94-2.06-.94-.94-2.06-.94 2.06-2.06.94z\"/><path d=\"M17.41 7.96l-1.37-1.37c-.4-.4-.92-.59-1.43-.59-.52 0-1.04.2-1.43.59L10.3 9.45l-7.72 7.72c-.78.78-.78 2.05 0 2.83L4 21.41c.39.39.9.59 1.41.59.51 0 1.02-.2 1.41-.59l7.78-7.78 2.81-2.81c.8-.78.8-2.07 0-2.86zM5.41 20L4 18.59l7.72-7.72 1.47 1.35L5.41 20z\"/>\n",
              "  </svg>\n",
              "      </button>\n",
              "      \n",
              "  <style>\n",
              "    .colab-df-container {\n",
              "      display:flex;\n",
              "      flex-wrap:wrap;\n",
              "      gap: 12px;\n",
              "    }\n",
              "\n",
              "    .colab-df-convert {\n",
              "      background-color: #E8F0FE;\n",
              "      border: none;\n",
              "      border-radius: 50%;\n",
              "      cursor: pointer;\n",
              "      display: none;\n",
              "      fill: #1967D2;\n",
              "      height: 32px;\n",
              "      padding: 0 0 0 0;\n",
              "      width: 32px;\n",
              "    }\n",
              "\n",
              "    .colab-df-convert:hover {\n",
              "      background-color: #E2EBFA;\n",
              "      box-shadow: 0px 1px 2px rgba(60, 64, 67, 0.3), 0px 1px 3px 1px rgba(60, 64, 67, 0.15);\n",
              "      fill: #174EA6;\n",
              "    }\n",
              "\n",
              "    [theme=dark] .colab-df-convert {\n",
              "      background-color: #3B4455;\n",
              "      fill: #D2E3FC;\n",
              "    }\n",
              "\n",
              "    [theme=dark] .colab-df-convert:hover {\n",
              "      background-color: #434B5C;\n",
              "      box-shadow: 0px 1px 3px 1px rgba(0, 0, 0, 0.15);\n",
              "      filter: drop-shadow(0px 1px 2px rgba(0, 0, 0, 0.3));\n",
              "      fill: #FFFFFF;\n",
              "    }\n",
              "  </style>\n",
              "\n",
              "      <script>\n",
              "        const buttonEl =\n",
              "          document.querySelector('#df-d2644504-573a-4fb6-a709-ea4537c0f879 button.colab-df-convert');\n",
              "        buttonEl.style.display =\n",
              "          google.colab.kernel.accessAllowed ? 'block' : 'none';\n",
              "\n",
              "        async function convertToInteractive(key) {\n",
              "          const element = document.querySelector('#df-d2644504-573a-4fb6-a709-ea4537c0f879');\n",
              "          const dataTable =\n",
              "            await google.colab.kernel.invokeFunction('convertToInteractive',\n",
              "                                                     [key], {});\n",
              "          if (!dataTable) return;\n",
              "\n",
              "          const docLinkHtml = 'Like what you see? Visit the ' +\n",
              "            '<a target=\"_blank\" href=https://colab.research.google.com/notebooks/data_table.ipynb>data table notebook</a>'\n",
              "            + ' to learn more about interactive tables.';\n",
              "          element.innerHTML = '';\n",
              "          dataTable['output_type'] = 'display_data';\n",
              "          await google.colab.output.renderOutput(dataTable, element);\n",
              "          const docLink = document.createElement('div');\n",
              "          docLink.innerHTML = docLinkHtml;\n",
              "          element.appendChild(docLink);\n",
              "        }\n",
              "      </script>\n",
              "    </div>\n",
              "  </div>\n",
              "  "
            ]
          },
          "metadata": {},
          "execution_count": 10
        }
      ]
    },
    {
      "cell_type": "code",
      "source": [
        "test = test.reset_index(drop=True)\n",
        "test"
      ],
      "metadata": {
        "id": "86NAjP_P0urm",
        "colab": {
          "base_uri": "https://localhost:8080/",
          "height": 424
        },
        "outputId": "51c79548-6118-4bfc-f299-eab5719d15f0"
      },
      "execution_count": 11,
      "outputs": [
        {
          "output_type": "execute_result",
          "data": {
            "text/plain": [
              "                                                  text  label\n",
              "0    duran duran show set for us tv chart stars dur...      1\n",
              "1    hague s six-figure earnings shown the rewards ...      2\n",
              "2    dame julie pops in to see poppins mary poppins...      1\n",
              "3    robotic pods take on car design a new breed of...      4\n",
              "4    vera drake s bafta triumph hope at the bafta f...      1\n",
              "..                                                 ...    ...\n",
              "440  glaxo aims high after profit fall glaxosmithkl...      0\n",
              "441  latin america sees strong growth latin america...      0\n",
              "442  steel firm  to cut  45 000 jobs mittal steel  ...      0\n",
              "443  last star wars  not for children  the sixth an...      1\n",
              "444  podcasters  look to net money nasa is doing it...      4\n",
              "\n",
              "[445 rows x 2 columns]"
            ],
            "text/html": [
              "\n",
              "  <div id=\"df-d74271c5-5c2e-4179-b610-6e0ae08cf5cd\">\n",
              "    <div class=\"colab-df-container\">\n",
              "      <div>\n",
              "<style scoped>\n",
              "    .dataframe tbody tr th:only-of-type {\n",
              "        vertical-align: middle;\n",
              "    }\n",
              "\n",
              "    .dataframe tbody tr th {\n",
              "        vertical-align: top;\n",
              "    }\n",
              "\n",
              "    .dataframe thead th {\n",
              "        text-align: right;\n",
              "    }\n",
              "</style>\n",
              "<table border=\"1\" class=\"dataframe\">\n",
              "  <thead>\n",
              "    <tr style=\"text-align: right;\">\n",
              "      <th></th>\n",
              "      <th>text</th>\n",
              "      <th>label</th>\n",
              "    </tr>\n",
              "  </thead>\n",
              "  <tbody>\n",
              "    <tr>\n",
              "      <th>0</th>\n",
              "      <td>duran duran show set for us tv chart stars dur...</td>\n",
              "      <td>1</td>\n",
              "    </tr>\n",
              "    <tr>\n",
              "      <th>1</th>\n",
              "      <td>hague s six-figure earnings shown the rewards ...</td>\n",
              "      <td>2</td>\n",
              "    </tr>\n",
              "    <tr>\n",
              "      <th>2</th>\n",
              "      <td>dame julie pops in to see poppins mary poppins...</td>\n",
              "      <td>1</td>\n",
              "    </tr>\n",
              "    <tr>\n",
              "      <th>3</th>\n",
              "      <td>robotic pods take on car design a new breed of...</td>\n",
              "      <td>4</td>\n",
              "    </tr>\n",
              "    <tr>\n",
              "      <th>4</th>\n",
              "      <td>vera drake s bafta triumph hope at the bafta f...</td>\n",
              "      <td>1</td>\n",
              "    </tr>\n",
              "    <tr>\n",
              "      <th>...</th>\n",
              "      <td>...</td>\n",
              "      <td>...</td>\n",
              "    </tr>\n",
              "    <tr>\n",
              "      <th>440</th>\n",
              "      <td>glaxo aims high after profit fall glaxosmithkl...</td>\n",
              "      <td>0</td>\n",
              "    </tr>\n",
              "    <tr>\n",
              "      <th>441</th>\n",
              "      <td>latin america sees strong growth latin america...</td>\n",
              "      <td>0</td>\n",
              "    </tr>\n",
              "    <tr>\n",
              "      <th>442</th>\n",
              "      <td>steel firm  to cut  45 000 jobs mittal steel  ...</td>\n",
              "      <td>0</td>\n",
              "    </tr>\n",
              "    <tr>\n",
              "      <th>443</th>\n",
              "      <td>last star wars  not for children  the sixth an...</td>\n",
              "      <td>1</td>\n",
              "    </tr>\n",
              "    <tr>\n",
              "      <th>444</th>\n",
              "      <td>podcasters  look to net money nasa is doing it...</td>\n",
              "      <td>4</td>\n",
              "    </tr>\n",
              "  </tbody>\n",
              "</table>\n",
              "<p>445 rows × 2 columns</p>\n",
              "</div>\n",
              "      <button class=\"colab-df-convert\" onclick=\"convertToInteractive('df-d74271c5-5c2e-4179-b610-6e0ae08cf5cd')\"\n",
              "              title=\"Convert this dataframe to an interactive table.\"\n",
              "              style=\"display:none;\">\n",
              "        \n",
              "  <svg xmlns=\"http://www.w3.org/2000/svg\" height=\"24px\"viewBox=\"0 0 24 24\"\n",
              "       width=\"24px\">\n",
              "    <path d=\"M0 0h24v24H0V0z\" fill=\"none\"/>\n",
              "    <path d=\"M18.56 5.44l.94 2.06.94-2.06 2.06-.94-2.06-.94-.94-2.06-.94 2.06-2.06.94zm-11 1L8.5 8.5l.94-2.06 2.06-.94-2.06-.94L8.5 2.5l-.94 2.06-2.06.94zm10 10l.94 2.06.94-2.06 2.06-.94-2.06-.94-.94-2.06-.94 2.06-2.06.94z\"/><path d=\"M17.41 7.96l-1.37-1.37c-.4-.4-.92-.59-1.43-.59-.52 0-1.04.2-1.43.59L10.3 9.45l-7.72 7.72c-.78.78-.78 2.05 0 2.83L4 21.41c.39.39.9.59 1.41.59.51 0 1.02-.2 1.41-.59l7.78-7.78 2.81-2.81c.8-.78.8-2.07 0-2.86zM5.41 20L4 18.59l7.72-7.72 1.47 1.35L5.41 20z\"/>\n",
              "  </svg>\n",
              "      </button>\n",
              "      \n",
              "  <style>\n",
              "    .colab-df-container {\n",
              "      display:flex;\n",
              "      flex-wrap:wrap;\n",
              "      gap: 12px;\n",
              "    }\n",
              "\n",
              "    .colab-df-convert {\n",
              "      background-color: #E8F0FE;\n",
              "      border: none;\n",
              "      border-radius: 50%;\n",
              "      cursor: pointer;\n",
              "      display: none;\n",
              "      fill: #1967D2;\n",
              "      height: 32px;\n",
              "      padding: 0 0 0 0;\n",
              "      width: 32px;\n",
              "    }\n",
              "\n",
              "    .colab-df-convert:hover {\n",
              "      background-color: #E2EBFA;\n",
              "      box-shadow: 0px 1px 2px rgba(60, 64, 67, 0.3), 0px 1px 3px 1px rgba(60, 64, 67, 0.15);\n",
              "      fill: #174EA6;\n",
              "    }\n",
              "\n",
              "    [theme=dark] .colab-df-convert {\n",
              "      background-color: #3B4455;\n",
              "      fill: #D2E3FC;\n",
              "    }\n",
              "\n",
              "    [theme=dark] .colab-df-convert:hover {\n",
              "      background-color: #434B5C;\n",
              "      box-shadow: 0px 1px 3px 1px rgba(0, 0, 0, 0.15);\n",
              "      filter: drop-shadow(0px 1px 2px rgba(0, 0, 0, 0.3));\n",
              "      fill: #FFFFFF;\n",
              "    }\n",
              "  </style>\n",
              "\n",
              "      <script>\n",
              "        const buttonEl =\n",
              "          document.querySelector('#df-d74271c5-5c2e-4179-b610-6e0ae08cf5cd button.colab-df-convert');\n",
              "        buttonEl.style.display =\n",
              "          google.colab.kernel.accessAllowed ? 'block' : 'none';\n",
              "\n",
              "        async function convertToInteractive(key) {\n",
              "          const element = document.querySelector('#df-d74271c5-5c2e-4179-b610-6e0ae08cf5cd');\n",
              "          const dataTable =\n",
              "            await google.colab.kernel.invokeFunction('convertToInteractive',\n",
              "                                                     [key], {});\n",
              "          if (!dataTable) return;\n",
              "\n",
              "          const docLinkHtml = 'Like what you see? Visit the ' +\n",
              "            '<a target=\"_blank\" href=https://colab.research.google.com/notebooks/data_table.ipynb>data table notebook</a>'\n",
              "            + ' to learn more about interactive tables.';\n",
              "          element.innerHTML = '';\n",
              "          dataTable['output_type'] = 'display_data';\n",
              "          await google.colab.output.renderOutput(dataTable, element);\n",
              "          const docLink = document.createElement('div');\n",
              "          docLink.innerHTML = docLinkHtml;\n",
              "          element.appendChild(docLink);\n",
              "        }\n",
              "      </script>\n",
              "    </div>\n",
              "  </div>\n",
              "  "
            ]
          },
          "metadata": {},
          "execution_count": 11
        }
      ]
    },
    {
      "cell_type": "markdown",
      "source": [
        "# Convert from pandas dataframe to HF dataset"
      ],
      "metadata": {
        "id": "NHwWLBIL1afK"
      }
    },
    {
      "cell_type": "code",
      "source": [
        "from datasets import Dataset\n",
        "\n",
        "train_ds = Dataset.from_pandas(train)\n",
        "test_ds = Dataset.from_pandas(test)"
      ],
      "metadata": {
        "id": "7SIKApwSyLBq"
      },
      "execution_count": 12,
      "outputs": []
    },
    {
      "cell_type": "code",
      "source": [
        "train_ds"
      ],
      "metadata": {
        "id": "QgD7efFxz6kt",
        "colab": {
          "base_uri": "https://localhost:8080/"
        },
        "outputId": "2c17d80f-5284-4df6-b9cd-e2afbcb50460"
      },
      "execution_count": 13,
      "outputs": [
        {
          "output_type": "execute_result",
          "data": {
            "text/plain": [
              "Dataset({\n",
              "    features: ['text', 'label'],\n",
              "    num_rows: 1780\n",
              "})"
            ]
          },
          "metadata": {},
          "execution_count": 13
        }
      ]
    },
    {
      "cell_type": "code",
      "source": [
        "train_ds[:1]"
      ],
      "metadata": {
        "id": "QXgL7JiP1FmX",
        "colab": {
          "base_uri": "https://localhost:8080/"
        },
        "outputId": "c6eff64c-e528-4f16-ae5e-b4ddccaac487"
      },
      "execution_count": 14,
      "outputs": [
        {
          "output_type": "execute_result",
          "data": {
            "text/plain": [
              "{'label': [3],\n",
              " 'text': ['wilkinson fit to face edinburgh england captain jonny wilkinson will make his long-awaited return from injury against edinburgh on saturday.  wilkinson  who has not played since injuring his bicep on 17 october  took part in full-contact training with newcastle falcons on wednesday. and the 25-year-old fly-half will start saturday s heineken cup match at murrayfield on the bench. but newcastle director of rugby rob andrew said:  he s fine and we hope to get him into the game at some stage.  the 25-year-old missed england s autumn internationals after aggravating the haematoma in his upper right arm against saracens. he was subsequently replaced as england captain by full-back jason robinson. sale s charlie hodgson took over the number 10 shirt in the internationals against canada  south africa and australia. wilkinson s year has been disrupted by injury as his muscle problem followed eight months on the sidelines with a shoulder injury sustained in the world cup final.']}"
            ]
          },
          "metadata": {},
          "execution_count": 14
        }
      ]
    },
    {
      "cell_type": "code",
      "source": [
        "print(train_ds.features)"
      ],
      "metadata": {
        "id": "dnyLCMsR1CIb",
        "colab": {
          "base_uri": "https://localhost:8080/"
        },
        "outputId": "4283343e-eb5f-4dd5-d4eb-a8f56986986b"
      },
      "execution_count": 15,
      "outputs": [
        {
          "output_type": "stream",
          "name": "stdout",
          "text": [
            "{'text': Value(dtype='string', id=None), 'label': Value(dtype='int8', id=None)}\n"
          ]
        }
      ]
    },
    {
      "cell_type": "markdown",
      "source": [
        "# Tokenize the Whole Dataset: Train dataset and test dataset to have 2 more cols: ['category', 'text', 'input_ids', 'attention_mask']"
      ],
      "metadata": {
        "id": "RanQPjuO1kvp"
      }
    },
    {
      "cell_type": "code",
      "source": [
        "from transformers import AutoTokenizer\n",
        "\n",
        "model_ckpt = \"distilbert-base-uncased\"\n",
        "tokenizer = AutoTokenizer.from_pretrained(model_ckpt)"
      ],
      "metadata": {
        "id": "lpPx7BA610kv"
      },
      "execution_count": 16,
      "outputs": []
    },
    {
      "cell_type": "code",
      "source": [
        "def tokenize(batch):\n",
        "    return tokenizer(batch[\"text\"], padding=True, truncation=True)"
      ],
      "metadata": {
        "id": "s7kjRFFE1Dp3"
      },
      "execution_count": 17,
      "outputs": []
    },
    {
      "cell_type": "code",
      "source": [
        "print((tokenize(train_ds[:2])))"
      ],
      "metadata": {
        "id": "NadHmJ3l0JDF",
        "colab": {
          "base_uri": "https://localhost:8080/"
        },
        "outputId": "2ac7d646-9a9b-4256-97aa-10694e557883"
      },
      "execution_count": 18,
      "outputs": [
        {
          "output_type": "stream",
          "name": "stdout",
          "text": [
            "{'input_ids': [[101, 16237, 4906, 2000, 2227, 5928, 2563, 2952, 26937, 16237, 2097, 2191, 2010, 2146, 1011, 19605, 2709, 2013, 4544, 2114, 5928, 2006, 5095, 1012, 16237, 2040, 2038, 2025, 2209, 2144, 22736, 2010, 12170, 3401, 2361, 2006, 2459, 2255, 2165, 2112, 1999, 2440, 1011, 3967, 2731, 2007, 8142, 14929, 2006, 9317, 1012, 1998, 1996, 2423, 1011, 2095, 1011, 2214, 4875, 1011, 2431, 2097, 2707, 5095, 1055, 2002, 3170, 7520, 2452, 2674, 2012, 6264, 3790, 2006, 1996, 6847, 1012, 2021, 8142, 2472, 1997, 4043, 6487, 4080, 2056, 1024, 2002, 1055, 2986, 1998, 2057, 3246, 2000, 2131, 2032, 2046, 1996, 2208, 2012, 2070, 2754, 1012, 1996, 2423, 1011, 2095, 1011, 2214, 4771, 2563, 1055, 7114, 27340, 2044, 12943, 17643, 26477, 1996, 5292, 14545, 20389, 2050, 1999, 2010, 3356, 2157, 2849, 2114, 7354, 19023, 1012, 2002, 2001, 3525, 2999, 2004, 2563, 2952, 2011, 2440, 1011, 2067, 4463, 6157, 1012, 5096, 1055, 4918, 26107, 2165, 2058, 1996, 2193, 2184, 3797, 1999, 1996, 27340, 2114, 2710, 2148, 3088, 1998, 2660, 1012, 16237, 1055, 2095, 2038, 2042, 20275, 2011, 4544, 2004, 2010, 6740, 3291, 2628, 2809, 2706, 2006, 1996, 2217, 12735, 2007, 1037, 3244, 4544, 8760, 1999, 1996, 2088, 2452, 2345, 1012, 102, 0, 0, 0, 0, 0, 0, 0, 0, 0, 0, 0, 0, 0, 0, 0, 0, 0, 0, 0, 0, 0, 0, 0, 0, 0, 0, 0, 0, 0, 0, 0, 0, 0, 0, 0, 0, 0, 0, 0, 0, 0, 0, 0, 0, 0, 0, 0, 0, 0, 0, 0, 0, 0, 0, 0, 0, 0, 0, 0, 0, 0, 0, 0, 0, 0, 0, 0, 0, 0, 0, 0, 0, 0, 0, 0, 0, 0, 0, 0, 0, 0, 0, 0, 0, 0, 0, 0, 0, 0, 0, 0, 0, 0, 0, 0, 0, 0, 0, 0, 0, 0, 0, 0, 0, 0, 0, 0, 0, 0, 0, 0, 0, 0, 0, 0, 0, 0, 0, 0, 0, 0, 0, 0, 0, 0, 0, 0, 0, 0, 0, 0, 0, 0, 0, 0, 0, 0, 0, 0, 0, 0, 0, 0, 0, 0, 0, 0, 0, 0, 0, 0, 0, 0, 0, 0, 0, 0, 0, 0, 0, 0, 0, 0, 0, 0, 0, 0, 0, 0, 0, 0, 0, 0, 0, 0, 0, 0, 0, 0, 0, 0, 0, 0, 0, 0, 0, 0, 0, 0, 0, 0, 0, 0, 0, 0, 0, 0, 0, 0, 0, 0, 0, 0, 0, 0, 0, 0, 0, 0, 0], [101, 5747, 4037, 8534, 2648, 2149, 27747, 2015, 2648, 1996, 2149, 2031, 2042, 4039, 2000, 3942, 1996, 2880, 2128, 1011, 2602, 2609, 1997, 2343, 2577, 1059, 5747, 1012, 1996, 10851, 1997, 16602, 2015, 28603, 2648, 1996, 2149, 2211, 1999, 1996, 2220, 2847, 1997, 6928, 2851, 1012, 2144, 2059, 2111, 2648, 1996, 2149, 2667, 2000, 11347, 2063, 1996, 2609, 2131, 1037, 4471, 3038, 2027, 2024, 2025, 19256, 2000, 3193, 2009, 1012, 1996, 10851, 2515, 2025, 3711, 2000, 2022, 2349, 2000, 2019, 2886, 2011, 3158, 9305, 2015, 2030, 24391, 23307, 2015, 2021, 2004, 1037, 2765, 1997, 1037, 3343, 3247, 2011, 1996, 5747, 3409, 1012, 1996, 2248, 15945, 4224, 2105, 2577, 2860, 22427, 1012, 4012, 2001, 7282, 2011, 5658, 8822, 3813, 5658, 10419, 2029, 7906, 2019, 3239, 2006, 4026, 7060, 2408, 2116, 2367, 4573, 1012, 5658, 10419, 2056, 2008, 2144, 1996, 2220, 2847, 1997, 2423, 2255, 4740, 2000, 3193, 1996, 2609, 2083, 2049, 8822, 3703, 1999, 2414, 7598, 1998, 3994, 3478, 1012, 2011, 5688, 5658, 10419, 1055, 2176, 8822, 3703, 1999, 1996, 2149, 3266, 2000, 3193, 1996, 2609, 2007, 2053, 3471, 1012, 1996, 2609, 2064, 2145, 2022, 2464, 2478, 10812, 24540, 2578, 2008, 2024, 2241, 1999, 1996, 2149, 1012, 2070, 4773, 5198, 1999, 2710, 2036, 3189, 2008, 2027, 2064, 11347, 2063, 1996, 2609, 1012, 1996, 5418, 1997, 4026, 2000, 1996, 4037, 6083, 2008, 1996, 10851, 2001, 2025, 2349, 2000, 2019, 2886, 2011, 3158, 9305, 2015, 2030, 10317, 12774, 23307, 2015, 1012, 9183, 10851, 2573, 2138, 1996, 15973, 11596, 2008, 1996, 5658, 3594, 2000, 22933, 2993, 2024, 4375, 2041, 2006, 1037, 3164, 3978, 1012, 2006, 2538, 2255, 1996, 2577, 1059, 5747, 4037, 2211, 2478, 1996, 2578, 1997, 1037, 2194, 2170, 9875, 2863, 2072, 2000, 5676, 2008, 1996, 5530, 6876, 1998, 2060, 4180, 2006, 2049, 2609, 6561, 5731, 1012, 3505, 3653, 4674, 5558, 7295, 2343, 1997, 5658, 10419, 15520, 2008, 1996, 10851, 3247, 2453, 2031, 2042, 2579, 2000, 3013, 5366, 1998, 4026, 1999, 1996, 2448, 1011, 2039, 2000, 1996, 2602, 2006, 1016, 2281, 1012, 2002, 2056, 1996, 2609, 2089, 2156, 2053, 3114, 2000, 16062, 4180, 2000, 2111, 2040, 2097, 2025, 2022, 6830, 2279, 2733, 1012, 6605, 4026, 2071, 2036, 2022, 1037, 2204, 2126, 2000, 5676, 2008, 1996, 2609, 12237, 2551, 1999, 1996, 5494, 2420, 1997, 1996, 2602, 3049, 1012, 2174, 3432, 10851, 2512, 1011, 2149, 5731, 2036, 2965, 2008, 4841, 6931, 2024, 15605, 2205, 1012, 9875, 2863, 2072, 6430, 2000, 7615, 3038, 2009, 2071, 2025, 2831, 2055, 8013, 11744, 1012, 102]], 'attention_mask': [[1, 1, 1, 1, 1, 1, 1, 1, 1, 1, 1, 1, 1, 1, 1, 1, 1, 1, 1, 1, 1, 1, 1, 1, 1, 1, 1, 1, 1, 1, 1, 1, 1, 1, 1, 1, 1, 1, 1, 1, 1, 1, 1, 1, 1, 1, 1, 1, 1, 1, 1, 1, 1, 1, 1, 1, 1, 1, 1, 1, 1, 1, 1, 1, 1, 1, 1, 1, 1, 1, 1, 1, 1, 1, 1, 1, 1, 1, 1, 1, 1, 1, 1, 1, 1, 1, 1, 1, 1, 1, 1, 1, 1, 1, 1, 1, 1, 1, 1, 1, 1, 1, 1, 1, 1, 1, 1, 1, 1, 1, 1, 1, 1, 1, 1, 1, 1, 1, 1, 1, 1, 1, 1, 1, 1, 1, 1, 1, 1, 1, 1, 1, 1, 1, 1, 1, 1, 1, 1, 1, 1, 1, 1, 1, 1, 1, 1, 1, 1, 1, 1, 1, 1, 1, 1, 1, 1, 1, 1, 1, 1, 1, 1, 1, 1, 1, 1, 1, 1, 1, 1, 1, 1, 1, 1, 1, 1, 1, 1, 1, 1, 1, 1, 1, 1, 1, 1, 1, 1, 1, 1, 1, 1, 1, 1, 1, 0, 0, 0, 0, 0, 0, 0, 0, 0, 0, 0, 0, 0, 0, 0, 0, 0, 0, 0, 0, 0, 0, 0, 0, 0, 0, 0, 0, 0, 0, 0, 0, 0, 0, 0, 0, 0, 0, 0, 0, 0, 0, 0, 0, 0, 0, 0, 0, 0, 0, 0, 0, 0, 0, 0, 0, 0, 0, 0, 0, 0, 0, 0, 0, 0, 0, 0, 0, 0, 0, 0, 0, 0, 0, 0, 0, 0, 0, 0, 0, 0, 0, 0, 0, 0, 0, 0, 0, 0, 0, 0, 0, 0, 0, 0, 0, 0, 0, 0, 0, 0, 0, 0, 0, 0, 0, 0, 0, 0, 0, 0, 0, 0, 0, 0, 0, 0, 0, 0, 0, 0, 0, 0, 0, 0, 0, 0, 0, 0, 0, 0, 0, 0, 0, 0, 0, 0, 0, 0, 0, 0, 0, 0, 0, 0, 0, 0, 0, 0, 0, 0, 0, 0, 0, 0, 0, 0, 0, 0, 0, 0, 0, 0, 0, 0, 0, 0, 0, 0, 0, 0, 0, 0, 0, 0, 0, 0, 0, 0, 0, 0, 0, 0, 0, 0, 0, 0, 0, 0, 0, 0, 0, 0, 0, 0, 0, 0, 0, 0, 0, 0, 0, 0, 0, 0, 0, 0, 0, 0, 0], [1, 1, 1, 1, 1, 1, 1, 1, 1, 1, 1, 1, 1, 1, 1, 1, 1, 1, 1, 1, 1, 1, 1, 1, 1, 1, 1, 1, 1, 1, 1, 1, 1, 1, 1, 1, 1, 1, 1, 1, 1, 1, 1, 1, 1, 1, 1, 1, 1, 1, 1, 1, 1, 1, 1, 1, 1, 1, 1, 1, 1, 1, 1, 1, 1, 1, 1, 1, 1, 1, 1, 1, 1, 1, 1, 1, 1, 1, 1, 1, 1, 1, 1, 1, 1, 1, 1, 1, 1, 1, 1, 1, 1, 1, 1, 1, 1, 1, 1, 1, 1, 1, 1, 1, 1, 1, 1, 1, 1, 1, 1, 1, 1, 1, 1, 1, 1, 1, 1, 1, 1, 1, 1, 1, 1, 1, 1, 1, 1, 1, 1, 1, 1, 1, 1, 1, 1, 1, 1, 1, 1, 1, 1, 1, 1, 1, 1, 1, 1, 1, 1, 1, 1, 1, 1, 1, 1, 1, 1, 1, 1, 1, 1, 1, 1, 1, 1, 1, 1, 1, 1, 1, 1, 1, 1, 1, 1, 1, 1, 1, 1, 1, 1, 1, 1, 1, 1, 1, 1, 1, 1, 1, 1, 1, 1, 1, 1, 1, 1, 1, 1, 1, 1, 1, 1, 1, 1, 1, 1, 1, 1, 1, 1, 1, 1, 1, 1, 1, 1, 1, 1, 1, 1, 1, 1, 1, 1, 1, 1, 1, 1, 1, 1, 1, 1, 1, 1, 1, 1, 1, 1, 1, 1, 1, 1, 1, 1, 1, 1, 1, 1, 1, 1, 1, 1, 1, 1, 1, 1, 1, 1, 1, 1, 1, 1, 1, 1, 1, 1, 1, 1, 1, 1, 1, 1, 1, 1, 1, 1, 1, 1, 1, 1, 1, 1, 1, 1, 1, 1, 1, 1, 1, 1, 1, 1, 1, 1, 1, 1, 1, 1, 1, 1, 1, 1, 1, 1, 1, 1, 1, 1, 1, 1, 1, 1, 1, 1, 1, 1, 1, 1, 1, 1, 1, 1, 1, 1, 1, 1, 1, 1, 1, 1, 1, 1, 1, 1, 1, 1, 1, 1, 1, 1, 1, 1, 1, 1, 1, 1, 1, 1, 1, 1, 1, 1, 1, 1, 1, 1, 1, 1, 1, 1, 1, 1, 1, 1, 1, 1, 1, 1, 1, 1, 1, 1, 1, 1, 1, 1, 1, 1, 1, 1, 1, 1, 1, 1, 1, 1, 1, 1, 1, 1, 1, 1, 1, 1, 1, 1, 1, 1, 1, 1, 1, 1, 1]]}\n"
          ]
        }
      ]
    },
    {
      "cell_type": "code",
      "source": [
        "train_encoded = train_ds.map(tokenize, batched=True, batch_size=None)"
      ],
      "metadata": {
        "id": "5C4oqF9u1tc7",
        "colab": {
          "base_uri": "https://localhost:8080/",
          "height": 86,
          "referenced_widgets": [
            "c8486113af144e8eb4d084cd33b62246",
            "61669dcb432e43a387abd71228d23661",
            "e2abaa1a4af14271bdd142936360d337",
            "e1b01fe0f01d4bdea297bfecff7a685e",
            "1d9644bba0cd4fd6bef356d7d263b066",
            "f75ca9bbaa3f45ba99aa31a0ffce0dca",
            "d401b6821a2b4b9896859659d500da4f",
            "fd3a368265e340e69127928cbaf827ce",
            "4f57b2b6500e4537b90af0eaa3b71f85",
            "1293765074064fa098553af210e0c671",
            "8c7ade1bebd04a718a1d141fe27ab4d7"
          ]
        },
        "outputId": "778b9a7d-dc66-4973-8a3f-41c6833cfe44"
      },
      "execution_count": 19,
      "outputs": [
        {
          "output_type": "stream",
          "name": "stderr",
          "text": [
            "Parameter 'function'=<function tokenize at 0x7f8be5ade5f0> of the transform datasets.arrow_dataset.Dataset._map_single couldn't be hashed properly, a random hash was used instead. Make sure your transforms and parameters are serializable with pickle or dill for the dataset fingerprinting and caching to work. If you reuse this transform, the caching mechanism will consider it to be different from the previous calls and recompute everything. This warning is only showed once. Subsequent hashing failures won't be showed.\n"
          ]
        },
        {
          "output_type": "display_data",
          "data": {
            "text/plain": [
              "  0%|          | 0/1 [00:00<?, ?ba/s]"
            ],
            "application/vnd.jupyter.widget-view+json": {
              "version_major": 2,
              "version_minor": 0,
              "model_id": "c8486113af144e8eb4d084cd33b62246"
            }
          },
          "metadata": {}
        }
      ]
    },
    {
      "cell_type": "code",
      "source": [
        "print(train_encoded.column_names)"
      ],
      "metadata": {
        "id": "47oBKhId2RVs",
        "colab": {
          "base_uri": "https://localhost:8080/"
        },
        "outputId": "279a6ba8-78a3-4a5e-ca56-eeb6a783bef5"
      },
      "execution_count": 20,
      "outputs": [
        {
          "output_type": "stream",
          "name": "stdout",
          "text": [
            "['text', 'label', 'input_ids', 'attention_mask']\n"
          ]
        }
      ]
    },
    {
      "cell_type": "code",
      "source": [
        "test_encoded = test_ds.map(tokenize, batched=True, batch_size=None)\n",
        "print(test_encoded.column_names)"
      ],
      "metadata": {
        "id": "Ise-hhrc2Vc7",
        "colab": {
          "base_uri": "https://localhost:8080/",
          "height": 66,
          "referenced_widgets": [
            "ac5286ab10984249a30b2fc2365dfcd1",
            "22999b57bc5843de9ef743e2387822ff",
            "cfdb88ed92b5491bb5389bca0b48e3bf",
            "20aadc161ea6439296e559c602d968f9",
            "7cd8934fa5bf40d1bea78d930e5bfa24",
            "48c703adad224173a22455395dfaa147",
            "8ff67a6d65e3436e99e1141911a27713",
            "899840f0c5dc40379b4c71c945b51698",
            "2b0839ba85264f2db29c46162844f58a",
            "ae177a4b6f3347e088e5b91ced52e428",
            "6b7f87d053554659b6d9dbdb50d4e9a5"
          ]
        },
        "outputId": "bc604f74-03d2-4d91-b2b2-930d1113cf7e"
      },
      "execution_count": 21,
      "outputs": [
        {
          "output_type": "display_data",
          "data": {
            "text/plain": [
              "  0%|          | 0/1 [00:00<?, ?ba/s]"
            ],
            "application/vnd.jupyter.widget-view+json": {
              "version_major": 2,
              "version_minor": 0,
              "model_id": "ac5286ab10984249a30b2fc2365dfcd1"
            }
          },
          "metadata": {}
        },
        {
          "output_type": "stream",
          "name": "stdout",
          "text": [
            "['text', 'label', 'input_ids', 'attention_mask']\n"
          ]
        }
      ]
    },
    {
      "cell_type": "markdown",
      "source": [
        "# Fine-Tuning Transformers\n",
        "* Load a pretrained model\n",
        "* Defining the performance metrics\n",
        "* Define training hyperparameters\n",
        "* Create Trainer\n",
        "* Get the predictions on the test dataset\n",
        "* Save trained model\n",
        "* Load a saved model in local for prediction\n",
        "* Plot confusion matrix for model performance evaluation\n",
        "* Error Analysis: sort the validation samples by the model loss: highest and lowest loss"
      ],
      "metadata": {
        "id": "zt37TIIL2nf2"
      }
    },
    {
      "cell_type": "markdown",
      "source": [
        "## Load a pretrained model"
      ],
      "metadata": {
        "id": "8vsQBpSD3wkV"
      }
    },
    {
      "cell_type": "code",
      "source": [
        "from transformers import AutoModelForSequenceClassification\n",
        "\n",
        "num_labels = 5\n",
        "model = (AutoModelForSequenceClassification\n",
        "         .from_pretrained(model_ckpt, num_labels=num_labels))"
      ],
      "metadata": {
        "id": "E27PytF33v9Z",
        "colab": {
          "base_uri": "https://localhost:8080/"
        },
        "outputId": "fc437e0f-3372-4a22-adcf-ff21eb8fc0ec"
      },
      "execution_count": 22,
      "outputs": [
        {
          "output_type": "stream",
          "name": "stderr",
          "text": [
            "Some weights of the model checkpoint at distilbert-base-uncased were not used when initializing DistilBertForSequenceClassification: ['vocab_projector.weight', 'vocab_layer_norm.bias', 'vocab_transform.bias', 'vocab_transform.weight', 'vocab_layer_norm.weight', 'vocab_projector.bias']\n",
            "- This IS expected if you are initializing DistilBertForSequenceClassification from the checkpoint of a model trained on another task or with another architecture (e.g. initializing a BertForSequenceClassification model from a BertForPreTraining model).\n",
            "- This IS NOT expected if you are initializing DistilBertForSequenceClassification from the checkpoint of a model that you expect to be exactly identical (initializing a BertForSequenceClassification model from a BertForSequenceClassification model).\n",
            "Some weights of DistilBertForSequenceClassification were not initialized from the model checkpoint at distilbert-base-uncased and are newly initialized: ['classifier.weight', 'classifier.bias', 'pre_classifier.weight', 'pre_classifier.bias']\n",
            "You should probably TRAIN this model on a down-stream task to be able to use it for predictions and inference.\n"
          ]
        }
      ]
    },
    {
      "cell_type": "markdown",
      "source": [
        "## Defining the performance metrics"
      ],
      "metadata": {
        "id": "RpIEl17g4Bt_"
      }
    },
    {
      "cell_type": "code",
      "source": [
        "from sklearn.metrics import accuracy_score, f1_score\n",
        "\n",
        "def compute_metrics(pred):\n",
        "    labels = pred.label_ids\n",
        "    preds = pred.predictions.argmax(-1)\n",
        "    f1 = f1_score(labels, preds, average=\"weighted\")\n",
        "    acc = accuracy_score(labels, preds)\n",
        "    return {\"accuracy\": acc, \"f1\": f1}"
      ],
      "metadata": {
        "id": "qFByEpqt2h6h"
      },
      "execution_count": 23,
      "outputs": []
    },
    {
      "cell_type": "markdown",
      "source": [
        "## Define training hyperparameters"
      ],
      "metadata": {
        "id": "TjQ_EEy54GfO"
      }
    },
    {
      "cell_type": "code",
      "source": [
        "from transformers import Trainer, TrainingArguments\n",
        "\n",
        "batch_size = 32 # 64\n",
        "num_epochs = 1\n",
        "logging_steps = len(train_encoded) \n",
        "\n",
        "model_name = f\"{model_ckpt}-finetuned-classification\"\n",
        "training_args = TrainingArguments(output_dir=model_name,\n",
        "                                  num_train_epochs=num_epochs,\n",
        "                                  learning_rate=2e-5,\n",
        "                                  per_device_train_batch_size=batch_size,\n",
        "                                  per_device_eval_batch_size=batch_size,\n",
        "                                  weight_decay=0.01,\n",
        "                                  evaluation_strategy=\"epoch\",\n",
        "                                  disable_tqdm=False,\n",
        "                                  log_level=\"error\")"
      ],
      "metadata": {
        "id": "aL86vYiH4G6e"
      },
      "execution_count": 24,
      "outputs": []
    },
    {
      "cell_type": "markdown",
      "source": [
        "## Create Trainer"
      ],
      "metadata": {
        "id": "nG8hzp844XVE"
      }
    },
    {
      "cell_type": "code",
      "source": [
        "from transformers import Trainer\n",
        "\n",
        "trainer = Trainer(model=model, args=training_args, \n",
        "                  compute_metrics=compute_metrics,\n",
        "                  train_dataset=train_encoded,\n",
        "                  eval_dataset=test_encoded,\n",
        "                  tokenizer=tokenizer)"
      ],
      "metadata": {
        "id": "gQAgPnur4M7W"
      },
      "execution_count": 25,
      "outputs": []
    },
    {
      "cell_type": "markdown",
      "source": [
        "## Empty cuda memory if necessary"
      ],
      "metadata": {
        "id": "GrLxmPK4WWdZ"
      }
    },
    {
      "cell_type": "code",
      "source": [
        "# import torch\n",
        "# torch.cuda.empty_cache()"
      ],
      "metadata": {
        "id": "KM7KknqJFKMe"
      },
      "execution_count": 26,
      "outputs": []
    },
    {
      "cell_type": "code",
      "source": [
        "# !pip install GPUtil\n",
        "\n",
        "# import torch\n",
        "# from GPUtil import showUtilization as gpu_usage\n",
        "# from numba import cuda\n",
        "\n",
        "# def free_gpu_cache():\n",
        "#     print(\"Initial GPU Usage\")\n",
        "#     gpu_usage()                             \n",
        "\n",
        "#     torch.cuda.empty_cache()\n",
        "\n",
        "#     cuda.select_device(0)\n",
        "#     cuda.close()\n",
        "#     cuda.select_device(0)\n",
        "\n",
        "#     print(\"GPU Usage after emptying the cache\")\n",
        "#     gpu_usage()\n",
        "\n",
        "# free_gpu_cache() "
      ],
      "metadata": {
        "id": "4Os_blsFDIbV"
      },
      "execution_count": 27,
      "outputs": []
    },
    {
      "cell_type": "code",
      "source": [
        "trainer.train()"
      ],
      "metadata": {
        "id": "QJIwlEVU4dc-",
        "colab": {
          "base_uri": "https://localhost:8080/",
          "height": 283
        },
        "outputId": "c6a1294d-c8c7-40aa-d957-69e835c1543b"
      },
      "execution_count": 28,
      "outputs": [
        {
          "output_type": "stream",
          "name": "stderr",
          "text": [
            "/usr/local/lib/python3.7/dist-packages/transformers/optimization.py:310: FutureWarning: This implementation of AdamW is deprecated and will be removed in a future version. Use the PyTorch implementation torch.optim.AdamW instead, or set `no_deprecation_warning=True` to disable this warning\n",
            "  FutureWarning,\n",
            "\u001b[34m\u001b[1mwandb\u001b[0m: Currently logged in as: \u001b[33malinaz\u001b[0m. Use \u001b[1m`wandb login --relogin`\u001b[0m to force relogin\n"
          ]
        },
        {
          "output_type": "display_data",
          "data": {
            "text/plain": [
              "<IPython.core.display.HTML object>"
            ],
            "text/html": [
              "Tracking run with wandb version 0.12.20"
            ]
          },
          "metadata": {}
        },
        {
          "output_type": "display_data",
          "data": {
            "text/plain": [
              "<IPython.core.display.HTML object>"
            ],
            "text/html": [
              "Run data is saved locally in <code>/content/wandb/run-20220704_191433-1rca8w5n</code>"
            ]
          },
          "metadata": {}
        },
        {
          "output_type": "display_data",
          "data": {
            "text/plain": [
              "<IPython.core.display.HTML object>"
            ],
            "text/html": [
              "Syncing run <strong><a href=\"https://wandb.ai/alinaz/huggingface/runs/1rca8w5n\" target=\"_blank\">distilbert-base-uncased-finetuned-classification</a></strong> to <a href=\"https://wandb.ai/alinaz/huggingface\" target=\"_blank\">Weights & Biases</a> (<a href=\"https://wandb.me/run\" target=\"_blank\">docs</a>)<br/>"
            ]
          },
          "metadata": {}
        },
        {
          "output_type": "display_data",
          "data": {
            "text/plain": [
              "<IPython.core.display.HTML object>"
            ],
            "text/html": [
              "\n",
              "    <div>\n",
              "      \n",
              "      <progress value='56' max='56' style='width:300px; height:20px; vertical-align: middle;'></progress>\n",
              "      [56/56 01:33, Epoch 1/1]\n",
              "    </div>\n",
              "    <table border=\"1\" class=\"dataframe\">\n",
              "  <thead>\n",
              " <tr style=\"text-align: left;\">\n",
              "      <th>Epoch</th>\n",
              "      <th>Training Loss</th>\n",
              "      <th>Validation Loss</th>\n",
              "      <th>Accuracy</th>\n",
              "      <th>F1</th>\n",
              "    </tr>\n",
              "  </thead>\n",
              "  <tbody>\n",
              "    <tr>\n",
              "      <td>1</td>\n",
              "      <td>No log</td>\n",
              "      <td>0.707845</td>\n",
              "      <td>0.946067</td>\n",
              "      <td>0.946144</td>\n",
              "    </tr>\n",
              "  </tbody>\n",
              "</table><p>"
            ]
          },
          "metadata": {}
        },
        {
          "output_type": "execute_result",
          "data": {
            "text/plain": [
              "TrainOutput(global_step=56, training_loss=1.0569466182163783, metrics={'train_runtime': 101.7821, 'train_samples_per_second': 17.488, 'train_steps_per_second': 0.55, 'total_flos': 235804584652800.0, 'train_loss': 1.0569466182163783, 'epoch': 1.0})"
            ]
          },
          "metadata": {},
          "execution_count": 28
        }
      ]
    },
    {
      "cell_type": "markdown",
      "source": [
        "## Get the predictions on the validation set"
      ],
      "metadata": {
        "id": "huNkVMPc4jdZ"
      }
    },
    {
      "cell_type": "code",
      "source": [
        "preds_output = trainer.predict(test_encoded)"
      ],
      "metadata": {
        "id": "5SpsPxmX4gct",
        "colab": {
          "base_uri": "https://localhost:8080/",
          "height": 37
        },
        "outputId": "3ca99691-4035-4233-ea4c-e70a52529cc4"
      },
      "execution_count": 29,
      "outputs": [
        {
          "output_type": "display_data",
          "data": {
            "text/plain": [
              "<IPython.core.display.HTML object>"
            ],
            "text/html": [
              "\n",
              "    <div>\n",
              "      \n",
              "      <progress value='14' max='14' style='width:300px; height:20px; vertical-align: middle;'></progress>\n",
              "      [14/14 00:07]\n",
              "    </div>\n",
              "    "
            ]
          },
          "metadata": {}
        }
      ]
    },
    {
      "cell_type": "code",
      "source": [
        "preds_output.metrics"
      ],
      "metadata": {
        "id": "5HoIUfA54q6y",
        "colab": {
          "base_uri": "https://localhost:8080/"
        },
        "outputId": "0df1a5c3-5d33-445c-c1df-4e140865e38e"
      },
      "execution_count": 30,
      "outputs": [
        {
          "output_type": "execute_result",
          "data": {
            "text/plain": [
              "{'test_accuracy': 0.946067415730337,\n",
              " 'test_f1': 0.9461443547662537,\n",
              " 'test_loss': 0.7078450322151184,\n",
              " 'test_runtime': 8.0431,\n",
              " 'test_samples_per_second': 55.327,\n",
              " 'test_steps_per_second': 1.741}"
            ]
          },
          "metadata": {},
          "execution_count": 30
        }
      ]
    },
    {
      "cell_type": "markdown",
      "source": [
        "## Grid Search\n"
      ],
      "metadata": {
        "id": "lUpHT3SZQzNd"
      }
    },
    {
      "cell_type": "markdown",
      "source": [
        "## customer callback for training performance metrics"
      ],
      "metadata": {
        "id": "rhRZGCmPa6PK"
      }
    },
    {
      "cell_type": "code",
      "source": [
        "from transformers import TrainerCallback\n",
        "import copy\n",
        "\n",
        "class CustomCallback(TrainerCallback):\n",
        "    \n",
        "    def __init__(self, trainer) -> None:\n",
        "        super().__init__()\n",
        "        self._trainer = trainer\n",
        "    \n",
        "    def on_epoch_end(self, args, state, control, **kwargs):\n",
        "        if control.should_evaluate:\n",
        "            control_copy = copy.deepcopy(control)\n",
        "            self._trainer.evaluate(eval_dataset=self._trainer.train_dataset, metric_key_prefix=\"train\")\n",
        "            print(\"training performance metrics: \", control_copy)\n",
        "\n",
        "            return control_copy"
      ],
      "metadata": {
        "id": "4Z16VKOOa5Sq"
      },
      "execution_count": 31,
      "outputs": []
    },
    {
      "cell_type": "code",
      "source": [
        "class PrinterCallback(TrainerCallback):\n",
        "    def __init__(self, trainer) -> None:\n",
        "        super().__init__()\n",
        "        self._trainer = trainer\n",
        "\n",
        "    def on_log(self, args, state, control, logs=None, **kwargs):\n",
        "        _ = logs.pop(\"total_flos\", None)\n",
        "        if state.is_local_process_zero:\n",
        "            print(logs)\n",
        "\n",
        "        return logs"
      ],
      "metadata": {
        "id": "_D_pAFwHi9YG"
      },
      "execution_count": 32,
      "outputs": []
    },
    {
      "cell_type": "code",
      "source": [
        "## hyper-parameters\n",
        "## top 3 feature importance are: learning_rate > weight_decay > per_gpu_batch_size\n",
        "# {\n",
        "#   \"per_gpu_batch_size\": (16, 64),\n",
        "#   \"weight_decay\": (0, 0.3),\n",
        "#   \"learning_rate\": (1e-5, 5e-5),\n",
        "#   \"warmup_steps\": (0, 500),\n",
        "#   \"num_epochs\": (2, 5)\n",
        "#   \"batch_size\": (8, 16, 32, 64)\n",
        "# }\n",
        "\n",
        "grid = {\n",
        "  \"weight_decay\": (0.01, 0.3),\n",
        "  \"learning_rate\": (1e-5, 5e-5),\n",
        "  \"batch_size\": (8, 16)\n",
        "}"
      ],
      "metadata": {
        "id": "owlE-dihQxpT"
      },
      "execution_count": 33,
      "outputs": []
    },
    {
      "cell_type": "code",
      "source": [
        "grid_performance_list = []\n",
        "\n",
        "for wd in grid[\"weight_decay\"]:\n",
        "  for lr in grid[\"learning_rate\"]:\n",
        "    for bs in grid[\"batch_size\"]:\n",
        "      print(\"weight_decay: \",wd, \"\\n learning_rate: \",lr,\"\\n batch_size: \",bs)\n",
        "      training_args = TrainingArguments(output_dir=model_name,\n",
        "                                        num_train_epochs=2,\n",
        "                                        learning_rate=lr,\n",
        "                                        per_device_train_batch_size=bs,\n",
        "                                        per_device_eval_batch_size=bs,\n",
        "                                        weight_decay=wd,\n",
        "                                        evaluation_strategy=\"epoch\",\n",
        "                                        disable_tqdm=False,\n",
        "                                        log_level=\"error\")\n",
        "      \n",
        "      trainer = Trainer(model=model, args=training_args, \n",
        "                  compute_metrics=compute_metrics,\n",
        "                  train_dataset=train_encoded,\n",
        "                  eval_dataset=test_encoded,\n",
        "                  tokenizer=tokenizer)\n",
        "      \n",
        "      #trainer.add_callback(PrinterCallback(trainer)) \n",
        "\n",
        "      trainer.train()\n",
        "\n",
        "\n",
        "      preds_output = trainer.predict(test_encoded)\n",
        "      grid_performance = preds_output.metrics\n",
        "      grid_performance[\"weight_decay\"] = wd\n",
        "      grid_performance[\"learning_rate\"] = lr\n",
        "      grid_performance[\"batch_size\"] = bs\n",
        "      print(grid_performance)\n",
        "\n",
        "      grid_performance_list.append(grid_performance)\n",
        "\n",
        "print(grid_performance_list)\n",
        "    \n",
        "\n",
        "    "
      ],
      "metadata": {
        "colab": {
          "base_uri": "https://localhost:8080/",
          "height": 1000
        },
        "id": "zdErWQYDREGK",
        "outputId": "9379edd0-2342-4942-907d-2b00d4e2778d"
      },
      "execution_count": 34,
      "outputs": [
        {
          "output_type": "stream",
          "name": "stdout",
          "text": [
            "weight_decay:  0.01 \n",
            " learning_rate:  1e-05 \n",
            " batch_size:  8\n"
          ]
        },
        {
          "output_type": "stream",
          "name": "stderr",
          "text": [
            "/usr/local/lib/python3.7/dist-packages/transformers/optimization.py:310: FutureWarning: This implementation of AdamW is deprecated and will be removed in a future version. Use the PyTorch implementation torch.optim.AdamW instead, or set `no_deprecation_warning=True` to disable this warning\n",
            "  FutureWarning,\n"
          ]
        },
        {
          "output_type": "display_data",
          "data": {
            "text/plain": [
              "<IPython.core.display.HTML object>"
            ],
            "text/html": [
              "\n",
              "    <div>\n",
              "      \n",
              "      <progress value='446' max='446' style='width:300px; height:20px; vertical-align: middle;'></progress>\n",
              "      [446/446 03:20, Epoch 2/2]\n",
              "    </div>\n",
              "    <table border=\"1\" class=\"dataframe\">\n",
              "  <thead>\n",
              " <tr style=\"text-align: left;\">\n",
              "      <th>Epoch</th>\n",
              "      <th>Training Loss</th>\n",
              "      <th>Validation Loss</th>\n",
              "      <th>Accuracy</th>\n",
              "      <th>F1</th>\n",
              "    </tr>\n",
              "  </thead>\n",
              "  <tbody>\n",
              "    <tr>\n",
              "      <td>1</td>\n",
              "      <td>No log</td>\n",
              "      <td>0.131855</td>\n",
              "      <td>0.968539</td>\n",
              "      <td>0.968477</td>\n",
              "    </tr>\n",
              "    <tr>\n",
              "      <td>2</td>\n",
              "      <td>No log</td>\n",
              "      <td>0.100989</td>\n",
              "      <td>0.970787</td>\n",
              "      <td>0.970692</td>\n",
              "    </tr>\n",
              "  </tbody>\n",
              "</table><p>"
            ]
          },
          "metadata": {}
        },
        {
          "output_type": "display_data",
          "data": {
            "text/plain": [
              "<IPython.core.display.HTML object>"
            ],
            "text/html": [
              "\n",
              "    <div>\n",
              "      \n",
              "      <progress value='56' max='56' style='width:300px; height:20px; vertical-align: middle;'></progress>\n",
              "      [56/56 00:07]\n",
              "    </div>\n",
              "    "
            ]
          },
          "metadata": {}
        },
        {
          "output_type": "stream",
          "name": "stdout",
          "text": [
            "{'test_loss': 0.10098914802074432, 'test_accuracy': 0.9707865168539326, 'test_f1': 0.9706920472312108, 'test_runtime': 8.0817, 'test_samples_per_second': 55.062, 'test_steps_per_second': 6.929, 'weight_decay': 0.01, 'learning_rate': 1e-05, 'batch_size': 8}\n",
            "weight_decay:  0.01 \n",
            " learning_rate:  1e-05 \n",
            " batch_size:  16\n"
          ]
        },
        {
          "output_type": "stream",
          "name": "stderr",
          "text": [
            "/usr/local/lib/python3.7/dist-packages/transformers/optimization.py:310: FutureWarning: This implementation of AdamW is deprecated and will be removed in a future version. Use the PyTorch implementation torch.optim.AdamW instead, or set `no_deprecation_warning=True` to disable this warning\n",
            "  FutureWarning,\n"
          ]
        },
        {
          "output_type": "display_data",
          "data": {
            "text/plain": [
              "<IPython.core.display.HTML object>"
            ],
            "text/html": [
              "\n",
              "    <div>\n",
              "      \n",
              "      <progress value='224' max='224' style='width:300px; height:20px; vertical-align: middle;'></progress>\n",
              "      [224/224 03:11, Epoch 2/2]\n",
              "    </div>\n",
              "    <table border=\"1\" class=\"dataframe\">\n",
              "  <thead>\n",
              " <tr style=\"text-align: left;\">\n",
              "      <th>Epoch</th>\n",
              "      <th>Training Loss</th>\n",
              "      <th>Validation Loss</th>\n",
              "      <th>Accuracy</th>\n",
              "      <th>F1</th>\n",
              "    </tr>\n",
              "  </thead>\n",
              "  <tbody>\n",
              "    <tr>\n",
              "      <td>1</td>\n",
              "      <td>No log</td>\n",
              "      <td>0.076817</td>\n",
              "      <td>0.979775</td>\n",
              "      <td>0.979692</td>\n",
              "    </tr>\n",
              "    <tr>\n",
              "      <td>2</td>\n",
              "      <td>No log</td>\n",
              "      <td>0.082891</td>\n",
              "      <td>0.977528</td>\n",
              "      <td>0.977452</td>\n",
              "    </tr>\n",
              "  </tbody>\n",
              "</table><p>"
            ]
          },
          "metadata": {}
        },
        {
          "output_type": "display_data",
          "data": {
            "text/plain": [
              "<IPython.core.display.HTML object>"
            ],
            "text/html": [
              "\n",
              "    <div>\n",
              "      \n",
              "      <progress value='28' max='28' style='width:300px; height:20px; vertical-align: middle;'></progress>\n",
              "      [28/28 00:07]\n",
              "    </div>\n",
              "    "
            ]
          },
          "metadata": {}
        },
        {
          "output_type": "stream",
          "name": "stdout",
          "text": [
            "{'test_loss': 0.08289101719856262, 'test_accuracy': 0.9775280898876404, 'test_f1': 0.9774516559900344, 'test_runtime': 8.0565, 'test_samples_per_second': 55.235, 'test_steps_per_second': 3.475, 'weight_decay': 0.01, 'learning_rate': 1e-05, 'batch_size': 16}\n",
            "weight_decay:  0.01 \n",
            " learning_rate:  5e-05 \n",
            " batch_size:  8\n"
          ]
        },
        {
          "output_type": "stream",
          "name": "stderr",
          "text": [
            "/usr/local/lib/python3.7/dist-packages/transformers/optimization.py:310: FutureWarning: This implementation of AdamW is deprecated and will be removed in a future version. Use the PyTorch implementation torch.optim.AdamW instead, or set `no_deprecation_warning=True` to disable this warning\n",
            "  FutureWarning,\n"
          ]
        },
        {
          "output_type": "display_data",
          "data": {
            "text/plain": [
              "<IPython.core.display.HTML object>"
            ],
            "text/html": [
              "\n",
              "    <div>\n",
              "      \n",
              "      <progress value='446' max='446' style='width:300px; height:20px; vertical-align: middle;'></progress>\n",
              "      [446/446 03:20, Epoch 2/2]\n",
              "    </div>\n",
              "    <table border=\"1\" class=\"dataframe\">\n",
              "  <thead>\n",
              " <tr style=\"text-align: left;\">\n",
              "      <th>Epoch</th>\n",
              "      <th>Training Loss</th>\n",
              "      <th>Validation Loss</th>\n",
              "      <th>Accuracy</th>\n",
              "      <th>F1</th>\n",
              "    </tr>\n",
              "  </thead>\n",
              "  <tbody>\n",
              "    <tr>\n",
              "      <td>1</td>\n",
              "      <td>No log</td>\n",
              "      <td>0.186033</td>\n",
              "      <td>0.964045</td>\n",
              "      <td>0.964088</td>\n",
              "    </tr>\n",
              "    <tr>\n",
              "      <td>2</td>\n",
              "      <td>No log</td>\n",
              "      <td>0.188054</td>\n",
              "      <td>0.970787</td>\n",
              "      <td>0.970773</td>\n",
              "    </tr>\n",
              "  </tbody>\n",
              "</table><p>"
            ]
          },
          "metadata": {}
        },
        {
          "output_type": "display_data",
          "data": {
            "text/plain": [
              "<IPython.core.display.HTML object>"
            ],
            "text/html": [
              "\n",
              "    <div>\n",
              "      \n",
              "      <progress value='56' max='56' style='width:300px; height:20px; vertical-align: middle;'></progress>\n",
              "      [56/56 00:07]\n",
              "    </div>\n",
              "    "
            ]
          },
          "metadata": {}
        },
        {
          "output_type": "stream",
          "name": "stdout",
          "text": [
            "{'test_loss': 0.18805433809757233, 'test_accuracy': 0.9707865168539326, 'test_f1': 0.970773379330725, 'test_runtime': 8.037, 'test_samples_per_second': 55.369, 'test_steps_per_second': 6.968, 'weight_decay': 0.01, 'learning_rate': 5e-05, 'batch_size': 8}\n",
            "weight_decay:  0.01 \n",
            " learning_rate:  5e-05 \n",
            " batch_size:  16\n"
          ]
        },
        {
          "output_type": "stream",
          "name": "stderr",
          "text": [
            "/usr/local/lib/python3.7/dist-packages/transformers/optimization.py:310: FutureWarning: This implementation of AdamW is deprecated and will be removed in a future version. Use the PyTorch implementation torch.optim.AdamW instead, or set `no_deprecation_warning=True` to disable this warning\n",
            "  FutureWarning,\n"
          ]
        },
        {
          "output_type": "display_data",
          "data": {
            "text/plain": [
              "<IPython.core.display.HTML object>"
            ],
            "text/html": [
              "\n",
              "    <div>\n",
              "      \n",
              "      <progress value='224' max='224' style='width:300px; height:20px; vertical-align: middle;'></progress>\n",
              "      [224/224 03:11, Epoch 2/2]\n",
              "    </div>\n",
              "    <table border=\"1\" class=\"dataframe\">\n",
              "  <thead>\n",
              " <tr style=\"text-align: left;\">\n",
              "      <th>Epoch</th>\n",
              "      <th>Training Loss</th>\n",
              "      <th>Validation Loss</th>\n",
              "      <th>Accuracy</th>\n",
              "      <th>F1</th>\n",
              "    </tr>\n",
              "  </thead>\n",
              "  <tbody>\n",
              "    <tr>\n",
              "      <td>1</td>\n",
              "      <td>No log</td>\n",
              "      <td>0.251433</td>\n",
              "      <td>0.961798</td>\n",
              "      <td>0.961836</td>\n",
              "    </tr>\n",
              "    <tr>\n",
              "      <td>2</td>\n",
              "      <td>No log</td>\n",
              "      <td>0.186674</td>\n",
              "      <td>0.966292</td>\n",
              "      <td>0.966211</td>\n",
              "    </tr>\n",
              "  </tbody>\n",
              "</table><p>"
            ]
          },
          "metadata": {}
        },
        {
          "output_type": "display_data",
          "data": {
            "text/plain": [
              "<IPython.core.display.HTML object>"
            ],
            "text/html": [
              "\n",
              "    <div>\n",
              "      \n",
              "      <progress value='28' max='28' style='width:300px; height:20px; vertical-align: middle;'></progress>\n",
              "      [28/28 00:07]\n",
              "    </div>\n",
              "    "
            ]
          },
          "metadata": {}
        },
        {
          "output_type": "stream",
          "name": "stdout",
          "text": [
            "{'test_loss': 0.1866736263036728, 'test_accuracy': 0.9662921348314607, 'test_f1': 0.9662106759805906, 'test_runtime': 8.0646, 'test_samples_per_second': 55.179, 'test_steps_per_second': 3.472, 'weight_decay': 0.01, 'learning_rate': 5e-05, 'batch_size': 16}\n",
            "weight_decay:  0.3 \n",
            " learning_rate:  1e-05 \n",
            " batch_size:  8\n"
          ]
        },
        {
          "output_type": "stream",
          "name": "stderr",
          "text": [
            "/usr/local/lib/python3.7/dist-packages/transformers/optimization.py:310: FutureWarning: This implementation of AdamW is deprecated and will be removed in a future version. Use the PyTorch implementation torch.optim.AdamW instead, or set `no_deprecation_warning=True` to disable this warning\n",
            "  FutureWarning,\n"
          ]
        },
        {
          "output_type": "display_data",
          "data": {
            "text/plain": [
              "<IPython.core.display.HTML object>"
            ],
            "text/html": [
              "\n",
              "    <div>\n",
              "      \n",
              "      <progress value='446' max='446' style='width:300px; height:20px; vertical-align: middle;'></progress>\n",
              "      [446/446 03:20, Epoch 2/2]\n",
              "    </div>\n",
              "    <table border=\"1\" class=\"dataframe\">\n",
              "  <thead>\n",
              " <tr style=\"text-align: left;\">\n",
              "      <th>Epoch</th>\n",
              "      <th>Training Loss</th>\n",
              "      <th>Validation Loss</th>\n",
              "      <th>Accuracy</th>\n",
              "      <th>F1</th>\n",
              "    </tr>\n",
              "  </thead>\n",
              "  <tbody>\n",
              "    <tr>\n",
              "      <td>1</td>\n",
              "      <td>No log</td>\n",
              "      <td>0.199953</td>\n",
              "      <td>0.968539</td>\n",
              "      <td>0.968361</td>\n",
              "    </tr>\n",
              "    <tr>\n",
              "      <td>2</td>\n",
              "      <td>No log</td>\n",
              "      <td>0.223605</td>\n",
              "      <td>0.975281</td>\n",
              "      <td>0.975165</td>\n",
              "    </tr>\n",
              "  </tbody>\n",
              "</table><p>"
            ]
          },
          "metadata": {}
        },
        {
          "output_type": "display_data",
          "data": {
            "text/plain": [
              "<IPython.core.display.HTML object>"
            ],
            "text/html": [
              "\n",
              "    <div>\n",
              "      \n",
              "      <progress value='56' max='56' style='width:300px; height:20px; vertical-align: middle;'></progress>\n",
              "      [56/56 00:07]\n",
              "    </div>\n",
              "    "
            ]
          },
          "metadata": {}
        },
        {
          "output_type": "stream",
          "name": "stdout",
          "text": [
            "{'test_loss': 0.22360503673553467, 'test_accuracy': 0.9752808988764045, 'test_f1': 0.9751650778687984, 'test_runtime': 8.0485, 'test_samples_per_second': 55.29, 'test_steps_per_second': 6.958, 'weight_decay': 0.3, 'learning_rate': 1e-05, 'batch_size': 8}\n",
            "weight_decay:  0.3 \n",
            " learning_rate:  1e-05 \n",
            " batch_size:  16\n"
          ]
        },
        {
          "output_type": "stream",
          "name": "stderr",
          "text": [
            "/usr/local/lib/python3.7/dist-packages/transformers/optimization.py:310: FutureWarning: This implementation of AdamW is deprecated and will be removed in a future version. Use the PyTorch implementation torch.optim.AdamW instead, or set `no_deprecation_warning=True` to disable this warning\n",
            "  FutureWarning,\n"
          ]
        },
        {
          "output_type": "display_data",
          "data": {
            "text/plain": [
              "<IPython.core.display.HTML object>"
            ],
            "text/html": [
              "\n",
              "    <div>\n",
              "      \n",
              "      <progress value='224' max='224' style='width:300px; height:20px; vertical-align: middle;'></progress>\n",
              "      [224/224 03:11, Epoch 2/2]\n",
              "    </div>\n",
              "    <table border=\"1\" class=\"dataframe\">\n",
              "  <thead>\n",
              " <tr style=\"text-align: left;\">\n",
              "      <th>Epoch</th>\n",
              "      <th>Training Loss</th>\n",
              "      <th>Validation Loss</th>\n",
              "      <th>Accuracy</th>\n",
              "      <th>F1</th>\n",
              "    </tr>\n",
              "  </thead>\n",
              "  <tbody>\n",
              "    <tr>\n",
              "      <td>1</td>\n",
              "      <td>No log</td>\n",
              "      <td>0.281537</td>\n",
              "      <td>0.968539</td>\n",
              "      <td>0.968357</td>\n",
              "    </tr>\n",
              "    <tr>\n",
              "      <td>2</td>\n",
              "      <td>No log</td>\n",
              "      <td>0.266782</td>\n",
              "      <td>0.975281</td>\n",
              "      <td>0.975165</td>\n",
              "    </tr>\n",
              "  </tbody>\n",
              "</table><p>"
            ]
          },
          "metadata": {}
        },
        {
          "output_type": "display_data",
          "data": {
            "text/plain": [
              "<IPython.core.display.HTML object>"
            ],
            "text/html": [
              "\n",
              "    <div>\n",
              "      \n",
              "      <progress value='28' max='28' style='width:300px; height:20px; vertical-align: middle;'></progress>\n",
              "      [28/28 00:07]\n",
              "    </div>\n",
              "    "
            ]
          },
          "metadata": {}
        },
        {
          "output_type": "stream",
          "name": "stdout",
          "text": [
            "{'test_loss': 0.26678231358528137, 'test_accuracy': 0.9752808988764045, 'test_f1': 0.9751650778687984, 'test_runtime': 8.0372, 'test_samples_per_second': 55.368, 'test_steps_per_second': 3.484, 'weight_decay': 0.3, 'learning_rate': 1e-05, 'batch_size': 16}\n",
            "weight_decay:  0.3 \n",
            " learning_rate:  5e-05 \n",
            " batch_size:  8\n"
          ]
        },
        {
          "output_type": "stream",
          "name": "stderr",
          "text": [
            "/usr/local/lib/python3.7/dist-packages/transformers/optimization.py:310: FutureWarning: This implementation of AdamW is deprecated and will be removed in a future version. Use the PyTorch implementation torch.optim.AdamW instead, or set `no_deprecation_warning=True` to disable this warning\n",
            "  FutureWarning,\n"
          ]
        },
        {
          "output_type": "display_data",
          "data": {
            "text/plain": [
              "<IPython.core.display.HTML object>"
            ],
            "text/html": [
              "\n",
              "    <div>\n",
              "      \n",
              "      <progress value='446' max='446' style='width:300px; height:20px; vertical-align: middle;'></progress>\n",
              "      [446/446 03:20, Epoch 2/2]\n",
              "    </div>\n",
              "    <table border=\"1\" class=\"dataframe\">\n",
              "  <thead>\n",
              " <tr style=\"text-align: left;\">\n",
              "      <th>Epoch</th>\n",
              "      <th>Training Loss</th>\n",
              "      <th>Validation Loss</th>\n",
              "      <th>Accuracy</th>\n",
              "      <th>F1</th>\n",
              "    </tr>\n",
              "  </thead>\n",
              "  <tbody>\n",
              "    <tr>\n",
              "      <td>1</td>\n",
              "      <td>No log</td>\n",
              "      <td>0.428569</td>\n",
              "      <td>0.957303</td>\n",
              "      <td>0.957325</td>\n",
              "    </tr>\n",
              "    <tr>\n",
              "      <td>2</td>\n",
              "      <td>No log</td>\n",
              "      <td>0.267938</td>\n",
              "      <td>0.968539</td>\n",
              "      <td>0.968523</td>\n",
              "    </tr>\n",
              "  </tbody>\n",
              "</table><p>"
            ]
          },
          "metadata": {}
        },
        {
          "output_type": "display_data",
          "data": {
            "text/plain": [
              "<IPython.core.display.HTML object>"
            ],
            "text/html": [
              "\n",
              "    <div>\n",
              "      \n",
              "      <progress value='56' max='56' style='width:300px; height:20px; vertical-align: middle;'></progress>\n",
              "      [56/56 00:07]\n",
              "    </div>\n",
              "    "
            ]
          },
          "metadata": {}
        },
        {
          "output_type": "stream",
          "name": "stdout",
          "text": [
            "{'test_loss': 0.267937570810318, 'test_accuracy': 0.9685393258426966, 'test_f1': 0.968522736505308, 'test_runtime': 8.0472, 'test_samples_per_second': 55.299, 'test_steps_per_second': 6.959, 'weight_decay': 0.3, 'learning_rate': 5e-05, 'batch_size': 8}\n",
            "weight_decay:  0.3 \n",
            " learning_rate:  5e-05 \n",
            " batch_size:  16\n"
          ]
        },
        {
          "output_type": "stream",
          "name": "stderr",
          "text": [
            "/usr/local/lib/python3.7/dist-packages/transformers/optimization.py:310: FutureWarning: This implementation of AdamW is deprecated and will be removed in a future version. Use the PyTorch implementation torch.optim.AdamW instead, or set `no_deprecation_warning=True` to disable this warning\n",
            "  FutureWarning,\n"
          ]
        },
        {
          "output_type": "display_data",
          "data": {
            "text/plain": [
              "<IPython.core.display.HTML object>"
            ],
            "text/html": [
              "\n",
              "    <div>\n",
              "      \n",
              "      <progress value='224' max='224' style='width:300px; height:20px; vertical-align: middle;'></progress>\n",
              "      [224/224 03:11, Epoch 2/2]\n",
              "    </div>\n",
              "    <table border=\"1\" class=\"dataframe\">\n",
              "  <thead>\n",
              " <tr style=\"text-align: left;\">\n",
              "      <th>Epoch</th>\n",
              "      <th>Training Loss</th>\n",
              "      <th>Validation Loss</th>\n",
              "      <th>Accuracy</th>\n",
              "      <th>F1</th>\n",
              "    </tr>\n",
              "  </thead>\n",
              "  <tbody>\n",
              "    <tr>\n",
              "      <td>1</td>\n",
              "      <td>No log</td>\n",
              "      <td>0.282393</td>\n",
              "      <td>0.955056</td>\n",
              "      <td>0.955053</td>\n",
              "    </tr>\n",
              "    <tr>\n",
              "      <td>2</td>\n",
              "      <td>No log</td>\n",
              "      <td>0.286620</td>\n",
              "      <td>0.966292</td>\n",
              "      <td>0.966232</td>\n",
              "    </tr>\n",
              "  </tbody>\n",
              "</table><p>"
            ]
          },
          "metadata": {}
        },
        {
          "output_type": "display_data",
          "data": {
            "text/plain": [
              "<IPython.core.display.HTML object>"
            ],
            "text/html": [
              "\n",
              "    <div>\n",
              "      \n",
              "      <progress value='28' max='28' style='width:300px; height:20px; vertical-align: middle;'></progress>\n",
              "      [28/28 00:07]\n",
              "    </div>\n",
              "    "
            ]
          },
          "metadata": {}
        },
        {
          "output_type": "stream",
          "name": "stdout",
          "text": [
            "{'test_loss': 0.28661954402923584, 'test_accuracy': 0.9662921348314607, 'test_f1': 0.9662319815307369, 'test_runtime': 8.04, 'test_samples_per_second': 55.349, 'test_steps_per_second': 3.483, 'weight_decay': 0.3, 'learning_rate': 5e-05, 'batch_size': 16}\n",
            "[{'test_loss': 0.10098914802074432, 'test_accuracy': 0.9707865168539326, 'test_f1': 0.9706920472312108, 'test_runtime': 8.0817, 'test_samples_per_second': 55.062, 'test_steps_per_second': 6.929, 'weight_decay': 0.01, 'learning_rate': 1e-05, 'batch_size': 8}, {'test_loss': 0.08289101719856262, 'test_accuracy': 0.9775280898876404, 'test_f1': 0.9774516559900344, 'test_runtime': 8.0565, 'test_samples_per_second': 55.235, 'test_steps_per_second': 3.475, 'weight_decay': 0.01, 'learning_rate': 1e-05, 'batch_size': 16}, {'test_loss': 0.18805433809757233, 'test_accuracy': 0.9707865168539326, 'test_f1': 0.970773379330725, 'test_runtime': 8.037, 'test_samples_per_second': 55.369, 'test_steps_per_second': 6.968, 'weight_decay': 0.01, 'learning_rate': 5e-05, 'batch_size': 8}, {'test_loss': 0.1866736263036728, 'test_accuracy': 0.9662921348314607, 'test_f1': 0.9662106759805906, 'test_runtime': 8.0646, 'test_samples_per_second': 55.179, 'test_steps_per_second': 3.472, 'weight_decay': 0.01, 'learning_rate': 5e-05, 'batch_size': 16}, {'test_loss': 0.22360503673553467, 'test_accuracy': 0.9752808988764045, 'test_f1': 0.9751650778687984, 'test_runtime': 8.0485, 'test_samples_per_second': 55.29, 'test_steps_per_second': 6.958, 'weight_decay': 0.3, 'learning_rate': 1e-05, 'batch_size': 8}, {'test_loss': 0.26678231358528137, 'test_accuracy': 0.9752808988764045, 'test_f1': 0.9751650778687984, 'test_runtime': 8.0372, 'test_samples_per_second': 55.368, 'test_steps_per_second': 3.484, 'weight_decay': 0.3, 'learning_rate': 1e-05, 'batch_size': 16}, {'test_loss': 0.267937570810318, 'test_accuracy': 0.9685393258426966, 'test_f1': 0.968522736505308, 'test_runtime': 8.0472, 'test_samples_per_second': 55.299, 'test_steps_per_second': 6.959, 'weight_decay': 0.3, 'learning_rate': 5e-05, 'batch_size': 8}, {'test_loss': 0.28661954402923584, 'test_accuracy': 0.9662921348314607, 'test_f1': 0.9662319815307369, 'test_runtime': 8.04, 'test_samples_per_second': 55.349, 'test_steps_per_second': 3.483, 'weight_decay': 0.3, 'learning_rate': 5e-05, 'batch_size': 16}]\n"
          ]
        }
      ]
    },
    {
      "cell_type": "code",
      "source": [
        "print(grid_performance_list)"
      ],
      "metadata": {
        "colab": {
          "base_uri": "https://localhost:8080/"
        },
        "id": "WOdLUVQqwneN",
        "outputId": "28ba7765-22b8-40d8-f626-84321fd82323"
      },
      "execution_count": 35,
      "outputs": [
        {
          "output_type": "stream",
          "name": "stdout",
          "text": [
            "[{'test_loss': 0.10098914802074432, 'test_accuracy': 0.9707865168539326, 'test_f1': 0.9706920472312108, 'test_runtime': 8.0817, 'test_samples_per_second': 55.062, 'test_steps_per_second': 6.929, 'weight_decay': 0.01, 'learning_rate': 1e-05, 'batch_size': 8}, {'test_loss': 0.08289101719856262, 'test_accuracy': 0.9775280898876404, 'test_f1': 0.9774516559900344, 'test_runtime': 8.0565, 'test_samples_per_second': 55.235, 'test_steps_per_second': 3.475, 'weight_decay': 0.01, 'learning_rate': 1e-05, 'batch_size': 16}, {'test_loss': 0.18805433809757233, 'test_accuracy': 0.9707865168539326, 'test_f1': 0.970773379330725, 'test_runtime': 8.037, 'test_samples_per_second': 55.369, 'test_steps_per_second': 6.968, 'weight_decay': 0.01, 'learning_rate': 5e-05, 'batch_size': 8}, {'test_loss': 0.1866736263036728, 'test_accuracy': 0.9662921348314607, 'test_f1': 0.9662106759805906, 'test_runtime': 8.0646, 'test_samples_per_second': 55.179, 'test_steps_per_second': 3.472, 'weight_decay': 0.01, 'learning_rate': 5e-05, 'batch_size': 16}, {'test_loss': 0.22360503673553467, 'test_accuracy': 0.9752808988764045, 'test_f1': 0.9751650778687984, 'test_runtime': 8.0485, 'test_samples_per_second': 55.29, 'test_steps_per_second': 6.958, 'weight_decay': 0.3, 'learning_rate': 1e-05, 'batch_size': 8}, {'test_loss': 0.26678231358528137, 'test_accuracy': 0.9752808988764045, 'test_f1': 0.9751650778687984, 'test_runtime': 8.0372, 'test_samples_per_second': 55.368, 'test_steps_per_second': 3.484, 'weight_decay': 0.3, 'learning_rate': 1e-05, 'batch_size': 16}, {'test_loss': 0.267937570810318, 'test_accuracy': 0.9685393258426966, 'test_f1': 0.968522736505308, 'test_runtime': 8.0472, 'test_samples_per_second': 55.299, 'test_steps_per_second': 6.959, 'weight_decay': 0.3, 'learning_rate': 5e-05, 'batch_size': 8}, {'test_loss': 0.28661954402923584, 'test_accuracy': 0.9662921348314607, 'test_f1': 0.9662319815307369, 'test_runtime': 8.04, 'test_samples_per_second': 55.349, 'test_steps_per_second': 3.483, 'weight_decay': 0.3, 'learning_rate': 5e-05, 'batch_size': 16}]\n"
          ]
        }
      ]
    },
    {
      "cell_type": "code",
      "source": [
        "grid_df = pd.DataFrame(grid_performance_list)\n",
        "grid_df"
      ],
      "metadata": {
        "colab": {
          "base_uri": "https://localhost:8080/",
          "height": 364
        },
        "id": "EN3YY29YwrM6",
        "outputId": "9a8988bb-d7fc-4ca7-b5cc-93a3e00c44f2"
      },
      "execution_count": 36,
      "outputs": [
        {
          "output_type": "execute_result",
          "data": {
            "text/plain": [
              "   test_loss  test_accuracy   test_f1  test_runtime  test_samples_per_second  \\\n",
              "0   0.100989       0.970787  0.970692        8.0817                   55.062   \n",
              "1   0.082891       0.977528  0.977452        8.0565                   55.235   \n",
              "2   0.188054       0.970787  0.970773        8.0370                   55.369   \n",
              "3   0.186674       0.966292  0.966211        8.0646                   55.179   \n",
              "4   0.223605       0.975281  0.975165        8.0485                   55.290   \n",
              "5   0.266782       0.975281  0.975165        8.0372                   55.368   \n",
              "6   0.267938       0.968539  0.968523        8.0472                   55.299   \n",
              "7   0.286620       0.966292  0.966232        8.0400                   55.349   \n",
              "\n",
              "   test_steps_per_second  weight_decay  learning_rate  batch_size  \n",
              "0                  6.929          0.01        0.00001           8  \n",
              "1                  3.475          0.01        0.00001          16  \n",
              "2                  6.968          0.01        0.00005           8  \n",
              "3                  3.472          0.01        0.00005          16  \n",
              "4                  6.958          0.30        0.00001           8  \n",
              "5                  3.484          0.30        0.00001          16  \n",
              "6                  6.959          0.30        0.00005           8  \n",
              "7                  3.483          0.30        0.00005          16  "
            ],
            "text/html": [
              "\n",
              "  <div id=\"df-b6ca5886-2075-43e5-a725-0e32d2aefd0c\">\n",
              "    <div class=\"colab-df-container\">\n",
              "      <div>\n",
              "<style scoped>\n",
              "    .dataframe tbody tr th:only-of-type {\n",
              "        vertical-align: middle;\n",
              "    }\n",
              "\n",
              "    .dataframe tbody tr th {\n",
              "        vertical-align: top;\n",
              "    }\n",
              "\n",
              "    .dataframe thead th {\n",
              "        text-align: right;\n",
              "    }\n",
              "</style>\n",
              "<table border=\"1\" class=\"dataframe\">\n",
              "  <thead>\n",
              "    <tr style=\"text-align: right;\">\n",
              "      <th></th>\n",
              "      <th>test_loss</th>\n",
              "      <th>test_accuracy</th>\n",
              "      <th>test_f1</th>\n",
              "      <th>test_runtime</th>\n",
              "      <th>test_samples_per_second</th>\n",
              "      <th>test_steps_per_second</th>\n",
              "      <th>weight_decay</th>\n",
              "      <th>learning_rate</th>\n",
              "      <th>batch_size</th>\n",
              "    </tr>\n",
              "  </thead>\n",
              "  <tbody>\n",
              "    <tr>\n",
              "      <th>0</th>\n",
              "      <td>0.100989</td>\n",
              "      <td>0.970787</td>\n",
              "      <td>0.970692</td>\n",
              "      <td>8.0817</td>\n",
              "      <td>55.062</td>\n",
              "      <td>6.929</td>\n",
              "      <td>0.01</td>\n",
              "      <td>0.00001</td>\n",
              "      <td>8</td>\n",
              "    </tr>\n",
              "    <tr>\n",
              "      <th>1</th>\n",
              "      <td>0.082891</td>\n",
              "      <td>0.977528</td>\n",
              "      <td>0.977452</td>\n",
              "      <td>8.0565</td>\n",
              "      <td>55.235</td>\n",
              "      <td>3.475</td>\n",
              "      <td>0.01</td>\n",
              "      <td>0.00001</td>\n",
              "      <td>16</td>\n",
              "    </tr>\n",
              "    <tr>\n",
              "      <th>2</th>\n",
              "      <td>0.188054</td>\n",
              "      <td>0.970787</td>\n",
              "      <td>0.970773</td>\n",
              "      <td>8.0370</td>\n",
              "      <td>55.369</td>\n",
              "      <td>6.968</td>\n",
              "      <td>0.01</td>\n",
              "      <td>0.00005</td>\n",
              "      <td>8</td>\n",
              "    </tr>\n",
              "    <tr>\n",
              "      <th>3</th>\n",
              "      <td>0.186674</td>\n",
              "      <td>0.966292</td>\n",
              "      <td>0.966211</td>\n",
              "      <td>8.0646</td>\n",
              "      <td>55.179</td>\n",
              "      <td>3.472</td>\n",
              "      <td>0.01</td>\n",
              "      <td>0.00005</td>\n",
              "      <td>16</td>\n",
              "    </tr>\n",
              "    <tr>\n",
              "      <th>4</th>\n",
              "      <td>0.223605</td>\n",
              "      <td>0.975281</td>\n",
              "      <td>0.975165</td>\n",
              "      <td>8.0485</td>\n",
              "      <td>55.290</td>\n",
              "      <td>6.958</td>\n",
              "      <td>0.30</td>\n",
              "      <td>0.00001</td>\n",
              "      <td>8</td>\n",
              "    </tr>\n",
              "    <tr>\n",
              "      <th>5</th>\n",
              "      <td>0.266782</td>\n",
              "      <td>0.975281</td>\n",
              "      <td>0.975165</td>\n",
              "      <td>8.0372</td>\n",
              "      <td>55.368</td>\n",
              "      <td>3.484</td>\n",
              "      <td>0.30</td>\n",
              "      <td>0.00001</td>\n",
              "      <td>16</td>\n",
              "    </tr>\n",
              "    <tr>\n",
              "      <th>6</th>\n",
              "      <td>0.267938</td>\n",
              "      <td>0.968539</td>\n",
              "      <td>0.968523</td>\n",
              "      <td>8.0472</td>\n",
              "      <td>55.299</td>\n",
              "      <td>6.959</td>\n",
              "      <td>0.30</td>\n",
              "      <td>0.00005</td>\n",
              "      <td>8</td>\n",
              "    </tr>\n",
              "    <tr>\n",
              "      <th>7</th>\n",
              "      <td>0.286620</td>\n",
              "      <td>0.966292</td>\n",
              "      <td>0.966232</td>\n",
              "      <td>8.0400</td>\n",
              "      <td>55.349</td>\n",
              "      <td>3.483</td>\n",
              "      <td>0.30</td>\n",
              "      <td>0.00005</td>\n",
              "      <td>16</td>\n",
              "    </tr>\n",
              "  </tbody>\n",
              "</table>\n",
              "</div>\n",
              "      <button class=\"colab-df-convert\" onclick=\"convertToInteractive('df-b6ca5886-2075-43e5-a725-0e32d2aefd0c')\"\n",
              "              title=\"Convert this dataframe to an interactive table.\"\n",
              "              style=\"display:none;\">\n",
              "        \n",
              "  <svg xmlns=\"http://www.w3.org/2000/svg\" height=\"24px\"viewBox=\"0 0 24 24\"\n",
              "       width=\"24px\">\n",
              "    <path d=\"M0 0h24v24H0V0z\" fill=\"none\"/>\n",
              "    <path d=\"M18.56 5.44l.94 2.06.94-2.06 2.06-.94-2.06-.94-.94-2.06-.94 2.06-2.06.94zm-11 1L8.5 8.5l.94-2.06 2.06-.94-2.06-.94L8.5 2.5l-.94 2.06-2.06.94zm10 10l.94 2.06.94-2.06 2.06-.94-2.06-.94-.94-2.06-.94 2.06-2.06.94z\"/><path d=\"M17.41 7.96l-1.37-1.37c-.4-.4-.92-.59-1.43-.59-.52 0-1.04.2-1.43.59L10.3 9.45l-7.72 7.72c-.78.78-.78 2.05 0 2.83L4 21.41c.39.39.9.59 1.41.59.51 0 1.02-.2 1.41-.59l7.78-7.78 2.81-2.81c.8-.78.8-2.07 0-2.86zM5.41 20L4 18.59l7.72-7.72 1.47 1.35L5.41 20z\"/>\n",
              "  </svg>\n",
              "      </button>\n",
              "      \n",
              "  <style>\n",
              "    .colab-df-container {\n",
              "      display:flex;\n",
              "      flex-wrap:wrap;\n",
              "      gap: 12px;\n",
              "    }\n",
              "\n",
              "    .colab-df-convert {\n",
              "      background-color: #E8F0FE;\n",
              "      border: none;\n",
              "      border-radius: 50%;\n",
              "      cursor: pointer;\n",
              "      display: none;\n",
              "      fill: #1967D2;\n",
              "      height: 32px;\n",
              "      padding: 0 0 0 0;\n",
              "      width: 32px;\n",
              "    }\n",
              "\n",
              "    .colab-df-convert:hover {\n",
              "      background-color: #E2EBFA;\n",
              "      box-shadow: 0px 1px 2px rgba(60, 64, 67, 0.3), 0px 1px 3px 1px rgba(60, 64, 67, 0.15);\n",
              "      fill: #174EA6;\n",
              "    }\n",
              "\n",
              "    [theme=dark] .colab-df-convert {\n",
              "      background-color: #3B4455;\n",
              "      fill: #D2E3FC;\n",
              "    }\n",
              "\n",
              "    [theme=dark] .colab-df-convert:hover {\n",
              "      background-color: #434B5C;\n",
              "      box-shadow: 0px 1px 3px 1px rgba(0, 0, 0, 0.15);\n",
              "      filter: drop-shadow(0px 1px 2px rgba(0, 0, 0, 0.3));\n",
              "      fill: #FFFFFF;\n",
              "    }\n",
              "  </style>\n",
              "\n",
              "      <script>\n",
              "        const buttonEl =\n",
              "          document.querySelector('#df-b6ca5886-2075-43e5-a725-0e32d2aefd0c button.colab-df-convert');\n",
              "        buttonEl.style.display =\n",
              "          google.colab.kernel.accessAllowed ? 'block' : 'none';\n",
              "\n",
              "        async function convertToInteractive(key) {\n",
              "          const element = document.querySelector('#df-b6ca5886-2075-43e5-a725-0e32d2aefd0c');\n",
              "          const dataTable =\n",
              "            await google.colab.kernel.invokeFunction('convertToInteractive',\n",
              "                                                     [key], {});\n",
              "          if (!dataTable) return;\n",
              "\n",
              "          const docLinkHtml = 'Like what you see? Visit the ' +\n",
              "            '<a target=\"_blank\" href=https://colab.research.google.com/notebooks/data_table.ipynb>data table notebook</a>'\n",
              "            + ' to learn more about interactive tables.';\n",
              "          element.innerHTML = '';\n",
              "          dataTable['output_type'] = 'display_data';\n",
              "          await google.colab.output.renderOutput(dataTable, element);\n",
              "          const docLink = document.createElement('div');\n",
              "          docLink.innerHTML = docLinkHtml;\n",
              "          element.appendChild(docLink);\n",
              "        }\n",
              "      </script>\n",
              "    </div>\n",
              "  </div>\n",
              "  "
            ]
          },
          "metadata": {},
          "execution_count": 36
        }
      ]
    },
    {
      "cell_type": "markdown",
      "source": [
        "## Check raw predictions"
      ],
      "metadata": {
        "id": "Y6O-SYCt47BM"
      }
    },
    {
      "cell_type": "code",
      "source": [
        "import numpy as np\n",
        "import matplotlib.pyplot as plt\n",
        "\n",
        "y_preds = np.argmax(preds_output.predictions, axis=1)"
      ],
      "metadata": {
        "id": "bbAUoBPu47pu"
      },
      "execution_count": 37,
      "outputs": []
    },
    {
      "cell_type": "code",
      "source": [
        "y_preds"
      ],
      "metadata": {
        "id": "g6T3sqNe4_ys",
        "colab": {
          "base_uri": "https://localhost:8080/"
        },
        "outputId": "8edb6fb0-5a33-43f3-985b-1e9ca5301d7c"
      },
      "execution_count": 38,
      "outputs": [
        {
          "output_type": "execute_result",
          "data": {
            "text/plain": [
              "array([1, 2, 1, 4, 1, 4, 1, 3, 2, 1, 4, 4, 0, 3, 3, 3, 2, 2, 0, 3, 3, 1,\n",
              "       0, 4, 3, 3, 1, 3, 0, 3, 1, 4, 3, 4, 3, 4, 0, 0, 2, 3, 4, 4, 2, 3,\n",
              "       4, 4, 0, 4, 3, 0, 0, 0, 1, 0, 3, 2, 1, 0, 3, 0, 4, 0, 1, 3, 1, 2,\n",
              "       0, 2, 1, 4, 3, 4, 1, 3, 0, 4, 0, 1, 0, 3, 1, 1, 0, 4, 0, 2, 3, 1,\n",
              "       2, 1, 0, 2, 2, 3, 1, 4, 0, 3, 2, 4, 2, 2, 1, 4, 1, 2, 4, 2, 3, 3,\n",
              "       4, 1, 0, 2, 1, 1, 4, 2, 1, 0, 4, 3, 1, 3, 2, 4, 0, 2, 1, 1, 2, 0,\n",
              "       3, 1, 0, 1, 2, 1, 0, 2, 0, 0, 1, 0, 4, 0, 3, 2, 3, 1, 0, 1, 3, 2,\n",
              "       3, 0, 3, 2, 0, 0, 3, 3, 0, 4, 1, 3, 4, 0, 3, 1, 3, 0, 3, 0, 2, 2,\n",
              "       2, 0, 0, 3, 2, 3, 0, 0, 2, 3, 3, 4, 4, 1, 0, 2, 0, 4, 1, 3, 2, 3,\n",
              "       3, 2, 2, 1, 2, 3, 2, 0, 4, 1, 1, 0, 1, 1, 1, 2, 2, 3, 2, 4, 0, 1,\n",
              "       3, 2, 4, 4, 3, 4, 1, 1, 2, 1, 2, 4, 2, 3, 4, 2, 0, 1, 4, 2, 2, 0,\n",
              "       4, 0, 0, 2, 3, 4, 4, 2, 3, 0, 2, 3, 4, 4, 0, 3, 1, 4, 2, 4, 3, 0,\n",
              "       2, 1, 0, 1, 3, 0, 4, 0, 2, 0, 0, 3, 1, 4, 3, 1, 2, 2, 1, 2, 4, 3,\n",
              "       2, 1, 3, 0, 3, 0, 0, 4, 0, 3, 3, 1, 0, 2, 4, 4, 2, 0, 1, 0, 4, 2,\n",
              "       0, 1, 1, 3, 4, 4, 4, 0, 3, 1, 4, 1, 0, 0, 0, 0, 4, 0, 2, 4, 0, 0,\n",
              "       4, 2, 0, 3, 1, 0, 3, 0, 3, 2, 0, 4, 3, 3, 3, 3, 3, 0, 4, 4, 3, 0,\n",
              "       1, 3, 0, 0, 1, 0, 4, 3, 3, 3, 3, 2, 4, 4, 3, 4, 0, 4, 4, 0, 2, 3,\n",
              "       0, 3, 2, 2, 3, 0, 1, 1, 3, 1, 0, 4, 3, 3, 0, 1, 4, 2, 0, 2, 0, 4,\n",
              "       1, 0, 4, 4, 2, 2, 4, 0, 1, 2, 3, 1, 2, 3, 1, 4, 1, 1, 3, 3, 0, 1,\n",
              "       0, 0, 1, 0, 3, 0, 1, 0, 2, 2, 0, 0, 1, 1, 1, 0, 1, 2, 0, 2, 3, 0,\n",
              "       0, 0, 0, 1, 4])"
            ]
          },
          "metadata": {},
          "execution_count": 38
        }
      ]
    },
    {
      "cell_type": "markdown",
      "source": [
        "## Save trained model"
      ],
      "metadata": {
        "id": "UTrSFGGv5DTl"
      }
    },
    {
      "cell_type": "code",
      "source": [
        "model_name = \"trained_model_bbc_classification\"\n",
        "trainer.save_model(path+model_name)"
      ],
      "metadata": {
        "id": "1JH8rHAl5EXk"
      },
      "execution_count": 39,
      "outputs": []
    },
    {
      "cell_type": "markdown",
      "source": [
        "# Load a saved model in local for prediction"
      ],
      "metadata": {
        "id": "FBEzg7yMJfAM"
      }
    },
    {
      "cell_type": "markdown",
      "source": [
        "# Using Trainer at inference time: a string or a list of strings\n"
      ],
      "metadata": {
        "id": "x5nMMqJXSYwH"
      }
    },
    {
      "cell_type": "code",
      "source": [
        "pd.set_option('display.max_colwidth', None)\n",
        "\n",
        "train[:2]"
      ],
      "metadata": {
        "colab": {
          "base_uri": "https://localhost:8080/",
          "height": 538
        },
        "id": "B1xPAp9DR2xC",
        "outputId": "7f46b8e5-5509-40c7-c24e-404b8cc8a55e"
      },
      "execution_count": 40,
      "outputs": [
        {
          "output_type": "execute_result",
          "data": {
            "text/plain": [
              "                                                                                                                                                                                                                                                                                                                                                                                                                                                                                                                                                                                                                                                                                                                                                                                                                                                                                                                                                                                                                                                                                                                                                                                                                                                                                                                                                                                                                                                                                                                                                                                                                                                                                                                                                                                                                                                                                                                                                                                                                                                                                                                                                     text  \\\n",
              "0                                                                                                                                                                                                                                                                                                                                                                                                                                                                                                                                                                                                                                                                                                                                                                                                                                                                                                                                                                                                                                                                                                                                 wilkinson fit to face edinburgh england captain jonny wilkinson will make his long-awaited return from injury against edinburgh on saturday.  wilkinson  who has not played since injuring his bicep on 17 october  took part in full-contact training with newcastle falcons on wednesday. and the 25-year-old fly-half will start saturday s heineken cup match at murrayfield on the bench. but newcastle director of rugby rob andrew said:  he s fine and we hope to get him into the game at some stage.  the 25-year-old missed england s autumn internationals after aggravating the haematoma in his upper right arm against saracens. he was subsequently replaced as england captain by full-back jason robinson. sale s charlie hodgson took over the number 10 shirt in the internationals against canada  south africa and australia. wilkinson s year has been disrupted by injury as his muscle problem followed eight months on the sidelines with a shoulder injury sustained in the world cup final.   \n",
              "1  bush website blocked outside us surfers outside the us have been unable to visit the official re-election site of president george w bush.  the blocking of browsers sited outside the us began in the early hours of monday morning. since then people outside the us trying to browse the site get a message saying they are not authorised to view it. the blocking does not appear to be due to an attack by vandals or malicious hackers  but as a result of a policy decision by the bush camp.  the international exclusion zone around georgewbush.com was spotted by net monitoring firm netcraft which keeps an eye on traffic patterns across many different sites. netcraft said that since the early hours of 25 october attempts to view the site through its monitoring stations in london  amsterdam and sydney failed.  by contrast netcraft s four monitoring stations in the us managed to view the site with no problems. the site can still be seen using anonymous proxy services that are based in the us. some web users in canada also report that they can browse the site. the pattern of traffic to the website suggests that the blocking was not due to an attack by vandals or politically motivated hackers. geographic blocking works because the numerical addresses that the net uses to organise itself are handed out on a regional basis. on 21 october  the george w bush website began using the services of a company called akamai to ensure that the pages  videos and other content on its site reaches visitors. mike prettejohn  president of netcraft  speculated that the blocking decision might have been taken to cut costs  and traffic  in the run-up to the election on 2 november. he said the site may see no reason to distribute content to people who will not be voting next week. managing traffic could also be a good way to ensure that the site stays working in the closing days of the election campaign. however  simply blocking non-us visitors also means that americans overseas are barred too. akamai declined to comment  saying it could not talk about customer websites.   \n",
              "\n",
              "   label  \n",
              "0      3  \n",
              "1      4  "
            ],
            "text/html": [
              "\n",
              "  <div id=\"df-a1b4253d-275a-4851-aaa8-766f4304a314\">\n",
              "    <div class=\"colab-df-container\">\n",
              "      <div>\n",
              "<style scoped>\n",
              "    .dataframe tbody tr th:only-of-type {\n",
              "        vertical-align: middle;\n",
              "    }\n",
              "\n",
              "    .dataframe tbody tr th {\n",
              "        vertical-align: top;\n",
              "    }\n",
              "\n",
              "    .dataframe thead th {\n",
              "        text-align: right;\n",
              "    }\n",
              "</style>\n",
              "<table border=\"1\" class=\"dataframe\">\n",
              "  <thead>\n",
              "    <tr style=\"text-align: right;\">\n",
              "      <th></th>\n",
              "      <th>text</th>\n",
              "      <th>label</th>\n",
              "    </tr>\n",
              "  </thead>\n",
              "  <tbody>\n",
              "    <tr>\n",
              "      <th>0</th>\n",
              "      <td>wilkinson fit to face edinburgh england captain jonny wilkinson will make his long-awaited return from injury against edinburgh on saturday.  wilkinson  who has not played since injuring his bicep on 17 october  took part in full-contact training with newcastle falcons on wednesday. and the 25-year-old fly-half will start saturday s heineken cup match at murrayfield on the bench. but newcastle director of rugby rob andrew said:  he s fine and we hope to get him into the game at some stage.  the 25-year-old missed england s autumn internationals after aggravating the haematoma in his upper right arm against saracens. he was subsequently replaced as england captain by full-back jason robinson. sale s charlie hodgson took over the number 10 shirt in the internationals against canada  south africa and australia. wilkinson s year has been disrupted by injury as his muscle problem followed eight months on the sidelines with a shoulder injury sustained in the world cup final.</td>\n",
              "      <td>3</td>\n",
              "    </tr>\n",
              "    <tr>\n",
              "      <th>1</th>\n",
              "      <td>bush website blocked outside us surfers outside the us have been unable to visit the official re-election site of president george w bush.  the blocking of browsers sited outside the us began in the early hours of monday morning. since then people outside the us trying to browse the site get a message saying they are not authorised to view it. the blocking does not appear to be due to an attack by vandals or malicious hackers  but as a result of a policy decision by the bush camp.  the international exclusion zone around georgewbush.com was spotted by net monitoring firm netcraft which keeps an eye on traffic patterns across many different sites. netcraft said that since the early hours of 25 october attempts to view the site through its monitoring stations in london  amsterdam and sydney failed.  by contrast netcraft s four monitoring stations in the us managed to view the site with no problems. the site can still be seen using anonymous proxy services that are based in the us. some web users in canada also report that they can browse the site. the pattern of traffic to the website suggests that the blocking was not due to an attack by vandals or politically motivated hackers. geographic blocking works because the numerical addresses that the net uses to organise itself are handed out on a regional basis. on 21 october  the george w bush website began using the services of a company called akamai to ensure that the pages  videos and other content on its site reaches visitors. mike prettejohn  president of netcraft  speculated that the blocking decision might have been taken to cut costs  and traffic  in the run-up to the election on 2 november. he said the site may see no reason to distribute content to people who will not be voting next week. managing traffic could also be a good way to ensure that the site stays working in the closing days of the election campaign. however  simply blocking non-us visitors also means that americans overseas are barred too. akamai declined to comment  saying it could not talk about customer websites.</td>\n",
              "      <td>4</td>\n",
              "    </tr>\n",
              "  </tbody>\n",
              "</table>\n",
              "</div>\n",
              "      <button class=\"colab-df-convert\" onclick=\"convertToInteractive('df-a1b4253d-275a-4851-aaa8-766f4304a314')\"\n",
              "              title=\"Convert this dataframe to an interactive table.\"\n",
              "              style=\"display:none;\">\n",
              "        \n",
              "  <svg xmlns=\"http://www.w3.org/2000/svg\" height=\"24px\"viewBox=\"0 0 24 24\"\n",
              "       width=\"24px\">\n",
              "    <path d=\"M0 0h24v24H0V0z\" fill=\"none\"/>\n",
              "    <path d=\"M18.56 5.44l.94 2.06.94-2.06 2.06-.94-2.06-.94-.94-2.06-.94 2.06-2.06.94zm-11 1L8.5 8.5l.94-2.06 2.06-.94-2.06-.94L8.5 2.5l-.94 2.06-2.06.94zm10 10l.94 2.06.94-2.06 2.06-.94-2.06-.94-.94-2.06-.94 2.06-2.06.94z\"/><path d=\"M17.41 7.96l-1.37-1.37c-.4-.4-.92-.59-1.43-.59-.52 0-1.04.2-1.43.59L10.3 9.45l-7.72 7.72c-.78.78-.78 2.05 0 2.83L4 21.41c.39.39.9.59 1.41.59.51 0 1.02-.2 1.41-.59l7.78-7.78 2.81-2.81c.8-.78.8-2.07 0-2.86zM5.41 20L4 18.59l7.72-7.72 1.47 1.35L5.41 20z\"/>\n",
              "  </svg>\n",
              "      </button>\n",
              "      \n",
              "  <style>\n",
              "    .colab-df-container {\n",
              "      display:flex;\n",
              "      flex-wrap:wrap;\n",
              "      gap: 12px;\n",
              "    }\n",
              "\n",
              "    .colab-df-convert {\n",
              "      background-color: #E8F0FE;\n",
              "      border: none;\n",
              "      border-radius: 50%;\n",
              "      cursor: pointer;\n",
              "      display: none;\n",
              "      fill: #1967D2;\n",
              "      height: 32px;\n",
              "      padding: 0 0 0 0;\n",
              "      width: 32px;\n",
              "    }\n",
              "\n",
              "    .colab-df-convert:hover {\n",
              "      background-color: #E2EBFA;\n",
              "      box-shadow: 0px 1px 2px rgba(60, 64, 67, 0.3), 0px 1px 3px 1px rgba(60, 64, 67, 0.15);\n",
              "      fill: #174EA6;\n",
              "    }\n",
              "\n",
              "    [theme=dark] .colab-df-convert {\n",
              "      background-color: #3B4455;\n",
              "      fill: #D2E3FC;\n",
              "    }\n",
              "\n",
              "    [theme=dark] .colab-df-convert:hover {\n",
              "      background-color: #434B5C;\n",
              "      box-shadow: 0px 1px 3px 1px rgba(0, 0, 0, 0.15);\n",
              "      filter: drop-shadow(0px 1px 2px rgba(0, 0, 0, 0.3));\n",
              "      fill: #FFFFFF;\n",
              "    }\n",
              "  </style>\n",
              "\n",
              "      <script>\n",
              "        const buttonEl =\n",
              "          document.querySelector('#df-a1b4253d-275a-4851-aaa8-766f4304a314 button.colab-df-convert');\n",
              "        buttonEl.style.display =\n",
              "          google.colab.kernel.accessAllowed ? 'block' : 'none';\n",
              "\n",
              "        async function convertToInteractive(key) {\n",
              "          const element = document.querySelector('#df-a1b4253d-275a-4851-aaa8-766f4304a314');\n",
              "          const dataTable =\n",
              "            await google.colab.kernel.invokeFunction('convertToInteractive',\n",
              "                                                     [key], {});\n",
              "          if (!dataTable) return;\n",
              "\n",
              "          const docLinkHtml = 'Like what you see? Visit the ' +\n",
              "            '<a target=\"_blank\" href=https://colab.research.google.com/notebooks/data_table.ipynb>data table notebook</a>'\n",
              "            + ' to learn more about interactive tables.';\n",
              "          element.innerHTML = '';\n",
              "          dataTable['output_type'] = 'display_data';\n",
              "          await google.colab.output.renderOutput(dataTable, element);\n",
              "          const docLink = document.createElement('div');\n",
              "          docLink.innerHTML = docLinkHtml;\n",
              "          element.appendChild(docLink);\n",
              "        }\n",
              "      </script>\n",
              "    </div>\n",
              "  </div>\n",
              "  "
            ]
          },
          "metadata": {},
          "execution_count": 40
        }
      ]
    },
    {
      "cell_type": "code",
      "source": [
        "train.iloc[0].text"
      ],
      "metadata": {
        "colab": {
          "base_uri": "https://localhost:8080/",
          "height": 192
        },
        "id": "58NEoBAxSGrE",
        "outputId": "5d84355b-6c87-4f70-c7cb-28f084667ef9"
      },
      "execution_count": 41,
      "outputs": [
        {
          "output_type": "execute_result",
          "data": {
            "text/plain": [
              "'wilkinson fit to face edinburgh england captain jonny wilkinson will make his long-awaited return from injury against edinburgh on saturday.  wilkinson  who has not played since injuring his bicep on 17 october  took part in full-contact training with newcastle falcons on wednesday. and the 25-year-old fly-half will start saturday s heineken cup match at murrayfield on the bench. but newcastle director of rugby rob andrew said:  he s fine and we hope to get him into the game at some stage.  the 25-year-old missed england s autumn internationals after aggravating the haematoma in his upper right arm against saracens. he was subsequently replaced as england captain by full-back jason robinson. sale s charlie hodgson took over the number 10 shirt in the internationals against canada  south africa and australia. wilkinson s year has been disrupted by injury as his muscle problem followed eight months on the sidelines with a shoulder injury sustained in the world cup final.'"
            ],
            "application/vnd.google.colaboratory.intrinsic+json": {
              "type": "string"
            }
          },
          "metadata": {},
          "execution_count": 41
        }
      ]
    },
    {
      "cell_type": "code",
      "source": [
        "text = [train.iloc[0].text, train.iloc[1].text]\n",
        "encoding = tokenizer(text, return_tensors=\"pt\", padding=True, truncation=True)\n",
        "\n",
        "model = AutoModelForSequenceClassification.from_pretrained(path+model_name, local_files_only=True)\n",
        "# forward pass\n",
        "outputs = model(**encoding)\n",
        "predictions = outputs.logits.argmax(-1)"
      ],
      "metadata": {
        "id": "Yx45M1SVRb_A"
      },
      "execution_count": 42,
      "outputs": []
    },
    {
      "cell_type": "code",
      "source": [
        "predictions"
      ],
      "metadata": {
        "colab": {
          "base_uri": "https://localhost:8080/"
        },
        "id": "zUhmNXpjRfgg",
        "outputId": "be61302e-0c17-47ea-a35b-1561060eb1c0"
      },
      "execution_count": 43,
      "outputs": [
        {
          "output_type": "execute_result",
          "data": {
            "text/plain": [
              "tensor([3, 4])"
            ]
          },
          "metadata": {},
          "execution_count": 43
        }
      ]
    },
    {
      "cell_type": "markdown",
      "source": [
        "# Using Trainer at inference time: batch testing\n"
      ],
      "metadata": {
        "id": "lz63dnthSd4k"
      }
    },
    {
      "cell_type": "code",
      "source": [
        "batch_test = train[:2][['text']]\n",
        "batch_test"
      ],
      "metadata": {
        "colab": {
          "base_uri": "https://localhost:8080/",
          "height": 503
        },
        "id": "NgbtdhJKSlxa",
        "outputId": "5cced010-e619-44dc-8f42-961f6757a6eb"
      },
      "execution_count": 44,
      "outputs": [
        {
          "output_type": "execute_result",
          "data": {
            "text/plain": [
              "                                                                                                                                                                                                                                                                                                                                                                                                                                                                                                                                                                                                                                                                                                                                                                                                                                                                                                                                                                                                                                                                                                                                                                                                                                                                                                                                                                                                                                                                                                                                                                                                                                                                                                                                                                                                                                                                                                                                                                                                                                                                                                                                                     text\n",
              "0                                                                                                                                                                                                                                                                                                                                                                                                                                                                                                                                                                                                                                                                                                                                                                                                                                                                                                                                                                                                                                                                                                                                 wilkinson fit to face edinburgh england captain jonny wilkinson will make his long-awaited return from injury against edinburgh on saturday.  wilkinson  who has not played since injuring his bicep on 17 october  took part in full-contact training with newcastle falcons on wednesday. and the 25-year-old fly-half will start saturday s heineken cup match at murrayfield on the bench. but newcastle director of rugby rob andrew said:  he s fine and we hope to get him into the game at some stage.  the 25-year-old missed england s autumn internationals after aggravating the haematoma in his upper right arm against saracens. he was subsequently replaced as england captain by full-back jason robinson. sale s charlie hodgson took over the number 10 shirt in the internationals against canada  south africa and australia. wilkinson s year has been disrupted by injury as his muscle problem followed eight months on the sidelines with a shoulder injury sustained in the world cup final.\n",
              "1  bush website blocked outside us surfers outside the us have been unable to visit the official re-election site of president george w bush.  the blocking of browsers sited outside the us began in the early hours of monday morning. since then people outside the us trying to browse the site get a message saying they are not authorised to view it. the blocking does not appear to be due to an attack by vandals or malicious hackers  but as a result of a policy decision by the bush camp.  the international exclusion zone around georgewbush.com was spotted by net monitoring firm netcraft which keeps an eye on traffic patterns across many different sites. netcraft said that since the early hours of 25 october attempts to view the site through its monitoring stations in london  amsterdam and sydney failed.  by contrast netcraft s four monitoring stations in the us managed to view the site with no problems. the site can still be seen using anonymous proxy services that are based in the us. some web users in canada also report that they can browse the site. the pattern of traffic to the website suggests that the blocking was not due to an attack by vandals or politically motivated hackers. geographic blocking works because the numerical addresses that the net uses to organise itself are handed out on a regional basis. on 21 october  the george w bush website began using the services of a company called akamai to ensure that the pages  videos and other content on its site reaches visitors. mike prettejohn  president of netcraft  speculated that the blocking decision might have been taken to cut costs  and traffic  in the run-up to the election on 2 november. he said the site may see no reason to distribute content to people who will not be voting next week. managing traffic could also be a good way to ensure that the site stays working in the closing days of the election campaign. however  simply blocking non-us visitors also means that americans overseas are barred too. akamai declined to comment  saying it could not talk about customer websites."
            ],
            "text/html": [
              "\n",
              "  <div id=\"df-6b1ae878-a1fa-47a5-ac1e-28e68cf2c6a0\">\n",
              "    <div class=\"colab-df-container\">\n",
              "      <div>\n",
              "<style scoped>\n",
              "    .dataframe tbody tr th:only-of-type {\n",
              "        vertical-align: middle;\n",
              "    }\n",
              "\n",
              "    .dataframe tbody tr th {\n",
              "        vertical-align: top;\n",
              "    }\n",
              "\n",
              "    .dataframe thead th {\n",
              "        text-align: right;\n",
              "    }\n",
              "</style>\n",
              "<table border=\"1\" class=\"dataframe\">\n",
              "  <thead>\n",
              "    <tr style=\"text-align: right;\">\n",
              "      <th></th>\n",
              "      <th>text</th>\n",
              "    </tr>\n",
              "  </thead>\n",
              "  <tbody>\n",
              "    <tr>\n",
              "      <th>0</th>\n",
              "      <td>wilkinson fit to face edinburgh england captain jonny wilkinson will make his long-awaited return from injury against edinburgh on saturday.  wilkinson  who has not played since injuring his bicep on 17 october  took part in full-contact training with newcastle falcons on wednesday. and the 25-year-old fly-half will start saturday s heineken cup match at murrayfield on the bench. but newcastle director of rugby rob andrew said:  he s fine and we hope to get him into the game at some stage.  the 25-year-old missed england s autumn internationals after aggravating the haematoma in his upper right arm against saracens. he was subsequently replaced as england captain by full-back jason robinson. sale s charlie hodgson took over the number 10 shirt in the internationals against canada  south africa and australia. wilkinson s year has been disrupted by injury as his muscle problem followed eight months on the sidelines with a shoulder injury sustained in the world cup final.</td>\n",
              "    </tr>\n",
              "    <tr>\n",
              "      <th>1</th>\n",
              "      <td>bush website blocked outside us surfers outside the us have been unable to visit the official re-election site of president george w bush.  the blocking of browsers sited outside the us began in the early hours of monday morning. since then people outside the us trying to browse the site get a message saying they are not authorised to view it. the blocking does not appear to be due to an attack by vandals or malicious hackers  but as a result of a policy decision by the bush camp.  the international exclusion zone around georgewbush.com was spotted by net monitoring firm netcraft which keeps an eye on traffic patterns across many different sites. netcraft said that since the early hours of 25 october attempts to view the site through its monitoring stations in london  amsterdam and sydney failed.  by contrast netcraft s four monitoring stations in the us managed to view the site with no problems. the site can still be seen using anonymous proxy services that are based in the us. some web users in canada also report that they can browse the site. the pattern of traffic to the website suggests that the blocking was not due to an attack by vandals or politically motivated hackers. geographic blocking works because the numerical addresses that the net uses to organise itself are handed out on a regional basis. on 21 october  the george w bush website began using the services of a company called akamai to ensure that the pages  videos and other content on its site reaches visitors. mike prettejohn  president of netcraft  speculated that the blocking decision might have been taken to cut costs  and traffic  in the run-up to the election on 2 november. he said the site may see no reason to distribute content to people who will not be voting next week. managing traffic could also be a good way to ensure that the site stays working in the closing days of the election campaign. however  simply blocking non-us visitors also means that americans overseas are barred too. akamai declined to comment  saying it could not talk about customer websites.</td>\n",
              "    </tr>\n",
              "  </tbody>\n",
              "</table>\n",
              "</div>\n",
              "      <button class=\"colab-df-convert\" onclick=\"convertToInteractive('df-6b1ae878-a1fa-47a5-ac1e-28e68cf2c6a0')\"\n",
              "              title=\"Convert this dataframe to an interactive table.\"\n",
              "              style=\"display:none;\">\n",
              "        \n",
              "  <svg xmlns=\"http://www.w3.org/2000/svg\" height=\"24px\"viewBox=\"0 0 24 24\"\n",
              "       width=\"24px\">\n",
              "    <path d=\"M0 0h24v24H0V0z\" fill=\"none\"/>\n",
              "    <path d=\"M18.56 5.44l.94 2.06.94-2.06 2.06-.94-2.06-.94-.94-2.06-.94 2.06-2.06.94zm-11 1L8.5 8.5l.94-2.06 2.06-.94-2.06-.94L8.5 2.5l-.94 2.06-2.06.94zm10 10l.94 2.06.94-2.06 2.06-.94-2.06-.94-.94-2.06-.94 2.06-2.06.94z\"/><path d=\"M17.41 7.96l-1.37-1.37c-.4-.4-.92-.59-1.43-.59-.52 0-1.04.2-1.43.59L10.3 9.45l-7.72 7.72c-.78.78-.78 2.05 0 2.83L4 21.41c.39.39.9.59 1.41.59.51 0 1.02-.2 1.41-.59l7.78-7.78 2.81-2.81c.8-.78.8-2.07 0-2.86zM5.41 20L4 18.59l7.72-7.72 1.47 1.35L5.41 20z\"/>\n",
              "  </svg>\n",
              "      </button>\n",
              "      \n",
              "  <style>\n",
              "    .colab-df-container {\n",
              "      display:flex;\n",
              "      flex-wrap:wrap;\n",
              "      gap: 12px;\n",
              "    }\n",
              "\n",
              "    .colab-df-convert {\n",
              "      background-color: #E8F0FE;\n",
              "      border: none;\n",
              "      border-radius: 50%;\n",
              "      cursor: pointer;\n",
              "      display: none;\n",
              "      fill: #1967D2;\n",
              "      height: 32px;\n",
              "      padding: 0 0 0 0;\n",
              "      width: 32px;\n",
              "    }\n",
              "\n",
              "    .colab-df-convert:hover {\n",
              "      background-color: #E2EBFA;\n",
              "      box-shadow: 0px 1px 2px rgba(60, 64, 67, 0.3), 0px 1px 3px 1px rgba(60, 64, 67, 0.15);\n",
              "      fill: #174EA6;\n",
              "    }\n",
              "\n",
              "    [theme=dark] .colab-df-convert {\n",
              "      background-color: #3B4455;\n",
              "      fill: #D2E3FC;\n",
              "    }\n",
              "\n",
              "    [theme=dark] .colab-df-convert:hover {\n",
              "      background-color: #434B5C;\n",
              "      box-shadow: 0px 1px 3px 1px rgba(0, 0, 0, 0.15);\n",
              "      filter: drop-shadow(0px 1px 2px rgba(0, 0, 0, 0.3));\n",
              "      fill: #FFFFFF;\n",
              "    }\n",
              "  </style>\n",
              "\n",
              "      <script>\n",
              "        const buttonEl =\n",
              "          document.querySelector('#df-6b1ae878-a1fa-47a5-ac1e-28e68cf2c6a0 button.colab-df-convert');\n",
              "        buttonEl.style.display =\n",
              "          google.colab.kernel.accessAllowed ? 'block' : 'none';\n",
              "\n",
              "        async function convertToInteractive(key) {\n",
              "          const element = document.querySelector('#df-6b1ae878-a1fa-47a5-ac1e-28e68cf2c6a0');\n",
              "          const dataTable =\n",
              "            await google.colab.kernel.invokeFunction('convertToInteractive',\n",
              "                                                     [key], {});\n",
              "          if (!dataTable) return;\n",
              "\n",
              "          const docLinkHtml = 'Like what you see? Visit the ' +\n",
              "            '<a target=\"_blank\" href=https://colab.research.google.com/notebooks/data_table.ipynb>data table notebook</a>'\n",
              "            + ' to learn more about interactive tables.';\n",
              "          element.innerHTML = '';\n",
              "          dataTable['output_type'] = 'display_data';\n",
              "          await google.colab.output.renderOutput(dataTable, element);\n",
              "          const docLink = document.createElement('div');\n",
              "          docLink.innerHTML = docLinkHtml;\n",
              "          element.appendChild(docLink);\n",
              "        }\n",
              "      </script>\n",
              "    </div>\n",
              "  </div>\n",
              "  "
            ]
          },
          "metadata": {},
          "execution_count": 44
        }
      ]
    },
    {
      "cell_type": "code",
      "source": [
        "batch_test_dataset = Dataset.from_pandas(batch_test)"
      ],
      "metadata": {
        "id": "tpaOxgZhTDAT"
      },
      "execution_count": 45,
      "outputs": []
    },
    {
      "cell_type": "code",
      "source": [
        "batch_test"
      ],
      "metadata": {
        "colab": {
          "base_uri": "https://localhost:8080/",
          "height": 503
        },
        "id": "kHJTAsmsTH4A",
        "outputId": "a9630a7f-468d-4231-d496-619989da816b"
      },
      "execution_count": 46,
      "outputs": [
        {
          "output_type": "execute_result",
          "data": {
            "text/plain": [
              "                                                                                                                                                                                                                                                                                                                                                                                                                                                                                                                                                                                                                                                                                                                                                                                                                                                                                                                                                                                                                                                                                                                                                                                                                                                                                                                                                                                                                                                                                                                                                                                                                                                                                                                                                                                                                                                                                                                                                                                                                                                                                                                                                     text\n",
              "0                                                                                                                                                                                                                                                                                                                                                                                                                                                                                                                                                                                                                                                                                                                                                                                                                                                                                                                                                                                                                                                                                                                                 wilkinson fit to face edinburgh england captain jonny wilkinson will make his long-awaited return from injury against edinburgh on saturday.  wilkinson  who has not played since injuring his bicep on 17 october  took part in full-contact training with newcastle falcons on wednesday. and the 25-year-old fly-half will start saturday s heineken cup match at murrayfield on the bench. but newcastle director of rugby rob andrew said:  he s fine and we hope to get him into the game at some stage.  the 25-year-old missed england s autumn internationals after aggravating the haematoma in his upper right arm against saracens. he was subsequently replaced as england captain by full-back jason robinson. sale s charlie hodgson took over the number 10 shirt in the internationals against canada  south africa and australia. wilkinson s year has been disrupted by injury as his muscle problem followed eight months on the sidelines with a shoulder injury sustained in the world cup final.\n",
              "1  bush website blocked outside us surfers outside the us have been unable to visit the official re-election site of president george w bush.  the blocking of browsers sited outside the us began in the early hours of monday morning. since then people outside the us trying to browse the site get a message saying they are not authorised to view it. the blocking does not appear to be due to an attack by vandals or malicious hackers  but as a result of a policy decision by the bush camp.  the international exclusion zone around georgewbush.com was spotted by net monitoring firm netcraft which keeps an eye on traffic patterns across many different sites. netcraft said that since the early hours of 25 october attempts to view the site through its monitoring stations in london  amsterdam and sydney failed.  by contrast netcraft s four monitoring stations in the us managed to view the site with no problems. the site can still be seen using anonymous proxy services that are based in the us. some web users in canada also report that they can browse the site. the pattern of traffic to the website suggests that the blocking was not due to an attack by vandals or politically motivated hackers. geographic blocking works because the numerical addresses that the net uses to organise itself are handed out on a regional basis. on 21 october  the george w bush website began using the services of a company called akamai to ensure that the pages  videos and other content on its site reaches visitors. mike prettejohn  president of netcraft  speculated that the blocking decision might have been taken to cut costs  and traffic  in the run-up to the election on 2 november. he said the site may see no reason to distribute content to people who will not be voting next week. managing traffic could also be a good way to ensure that the site stays working in the closing days of the election campaign. however  simply blocking non-us visitors also means that americans overseas are barred too. akamai declined to comment  saying it could not talk about customer websites."
            ],
            "text/html": [
              "\n",
              "  <div id=\"df-70d4ad1f-de67-4631-a914-32d612307d91\">\n",
              "    <div class=\"colab-df-container\">\n",
              "      <div>\n",
              "<style scoped>\n",
              "    .dataframe tbody tr th:only-of-type {\n",
              "        vertical-align: middle;\n",
              "    }\n",
              "\n",
              "    .dataframe tbody tr th {\n",
              "        vertical-align: top;\n",
              "    }\n",
              "\n",
              "    .dataframe thead th {\n",
              "        text-align: right;\n",
              "    }\n",
              "</style>\n",
              "<table border=\"1\" class=\"dataframe\">\n",
              "  <thead>\n",
              "    <tr style=\"text-align: right;\">\n",
              "      <th></th>\n",
              "      <th>text</th>\n",
              "    </tr>\n",
              "  </thead>\n",
              "  <tbody>\n",
              "    <tr>\n",
              "      <th>0</th>\n",
              "      <td>wilkinson fit to face edinburgh england captain jonny wilkinson will make his long-awaited return from injury against edinburgh on saturday.  wilkinson  who has not played since injuring his bicep on 17 october  took part in full-contact training with newcastle falcons on wednesday. and the 25-year-old fly-half will start saturday s heineken cup match at murrayfield on the bench. but newcastle director of rugby rob andrew said:  he s fine and we hope to get him into the game at some stage.  the 25-year-old missed england s autumn internationals after aggravating the haematoma in his upper right arm against saracens. he was subsequently replaced as england captain by full-back jason robinson. sale s charlie hodgson took over the number 10 shirt in the internationals against canada  south africa and australia. wilkinson s year has been disrupted by injury as his muscle problem followed eight months on the sidelines with a shoulder injury sustained in the world cup final.</td>\n",
              "    </tr>\n",
              "    <tr>\n",
              "      <th>1</th>\n",
              "      <td>bush website blocked outside us surfers outside the us have been unable to visit the official re-election site of president george w bush.  the blocking of browsers sited outside the us began in the early hours of monday morning. since then people outside the us trying to browse the site get a message saying they are not authorised to view it. the blocking does not appear to be due to an attack by vandals or malicious hackers  but as a result of a policy decision by the bush camp.  the international exclusion zone around georgewbush.com was spotted by net monitoring firm netcraft which keeps an eye on traffic patterns across many different sites. netcraft said that since the early hours of 25 october attempts to view the site through its monitoring stations in london  amsterdam and sydney failed.  by contrast netcraft s four monitoring stations in the us managed to view the site with no problems. the site can still be seen using anonymous proxy services that are based in the us. some web users in canada also report that they can browse the site. the pattern of traffic to the website suggests that the blocking was not due to an attack by vandals or politically motivated hackers. geographic blocking works because the numerical addresses that the net uses to organise itself are handed out on a regional basis. on 21 october  the george w bush website began using the services of a company called akamai to ensure that the pages  videos and other content on its site reaches visitors. mike prettejohn  president of netcraft  speculated that the blocking decision might have been taken to cut costs  and traffic  in the run-up to the election on 2 november. he said the site may see no reason to distribute content to people who will not be voting next week. managing traffic could also be a good way to ensure that the site stays working in the closing days of the election campaign. however  simply blocking non-us visitors also means that americans overseas are barred too. akamai declined to comment  saying it could not talk about customer websites.</td>\n",
              "    </tr>\n",
              "  </tbody>\n",
              "</table>\n",
              "</div>\n",
              "      <button class=\"colab-df-convert\" onclick=\"convertToInteractive('df-70d4ad1f-de67-4631-a914-32d612307d91')\"\n",
              "              title=\"Convert this dataframe to an interactive table.\"\n",
              "              style=\"display:none;\">\n",
              "        \n",
              "  <svg xmlns=\"http://www.w3.org/2000/svg\" height=\"24px\"viewBox=\"0 0 24 24\"\n",
              "       width=\"24px\">\n",
              "    <path d=\"M0 0h24v24H0V0z\" fill=\"none\"/>\n",
              "    <path d=\"M18.56 5.44l.94 2.06.94-2.06 2.06-.94-2.06-.94-.94-2.06-.94 2.06-2.06.94zm-11 1L8.5 8.5l.94-2.06 2.06-.94-2.06-.94L8.5 2.5l-.94 2.06-2.06.94zm10 10l.94 2.06.94-2.06 2.06-.94-2.06-.94-.94-2.06-.94 2.06-2.06.94z\"/><path d=\"M17.41 7.96l-1.37-1.37c-.4-.4-.92-.59-1.43-.59-.52 0-1.04.2-1.43.59L10.3 9.45l-7.72 7.72c-.78.78-.78 2.05 0 2.83L4 21.41c.39.39.9.59 1.41.59.51 0 1.02-.2 1.41-.59l7.78-7.78 2.81-2.81c.8-.78.8-2.07 0-2.86zM5.41 20L4 18.59l7.72-7.72 1.47 1.35L5.41 20z\"/>\n",
              "  </svg>\n",
              "      </button>\n",
              "      \n",
              "  <style>\n",
              "    .colab-df-container {\n",
              "      display:flex;\n",
              "      flex-wrap:wrap;\n",
              "      gap: 12px;\n",
              "    }\n",
              "\n",
              "    .colab-df-convert {\n",
              "      background-color: #E8F0FE;\n",
              "      border: none;\n",
              "      border-radius: 50%;\n",
              "      cursor: pointer;\n",
              "      display: none;\n",
              "      fill: #1967D2;\n",
              "      height: 32px;\n",
              "      padding: 0 0 0 0;\n",
              "      width: 32px;\n",
              "    }\n",
              "\n",
              "    .colab-df-convert:hover {\n",
              "      background-color: #E2EBFA;\n",
              "      box-shadow: 0px 1px 2px rgba(60, 64, 67, 0.3), 0px 1px 3px 1px rgba(60, 64, 67, 0.15);\n",
              "      fill: #174EA6;\n",
              "    }\n",
              "\n",
              "    [theme=dark] .colab-df-convert {\n",
              "      background-color: #3B4455;\n",
              "      fill: #D2E3FC;\n",
              "    }\n",
              "\n",
              "    [theme=dark] .colab-df-convert:hover {\n",
              "      background-color: #434B5C;\n",
              "      box-shadow: 0px 1px 3px 1px rgba(0, 0, 0, 0.15);\n",
              "      filter: drop-shadow(0px 1px 2px rgba(0, 0, 0, 0.3));\n",
              "      fill: #FFFFFF;\n",
              "    }\n",
              "  </style>\n",
              "\n",
              "      <script>\n",
              "        const buttonEl =\n",
              "          document.querySelector('#df-70d4ad1f-de67-4631-a914-32d612307d91 button.colab-df-convert');\n",
              "        buttonEl.style.display =\n",
              "          google.colab.kernel.accessAllowed ? 'block' : 'none';\n",
              "\n",
              "        async function convertToInteractive(key) {\n",
              "          const element = document.querySelector('#df-70d4ad1f-de67-4631-a914-32d612307d91');\n",
              "          const dataTable =\n",
              "            await google.colab.kernel.invokeFunction('convertToInteractive',\n",
              "                                                     [key], {});\n",
              "          if (!dataTable) return;\n",
              "\n",
              "          const docLinkHtml = 'Like what you see? Visit the ' +\n",
              "            '<a target=\"_blank\" href=https://colab.research.google.com/notebooks/data_table.ipynb>data table notebook</a>'\n",
              "            + ' to learn more about interactive tables.';\n",
              "          element.innerHTML = '';\n",
              "          dataTable['output_type'] = 'display_data';\n",
              "          await google.colab.output.renderOutput(dataTable, element);\n",
              "          const docLink = document.createElement('div');\n",
              "          docLink.innerHTML = docLinkHtml;\n",
              "          element.appendChild(docLink);\n",
              "        }\n",
              "      </script>\n",
              "    </div>\n",
              "  </div>\n",
              "  "
            ]
          },
          "metadata": {},
          "execution_count": 46
        }
      ]
    },
    {
      "cell_type": "code",
      "source": [
        "batch_test_encoded = batch_test_dataset.map(tokenize, batched=True, batch_size=None)"
      ],
      "metadata": {
        "colab": {
          "base_uri": "https://localhost:8080/",
          "height": 49,
          "referenced_widgets": [
            "e63edae74c054c25b7b85e9e010906cd",
            "da59912d3528461da5f8c21439f50385",
            "a0df1c5c7a7f4044b9484ef99bf5bfbc",
            "d3ada8d7ce8345579daf282ac2e082f7",
            "a006cbbf2799420ba75b40a80b949f52",
            "2a842bc94af44185ab0a34f208c76686",
            "5a14d8cf85b544eebccf35fc48545bd2",
            "f2e9f6d1cd6748169f1a65682255ff0f",
            "92c70dda485a42618e0e08d3030eacef",
            "e78dc3b33b804a98928499496e65e8d5",
            "845c3dc02f5c47008fecaeff9d5daca1"
          ]
        },
        "id": "fXmKhpsIVLiW",
        "outputId": "9ffde147-72fd-4f53-8660-eb139dec5428"
      },
      "execution_count": 47,
      "outputs": [
        {
          "output_type": "display_data",
          "data": {
            "text/plain": [
              "  0%|          | 0/1 [00:00<?, ?ba/s]"
            ],
            "application/vnd.jupyter.widget-view+json": {
              "version_major": 2,
              "version_minor": 0,
              "model_id": "e63edae74c054c25b7b85e9e010906cd"
            }
          },
          "metadata": {}
        }
      ]
    },
    {
      "cell_type": "code",
      "source": [
        "# loading the model you previously trained\n",
        "trained_model = AutoModelForSequenceClassification.from_pretrained(path+model_name, local_files_only=True)\n",
        "\n",
        "# arguments for Trainer\n",
        "test_args = TrainingArguments(\n",
        "    output_dir = path,\n",
        "    do_train = False,\n",
        "    do_predict = True,\n",
        "    per_device_eval_batch_size = batch_size,   \n",
        "    dataloader_drop_last = False    \n",
        ")\n",
        "\n",
        "# init trainer\n",
        "trainer = Trainer(\n",
        "              model = trained_model, tokenizer=tokenizer,\n",
        "              args = test_args, \n",
        "              compute_metrics = compute_metrics)\n",
        "\n",
        "test_results = trainer.predict(batch_test_encoded)"
      ],
      "metadata": {
        "colab": {
          "base_uri": "https://localhost:8080/"
        },
        "id": "k2075fAsQ61S",
        "outputId": "7d466ee5-79f6-4c85-8a6c-7c7c8ba2cca6"
      },
      "execution_count": 48,
      "outputs": [
        {
          "output_type": "stream",
          "name": "stderr",
          "text": [
            "The following columns in the test set don't have a corresponding argument in `DistilBertForSequenceClassification.forward` and have been ignored: text. If text are not expected by `DistilBertForSequenceClassification.forward`,  you can safely ignore this message.\n",
            "***** Running Prediction *****\n",
            "  Num examples = 2\n",
            "  Batch size = 32\n"
          ]
        }
      ]
    },
    {
      "cell_type": "code",
      "source": [
        "test_results"
      ],
      "metadata": {
        "colab": {
          "base_uri": "https://localhost:8080/"
        },
        "id": "Q54hmqTzTLlY",
        "outputId": "761d933c-754e-47ec-c3ea-92ccde1aea62"
      },
      "execution_count": 49,
      "outputs": [
        {
          "output_type": "execute_result",
          "data": {
            "text/plain": [
              "PredictionOutput(predictions=array([[-5.7508054, -5.3646507, -6.2657046, 12.270015 , -6.5854034],\n",
              "       [-4.7953615, -4.1564517, -3.904071 , -6.9880385,  9.376428 ]],\n",
              "      dtype=float32), label_ids=None, metrics={'test_runtime': 0.0528, 'test_samples_per_second': 37.883, 'test_steps_per_second': 18.941})"
            ]
          },
          "metadata": {},
          "execution_count": 49
        }
      ]
    },
    {
      "cell_type": "code",
      "source": [
        "print(test_results.predictions)"
      ],
      "metadata": {
        "colab": {
          "base_uri": "https://localhost:8080/"
        },
        "id": "SfX3LcTfTn74",
        "outputId": "0ab17e98-76a6-402b-c146-4ccb2b8349b0"
      },
      "execution_count": 50,
      "outputs": [
        {
          "output_type": "stream",
          "name": "stdout",
          "text": [
            "[[-5.7508054 -5.3646507 -6.2657046 12.270015  -6.5854034]\n",
            " [-4.7953615 -4.1564517 -3.904071  -6.9880385  9.376428 ]]\n"
          ]
        }
      ]
    },
    {
      "cell_type": "code",
      "source": [
        "test_y_preds = np.argmax(test_results.predictions, axis=1)"
      ],
      "metadata": {
        "id": "GNgOfi5SV0X3"
      },
      "execution_count": 51,
      "outputs": []
    },
    {
      "cell_type": "code",
      "source": [
        "test_y_preds"
      ],
      "metadata": {
        "colab": {
          "base_uri": "https://localhost:8080/"
        },
        "id": "ZdaXHUq1V5Q9",
        "outputId": "edb1dd25-0b4c-44f8-fdbb-1bd0b54a1618"
      },
      "execution_count": 52,
      "outputs": [
        {
          "output_type": "execute_result",
          "data": {
            "text/plain": [
              "array([3, 4])"
            ]
          },
          "metadata": {},
          "execution_count": 52
        }
      ]
    },
    {
      "cell_type": "code",
      "source": [
        "batch_test['predicted'] = test_y_preds\n",
        "\n",
        "batch_test"
      ],
      "metadata": {
        "colab": {
          "base_uri": "https://localhost:8080/",
          "height": 555
        },
        "id": "jl2MIqsXPux-",
        "outputId": "289f50fc-8e74-48a8-e18c-34bc8b69fc74"
      },
      "execution_count": 53,
      "outputs": [
        {
          "output_type": "execute_result",
          "data": {
            "text/plain": [
              "                                                                                                                                                                                                                                                                                                                                                                                                                                                                                                                                                                                                                                                                                                                                                                                                                                                                                                                                                                                                                                                                                                                                                                                                                                                                                                                                                                                                                                                                                                                                                                                                                                                                                                                                                                                                                                                                                                                                                                                                                                                                                                                                                     text  \\\n",
              "0                                                                                                                                                                                                                                                                                                                                                                                                                                                                                                                                                                                                                                                                                                                                                                                                                                                                                                                                                                                                                                                                                                                                 wilkinson fit to face edinburgh england captain jonny wilkinson will make his long-awaited return from injury against edinburgh on saturday.  wilkinson  who has not played since injuring his bicep on 17 october  took part in full-contact training with newcastle falcons on wednesday. and the 25-year-old fly-half will start saturday s heineken cup match at murrayfield on the bench. but newcastle director of rugby rob andrew said:  he s fine and we hope to get him into the game at some stage.  the 25-year-old missed england s autumn internationals after aggravating the haematoma in his upper right arm against saracens. he was subsequently replaced as england captain by full-back jason robinson. sale s charlie hodgson took over the number 10 shirt in the internationals against canada  south africa and australia. wilkinson s year has been disrupted by injury as his muscle problem followed eight months on the sidelines with a shoulder injury sustained in the world cup final.   \n",
              "1  bush website blocked outside us surfers outside the us have been unable to visit the official re-election site of president george w bush.  the blocking of browsers sited outside the us began in the early hours of monday morning. since then people outside the us trying to browse the site get a message saying they are not authorised to view it. the blocking does not appear to be due to an attack by vandals or malicious hackers  but as a result of a policy decision by the bush camp.  the international exclusion zone around georgewbush.com was spotted by net monitoring firm netcraft which keeps an eye on traffic patterns across many different sites. netcraft said that since the early hours of 25 october attempts to view the site through its monitoring stations in london  amsterdam and sydney failed.  by contrast netcraft s four monitoring stations in the us managed to view the site with no problems. the site can still be seen using anonymous proxy services that are based in the us. some web users in canada also report that they can browse the site. the pattern of traffic to the website suggests that the blocking was not due to an attack by vandals or politically motivated hackers. geographic blocking works because the numerical addresses that the net uses to organise itself are handed out on a regional basis. on 21 october  the george w bush website began using the services of a company called akamai to ensure that the pages  videos and other content on its site reaches visitors. mike prettejohn  president of netcraft  speculated that the blocking decision might have been taken to cut costs  and traffic  in the run-up to the election on 2 november. he said the site may see no reason to distribute content to people who will not be voting next week. managing traffic could also be a good way to ensure that the site stays working in the closing days of the election campaign. however  simply blocking non-us visitors also means that americans overseas are barred too. akamai declined to comment  saying it could not talk about customer websites.   \n",
              "\n",
              "   predicted  \n",
              "0          3  \n",
              "1          4  "
            ],
            "text/html": [
              "\n",
              "  <div id=\"df-a71d608e-2d58-4897-a7c3-e2ced9e16ba0\">\n",
              "    <div class=\"colab-df-container\">\n",
              "      <div>\n",
              "<style scoped>\n",
              "    .dataframe tbody tr th:only-of-type {\n",
              "        vertical-align: middle;\n",
              "    }\n",
              "\n",
              "    .dataframe tbody tr th {\n",
              "        vertical-align: top;\n",
              "    }\n",
              "\n",
              "    .dataframe thead th {\n",
              "        text-align: right;\n",
              "    }\n",
              "</style>\n",
              "<table border=\"1\" class=\"dataframe\">\n",
              "  <thead>\n",
              "    <tr style=\"text-align: right;\">\n",
              "      <th></th>\n",
              "      <th>text</th>\n",
              "      <th>predicted</th>\n",
              "    </tr>\n",
              "  </thead>\n",
              "  <tbody>\n",
              "    <tr>\n",
              "      <th>0</th>\n",
              "      <td>wilkinson fit to face edinburgh england captain jonny wilkinson will make his long-awaited return from injury against edinburgh on saturday.  wilkinson  who has not played since injuring his bicep on 17 october  took part in full-contact training with newcastle falcons on wednesday. and the 25-year-old fly-half will start saturday s heineken cup match at murrayfield on the bench. but newcastle director of rugby rob andrew said:  he s fine and we hope to get him into the game at some stage.  the 25-year-old missed england s autumn internationals after aggravating the haematoma in his upper right arm against saracens. he was subsequently replaced as england captain by full-back jason robinson. sale s charlie hodgson took over the number 10 shirt in the internationals against canada  south africa and australia. wilkinson s year has been disrupted by injury as his muscle problem followed eight months on the sidelines with a shoulder injury sustained in the world cup final.</td>\n",
              "      <td>3</td>\n",
              "    </tr>\n",
              "    <tr>\n",
              "      <th>1</th>\n",
              "      <td>bush website blocked outside us surfers outside the us have been unable to visit the official re-election site of president george w bush.  the blocking of browsers sited outside the us began in the early hours of monday morning. since then people outside the us trying to browse the site get a message saying they are not authorised to view it. the blocking does not appear to be due to an attack by vandals or malicious hackers  but as a result of a policy decision by the bush camp.  the international exclusion zone around georgewbush.com was spotted by net monitoring firm netcraft which keeps an eye on traffic patterns across many different sites. netcraft said that since the early hours of 25 october attempts to view the site through its monitoring stations in london  amsterdam and sydney failed.  by contrast netcraft s four monitoring stations in the us managed to view the site with no problems. the site can still be seen using anonymous proxy services that are based in the us. some web users in canada also report that they can browse the site. the pattern of traffic to the website suggests that the blocking was not due to an attack by vandals or politically motivated hackers. geographic blocking works because the numerical addresses that the net uses to organise itself are handed out on a regional basis. on 21 october  the george w bush website began using the services of a company called akamai to ensure that the pages  videos and other content on its site reaches visitors. mike prettejohn  president of netcraft  speculated that the blocking decision might have been taken to cut costs  and traffic  in the run-up to the election on 2 november. he said the site may see no reason to distribute content to people who will not be voting next week. managing traffic could also be a good way to ensure that the site stays working in the closing days of the election campaign. however  simply blocking non-us visitors also means that americans overseas are barred too. akamai declined to comment  saying it could not talk about customer websites.</td>\n",
              "      <td>4</td>\n",
              "    </tr>\n",
              "  </tbody>\n",
              "</table>\n",
              "</div>\n",
              "      <button class=\"colab-df-convert\" onclick=\"convertToInteractive('df-a71d608e-2d58-4897-a7c3-e2ced9e16ba0')\"\n",
              "              title=\"Convert this dataframe to an interactive table.\"\n",
              "              style=\"display:none;\">\n",
              "        \n",
              "  <svg xmlns=\"http://www.w3.org/2000/svg\" height=\"24px\"viewBox=\"0 0 24 24\"\n",
              "       width=\"24px\">\n",
              "    <path d=\"M0 0h24v24H0V0z\" fill=\"none\"/>\n",
              "    <path d=\"M18.56 5.44l.94 2.06.94-2.06 2.06-.94-2.06-.94-.94-2.06-.94 2.06-2.06.94zm-11 1L8.5 8.5l.94-2.06 2.06-.94-2.06-.94L8.5 2.5l-.94 2.06-2.06.94zm10 10l.94 2.06.94-2.06 2.06-.94-2.06-.94-.94-2.06-.94 2.06-2.06.94z\"/><path d=\"M17.41 7.96l-1.37-1.37c-.4-.4-.92-.59-1.43-.59-.52 0-1.04.2-1.43.59L10.3 9.45l-7.72 7.72c-.78.78-.78 2.05 0 2.83L4 21.41c.39.39.9.59 1.41.59.51 0 1.02-.2 1.41-.59l7.78-7.78 2.81-2.81c.8-.78.8-2.07 0-2.86zM5.41 20L4 18.59l7.72-7.72 1.47 1.35L5.41 20z\"/>\n",
              "  </svg>\n",
              "      </button>\n",
              "      \n",
              "  <style>\n",
              "    .colab-df-container {\n",
              "      display:flex;\n",
              "      flex-wrap:wrap;\n",
              "      gap: 12px;\n",
              "    }\n",
              "\n",
              "    .colab-df-convert {\n",
              "      background-color: #E8F0FE;\n",
              "      border: none;\n",
              "      border-radius: 50%;\n",
              "      cursor: pointer;\n",
              "      display: none;\n",
              "      fill: #1967D2;\n",
              "      height: 32px;\n",
              "      padding: 0 0 0 0;\n",
              "      width: 32px;\n",
              "    }\n",
              "\n",
              "    .colab-df-convert:hover {\n",
              "      background-color: #E2EBFA;\n",
              "      box-shadow: 0px 1px 2px rgba(60, 64, 67, 0.3), 0px 1px 3px 1px rgba(60, 64, 67, 0.15);\n",
              "      fill: #174EA6;\n",
              "    }\n",
              "\n",
              "    [theme=dark] .colab-df-convert {\n",
              "      background-color: #3B4455;\n",
              "      fill: #D2E3FC;\n",
              "    }\n",
              "\n",
              "    [theme=dark] .colab-df-convert:hover {\n",
              "      background-color: #434B5C;\n",
              "      box-shadow: 0px 1px 3px 1px rgba(0, 0, 0, 0.15);\n",
              "      filter: drop-shadow(0px 1px 2px rgba(0, 0, 0, 0.3));\n",
              "      fill: #FFFFFF;\n",
              "    }\n",
              "  </style>\n",
              "\n",
              "      <script>\n",
              "        const buttonEl =\n",
              "          document.querySelector('#df-a71d608e-2d58-4897-a7c3-e2ced9e16ba0 button.colab-df-convert');\n",
              "        buttonEl.style.display =\n",
              "          google.colab.kernel.accessAllowed ? 'block' : 'none';\n",
              "\n",
              "        async function convertToInteractive(key) {\n",
              "          const element = document.querySelector('#df-a71d608e-2d58-4897-a7c3-e2ced9e16ba0');\n",
              "          const dataTable =\n",
              "            await google.colab.kernel.invokeFunction('convertToInteractive',\n",
              "                                                     [key], {});\n",
              "          if (!dataTable) return;\n",
              "\n",
              "          const docLinkHtml = 'Like what you see? Visit the ' +\n",
              "            '<a target=\"_blank\" href=https://colab.research.google.com/notebooks/data_table.ipynb>data table notebook</a>'\n",
              "            + ' to learn more about interactive tables.';\n",
              "          element.innerHTML = '';\n",
              "          dataTable['output_type'] = 'display_data';\n",
              "          await google.colab.output.renderOutput(dataTable, element);\n",
              "          const docLink = document.createElement('div');\n",
              "          docLink.innerHTML = docLinkHtml;\n",
              "          element.appendChild(docLink);\n",
              "        }\n",
              "      </script>\n",
              "    </div>\n",
              "  </div>\n",
              "  "
            ]
          },
          "metadata": {},
          "execution_count": 53
        }
      ]
    },
    {
      "cell_type": "code",
      "source": [
        "train[:2]"
      ],
      "metadata": {
        "colab": {
          "base_uri": "https://localhost:8080/",
          "height": 538
        },
        "id": "XXjaVHWFWHYY",
        "outputId": "a3e22d1e-5a74-4b0a-f256-9273094695d4"
      },
      "execution_count": 54,
      "outputs": [
        {
          "output_type": "execute_result",
          "data": {
            "text/plain": [
              "                                                                                                                                                                                                                                                                                                                                                                                                                                                                                                                                                                                                                                                                                                                                                                                                                                                                                                                                                                                                                                                                                                                                                                                                                                                                                                                                                                                                                                                                                                                                                                                                                                                                                                                                                                                                                                                                                                                                                                                                                                                                                                                                                     text  \\\n",
              "0                                                                                                                                                                                                                                                                                                                                                                                                                                                                                                                                                                                                                                                                                                                                                                                                                                                                                                                                                                                                                                                                                                                                 wilkinson fit to face edinburgh england captain jonny wilkinson will make his long-awaited return from injury against edinburgh on saturday.  wilkinson  who has not played since injuring his bicep on 17 october  took part in full-contact training with newcastle falcons on wednesday. and the 25-year-old fly-half will start saturday s heineken cup match at murrayfield on the bench. but newcastle director of rugby rob andrew said:  he s fine and we hope to get him into the game at some stage.  the 25-year-old missed england s autumn internationals after aggravating the haematoma in his upper right arm against saracens. he was subsequently replaced as england captain by full-back jason robinson. sale s charlie hodgson took over the number 10 shirt in the internationals against canada  south africa and australia. wilkinson s year has been disrupted by injury as his muscle problem followed eight months on the sidelines with a shoulder injury sustained in the world cup final.   \n",
              "1  bush website blocked outside us surfers outside the us have been unable to visit the official re-election site of president george w bush.  the blocking of browsers sited outside the us began in the early hours of monday morning. since then people outside the us trying to browse the site get a message saying they are not authorised to view it. the blocking does not appear to be due to an attack by vandals or malicious hackers  but as a result of a policy decision by the bush camp.  the international exclusion zone around georgewbush.com was spotted by net monitoring firm netcraft which keeps an eye on traffic patterns across many different sites. netcraft said that since the early hours of 25 october attempts to view the site through its monitoring stations in london  amsterdam and sydney failed.  by contrast netcraft s four monitoring stations in the us managed to view the site with no problems. the site can still be seen using anonymous proxy services that are based in the us. some web users in canada also report that they can browse the site. the pattern of traffic to the website suggests that the blocking was not due to an attack by vandals or politically motivated hackers. geographic blocking works because the numerical addresses that the net uses to organise itself are handed out on a regional basis. on 21 october  the george w bush website began using the services of a company called akamai to ensure that the pages  videos and other content on its site reaches visitors. mike prettejohn  president of netcraft  speculated that the blocking decision might have been taken to cut costs  and traffic  in the run-up to the election on 2 november. he said the site may see no reason to distribute content to people who will not be voting next week. managing traffic could also be a good way to ensure that the site stays working in the closing days of the election campaign. however  simply blocking non-us visitors also means that americans overseas are barred too. akamai declined to comment  saying it could not talk about customer websites.   \n",
              "\n",
              "   label  \n",
              "0      3  \n",
              "1      4  "
            ],
            "text/html": [
              "\n",
              "  <div id=\"df-cc70e1d2-04a7-460b-830c-206aaa7557bb\">\n",
              "    <div class=\"colab-df-container\">\n",
              "      <div>\n",
              "<style scoped>\n",
              "    .dataframe tbody tr th:only-of-type {\n",
              "        vertical-align: middle;\n",
              "    }\n",
              "\n",
              "    .dataframe tbody tr th {\n",
              "        vertical-align: top;\n",
              "    }\n",
              "\n",
              "    .dataframe thead th {\n",
              "        text-align: right;\n",
              "    }\n",
              "</style>\n",
              "<table border=\"1\" class=\"dataframe\">\n",
              "  <thead>\n",
              "    <tr style=\"text-align: right;\">\n",
              "      <th></th>\n",
              "      <th>text</th>\n",
              "      <th>label</th>\n",
              "    </tr>\n",
              "  </thead>\n",
              "  <tbody>\n",
              "    <tr>\n",
              "      <th>0</th>\n",
              "      <td>wilkinson fit to face edinburgh england captain jonny wilkinson will make his long-awaited return from injury against edinburgh on saturday.  wilkinson  who has not played since injuring his bicep on 17 october  took part in full-contact training with newcastle falcons on wednesday. and the 25-year-old fly-half will start saturday s heineken cup match at murrayfield on the bench. but newcastle director of rugby rob andrew said:  he s fine and we hope to get him into the game at some stage.  the 25-year-old missed england s autumn internationals after aggravating the haematoma in his upper right arm against saracens. he was subsequently replaced as england captain by full-back jason robinson. sale s charlie hodgson took over the number 10 shirt in the internationals against canada  south africa and australia. wilkinson s year has been disrupted by injury as his muscle problem followed eight months on the sidelines with a shoulder injury sustained in the world cup final.</td>\n",
              "      <td>3</td>\n",
              "    </tr>\n",
              "    <tr>\n",
              "      <th>1</th>\n",
              "      <td>bush website blocked outside us surfers outside the us have been unable to visit the official re-election site of president george w bush.  the blocking of browsers sited outside the us began in the early hours of monday morning. since then people outside the us trying to browse the site get a message saying they are not authorised to view it. the blocking does not appear to be due to an attack by vandals or malicious hackers  but as a result of a policy decision by the bush camp.  the international exclusion zone around georgewbush.com was spotted by net monitoring firm netcraft which keeps an eye on traffic patterns across many different sites. netcraft said that since the early hours of 25 october attempts to view the site through its monitoring stations in london  amsterdam and sydney failed.  by contrast netcraft s four monitoring stations in the us managed to view the site with no problems. the site can still be seen using anonymous proxy services that are based in the us. some web users in canada also report that they can browse the site. the pattern of traffic to the website suggests that the blocking was not due to an attack by vandals or politically motivated hackers. geographic blocking works because the numerical addresses that the net uses to organise itself are handed out on a regional basis. on 21 october  the george w bush website began using the services of a company called akamai to ensure that the pages  videos and other content on its site reaches visitors. mike prettejohn  president of netcraft  speculated that the blocking decision might have been taken to cut costs  and traffic  in the run-up to the election on 2 november. he said the site may see no reason to distribute content to people who will not be voting next week. managing traffic could also be a good way to ensure that the site stays working in the closing days of the election campaign. however  simply blocking non-us visitors also means that americans overseas are barred too. akamai declined to comment  saying it could not talk about customer websites.</td>\n",
              "      <td>4</td>\n",
              "    </tr>\n",
              "  </tbody>\n",
              "</table>\n",
              "</div>\n",
              "      <button class=\"colab-df-convert\" onclick=\"convertToInteractive('df-cc70e1d2-04a7-460b-830c-206aaa7557bb')\"\n",
              "              title=\"Convert this dataframe to an interactive table.\"\n",
              "              style=\"display:none;\">\n",
              "        \n",
              "  <svg xmlns=\"http://www.w3.org/2000/svg\" height=\"24px\"viewBox=\"0 0 24 24\"\n",
              "       width=\"24px\">\n",
              "    <path d=\"M0 0h24v24H0V0z\" fill=\"none\"/>\n",
              "    <path d=\"M18.56 5.44l.94 2.06.94-2.06 2.06-.94-2.06-.94-.94-2.06-.94 2.06-2.06.94zm-11 1L8.5 8.5l.94-2.06 2.06-.94-2.06-.94L8.5 2.5l-.94 2.06-2.06.94zm10 10l.94 2.06.94-2.06 2.06-.94-2.06-.94-.94-2.06-.94 2.06-2.06.94z\"/><path d=\"M17.41 7.96l-1.37-1.37c-.4-.4-.92-.59-1.43-.59-.52 0-1.04.2-1.43.59L10.3 9.45l-7.72 7.72c-.78.78-.78 2.05 0 2.83L4 21.41c.39.39.9.59 1.41.59.51 0 1.02-.2 1.41-.59l7.78-7.78 2.81-2.81c.8-.78.8-2.07 0-2.86zM5.41 20L4 18.59l7.72-7.72 1.47 1.35L5.41 20z\"/>\n",
              "  </svg>\n",
              "      </button>\n",
              "      \n",
              "  <style>\n",
              "    .colab-df-container {\n",
              "      display:flex;\n",
              "      flex-wrap:wrap;\n",
              "      gap: 12px;\n",
              "    }\n",
              "\n",
              "    .colab-df-convert {\n",
              "      background-color: #E8F0FE;\n",
              "      border: none;\n",
              "      border-radius: 50%;\n",
              "      cursor: pointer;\n",
              "      display: none;\n",
              "      fill: #1967D2;\n",
              "      height: 32px;\n",
              "      padding: 0 0 0 0;\n",
              "      width: 32px;\n",
              "    }\n",
              "\n",
              "    .colab-df-convert:hover {\n",
              "      background-color: #E2EBFA;\n",
              "      box-shadow: 0px 1px 2px rgba(60, 64, 67, 0.3), 0px 1px 3px 1px rgba(60, 64, 67, 0.15);\n",
              "      fill: #174EA6;\n",
              "    }\n",
              "\n",
              "    [theme=dark] .colab-df-convert {\n",
              "      background-color: #3B4455;\n",
              "      fill: #D2E3FC;\n",
              "    }\n",
              "\n",
              "    [theme=dark] .colab-df-convert:hover {\n",
              "      background-color: #434B5C;\n",
              "      box-shadow: 0px 1px 3px 1px rgba(0, 0, 0, 0.15);\n",
              "      filter: drop-shadow(0px 1px 2px rgba(0, 0, 0, 0.3));\n",
              "      fill: #FFFFFF;\n",
              "    }\n",
              "  </style>\n",
              "\n",
              "      <script>\n",
              "        const buttonEl =\n",
              "          document.querySelector('#df-cc70e1d2-04a7-460b-830c-206aaa7557bb button.colab-df-convert');\n",
              "        buttonEl.style.display =\n",
              "          google.colab.kernel.accessAllowed ? 'block' : 'none';\n",
              "\n",
              "        async function convertToInteractive(key) {\n",
              "          const element = document.querySelector('#df-cc70e1d2-04a7-460b-830c-206aaa7557bb');\n",
              "          const dataTable =\n",
              "            await google.colab.kernel.invokeFunction('convertToInteractive',\n",
              "                                                     [key], {});\n",
              "          if (!dataTable) return;\n",
              "\n",
              "          const docLinkHtml = 'Like what you see? Visit the ' +\n",
              "            '<a target=\"_blank\" href=https://colab.research.google.com/notebooks/data_table.ipynb>data table notebook</a>'\n",
              "            + ' to learn more about interactive tables.';\n",
              "          element.innerHTML = '';\n",
              "          dataTable['output_type'] = 'display_data';\n",
              "          await google.colab.output.renderOutput(dataTable, element);\n",
              "          const docLink = document.createElement('div');\n",
              "          docLink.innerHTML = docLinkHtml;\n",
              "          element.appendChild(docLink);\n",
              "        }\n",
              "      </script>\n",
              "    </div>\n",
              "  </div>\n",
              "  "
            ]
          },
          "metadata": {},
          "execution_count": 54
        }
      ]
    },
    {
      "cell_type": "markdown",
      "source": [
        "# Hyper-parameter Optimization\n",
        "\n",
        "Bayesian Optimization and Population Based Training\n",
        "\n",
        "\n",
        "Instead of grid search, we fine-tune BERT using more advanced search algorithms like Bayesian Optimization and Population Based Training. As a result, we can\n",
        "\n",
        "- gain a better understanding of our hyperparameters and\n",
        "- train a model with 5% better accuracy in the same amount of time.d"
      ],
      "metadata": {
        "id": "K5-EKUOj6MIz"
      }
    },
    {
      "cell_type": "markdown",
      "source": [
        "## hyper-parameters\n",
        "## top 3 feature importance are: learning_rate > weight_decay > per_gpu_batch_size\n",
        "{\n",
        "  \"per_gpu_batch_size\": (16, 64),\n",
        "  \"weight_decay\": (0, 0.3),\n",
        "  \"learning_rate\": (1e-5, 5e-5),\n",
        "  \"warmup_steps\": (0, 500),\n",
        "  \"num_epochs\": (2, 5)\n",
        "}"
      ],
      "metadata": {
        "id": "k_ZDgEeNQQqA"
      }
    },
    {
      "cell_type": "markdown",
      "source": [
        "!pip install ray==0.8.7\n",
        "!pip install ray[tune]\n",
        "\n",
        "!pip install wandb"
      ],
      "metadata": {
        "id": "HB9mhDYlWKDo"
      }
    },
    {
      "cell_type": "markdown",
      "source": [
        "import ray\n",
        "\n",
        "# If running on a cluster uncomment use the line below instead \n",
        "# ray.init(address=\"auto\", log_to_driver=False)\n",
        "\n",
        "ray.shutdown()\n",
        "ray.init(log_to_driver=True, ignore_reinit_error=True)\n",
        "\n",
        "from ray.tune.examples.pbt_transformers import utils\n"
      ],
      "metadata": {
        "id": "dG3UXXBK9rNp"
      }
    },
    {
      "cell_type": "markdown",
      "source": [
        "from transformers import AutoTokenizer\n",
        "\n",
        "model_ckpt = \"distilbert-base-uncased\"\n",
        "tokenizer = AutoTokenizer.from_pretrained(model_ckpt, local_files_only = True)"
      ],
      "metadata": {
        "id": "G7DTOhvRGdRX"
      }
    },
    {
      "cell_type": "markdown",
      "source": [
        "from transformers import AutoModelForSequenceClassification\n",
        "\n",
        "num_labels = 5\n",
        "model_name = AutoModelForSequenceClassification.from_pretrained(model_ckpt, num_labels=num_labels)"
      ],
      "metadata": {
        "id": "Tg4rAlVTGRyA"
      }
    },
    {
      "cell_type": "markdown",
      "source": [
        "from transformers import GlueDataTrainingArguments as DataTrainingArguments\n",
        "from transformers import GlueDataset\n",
        "\n",
        "def get_datasets(config):\n",
        "  data_args = DataTrainingArguments(\n",
        "        task_name=config[\"task_name\"], data_dir=config[\"data_dir\"])\n",
        "  tokenizer = AutoTokenizer.from_pretrained(config[\"model_name\"])\n",
        "  # train_dataset = GlueDataset(\n",
        "  #     data_args,\n",
        "  #     tokenizer=tokenizer,\n",
        "  #     mode=\"train\",\n",
        "  #     cache_dir=config[\"data_dir\"])\n",
        "  # eval_dataset = GlueDataset(\n",
        "  #     data_args,\n",
        "  #     tokenizer=tokenizer,\n",
        "  #     mode=\"dev\",\n",
        "  #     cache_dir=config[\"data_dir\"])\n",
        "  # # Only use the first half for validation\n",
        "  # eval_dataset = eval_dataset[:len(eval_dataset) // 2]\n",
        "  # return train_dataset, eval_dataset"
      ],
      "metadata": {
        "id": "RaGzh20TLJLy"
      }
    },
    {
      "cell_type": "markdown",
      "source": [
        "import logging\n",
        "import os\n",
        "from typing import Dict, Optional, Tuple\n",
        "\n",
        "from ray import tune\n",
        "\n",
        "import transformers\n",
        "from transformers.file_utils import is_torch_tpu_available\n",
        "from transformers.trainer_utils import PREFIX_CHECKPOINT_DIR #, is_wandb_available\n",
        "import wandb\n",
        "\n",
        "import torch\n",
        "from torch.utils.data import Dataset\n",
        "\n",
        "\n",
        "\n",
        "class TuneTransformerTrainer(transformers.Trainer):\n",
        "    def get_optimizers(\n",
        "            self, num_training_steps\n",
        "    ):\n",
        "        self.current_optimizer, self.current_scheduler = super(\n",
        "        ).get_optimizers(num_training_steps)\n",
        "        return (self.current_optimizer, self.current_scheduler)\n",
        "\n",
        "    def evaluate(self,\n",
        "                 eval_dataset= None):\n",
        "        eval_dataloader = self.get_eval_dataloader(eval_dataset)\n",
        "        output = self._prediction_loop(\n",
        "            eval_dataloader, description=\"Evaluation\")\n",
        "        self._log(output.metrics)\n",
        "\n",
        "        self.save_state()\n",
        "\n",
        "        tune.report(**output.metrics)\n",
        "\n",
        "        return output.metrics\n",
        "\n",
        "    def save_state(self):\n",
        "        with tune.checkpoint_dir(step=self.global_step) as checkpoint_dir:\n",
        "            self.args.output_dir = checkpoint_dir\n",
        "            # This is the directory name that Huggingface requires.\n",
        "            output_dir = os.path.join(\n",
        "                self.args.output_dir,\n",
        "                f\"{PREFIX_CHECKPOINT_DIR}-{self.global_step}\")\n",
        "            self.save_model(output_dir)\n",
        "            if self.is_world_master():\n",
        "                torch.save(self.current_optimizer.state_dict(),\n",
        "                           os.path.join(output_dir, \"optimizer.pt\"))\n",
        "                torch.save(self.current_scheduler.state_dict(),\n",
        "                           os.path.join(output_dir, \"scheduler.pt\"))"
      ],
      "metadata": {
        "id": "OCw6RBZx_Hig"
      }
    },
    {
      "cell_type": "markdown",
      "source": [
        "def recover_checkpoint(tune_checkpoint_dir, model_name=None):\n",
        "    if tune_checkpoint_dir is None or len(tune_checkpoint_dir) == 0:\n",
        "        return model_name\n",
        "    # Get subdirectory used for Huggingface.\n",
        "    subdirs = [\n",
        "        os.path.join(tune_checkpoint_dir, name)\n",
        "        for name in os.listdir(tune_checkpoint_dir)\n",
        "        if os.path.isdir(os.path.join(tune_checkpoint_dir, name))\n",
        "    ]\n",
        "    # There should only be 1 subdir.\n",
        "    assert len(subdirs) == 1, subdirs\n",
        "    return subdirs[0]"
      ],
      "metadata": {
        "id": "NUmKsO7i_MYU"
      }
    },
    {
      "cell_type": "markdown",
      "source": [
        "from transformers import AutoConfig, TrainingArguments, glue_tasks_num_labels\n",
        "from ray.tune.integration.wandb import wandb_mixin\n",
        "\n",
        "@wandb_mixin\n",
        "def train_transformer(config, checkpoint_dir=None):\n",
        "  #train_dataset, eval_dataset = get_datasets(config)\n",
        "  train_dataset=train_encoded\n",
        "  eval_dataset=test_encoded\n",
        "\n",
        "  get_datasets(config)\n",
        "\n",
        "  training_args = TrainingArguments(\n",
        "        output_dir=tune.get_trial_dir(),\n",
        "        learning_rate=config[\"learning_rate\"],\n",
        "        do_train=True,\n",
        "        do_eval=True,\n",
        "        #evaluate_during_training=True,\n",
        "        evaluation_strategy='epoch',\n",
        "        # Run eval after every epoch.\n",
        "        eval_steps=(len(train_dataset) // config[\"per_gpu_train_batch_size\"]) +\n",
        "        1,\n",
        "        # We explicitly set save to 0, and do checkpointing in evaluate instead\n",
        "        save_steps=0,\n",
        "        num_train_epochs=config[\"num_epochs\"],\n",
        "        max_steps=config[\"max_steps\"],\n",
        "        per_device_train_batch_size=config[\"per_gpu_train_batch_size\"],\n",
        "        per_device_eval_batch_size=config[\"per_gpu_val_batch_size\"],\n",
        "        warmup_steps=0,\n",
        "        weight_decay=config[\"weight_decay\"],\n",
        "        logging_dir=\"./logs\",\n",
        "    )\n",
        "\n",
        "  model_name_or_path = recover_checkpoint(checkpoint_dir, config[\"model_name\"])\n",
        "  num_labels = 5 #glue_tasks_num_labels[config[\"task_name\"]]\n",
        "\n",
        "  config = AutoConfig.from_pretrained(\n",
        "        model_name_or_path,\n",
        "        num_labels=num_labels,\n",
        "        finetuning_task=task_name,\n",
        "    )\n",
        "  model = AutoModelForSequenceClassification.from_pretrained(\n",
        "        model_name_or_path,\n",
        "        config=config,\n",
        "    )\n",
        "  \n",
        "  \n",
        "   \n",
        "  # Use our modified TuneTransformerTrainer\n",
        "  tune_trainer = TuneTransformerTrainer(\n",
        "      model=model,\n",
        "      args=training_args,\n",
        "      train_dataset=train_dataset,\n",
        "      eval_dataset=eval_dataset,\n",
        "      compute_metrics=utils.build_compute_metrics_fn(task_name),\n",
        "  )\n",
        "  tune_trainer.train(model_name_or_path)"
      ],
      "metadata": {
        "id": "2pwCrWLBAABz"
      }
    },
    {
      "cell_type": "markdown",
      "source": [
        "task_name = \"rte\"\n",
        "\n",
        "task_data_dir = os.path.join(path, task_name.upper())\n",
        "\n",
        "config = {\n",
        "        # These 3 configs below were defined earlier\n",
        "        \"model_name\": \"distilbert-base-uncased\",\n",
        "        \"task_name\": task_name,\n",
        "        \"data_dir\": task_data_dir,\n",
        "        \"per_gpu_val_batch_size\": 32,\n",
        "        \"per_gpu_train_batch_size\": tune.choice([16, 32, 64]),\n",
        "        \"learning_rate\": tune.uniform(1e-5, 5e-5),\n",
        "        \"weight_decay\": tune.uniform(0.0, 0.3),\n",
        "        \"num_epochs\": tune.choice([2, 3, 4, 5]),\n",
        "        \"max_steps\": -1,  # We use num_epochs instead.\n",
        "        \"wandb\": {\n",
        "            \"project\": \"pbt_transformers\",\n",
        "            \"reinit\": True,\n",
        "            \"allow_val_change\": True,\n",
        "            \"api_key\": \"6184578f75a3c29f799c66136f1550c90e397078\"\n",
        "        }\n",
        "    }"
      ],
      "metadata": {
        "id": "sbD0_TnWAE3c"
      }
    },
    {
      "cell_type": "markdown",
      "source": [
        "from ray.tune.schedulers import PopulationBasedTraining\n",
        "\n",
        "scheduler = PopulationBasedTraining(\n",
        "        time_attr=\"training_iteration\",\n",
        "        metric=\"eval_acc\",\n",
        "        mode=\"max\",\n",
        "        perturbation_interval=2,\n",
        "        hyperparam_mutations={\n",
        "            \"weight_decay\": lambda: tune.uniform(0.0, 0.3).func(None),\n",
        "            \"learning_rate\": lambda: tune.uniform(1e-5, 5e-5).func(None),\n",
        "            \"per_gpu_train_batch_size\": [16, 32, 64],\n",
        "        })"
      ],
      "metadata": {
        "id": "Wm0dYxp9Ay_e"
      }
    },
    {
      "cell_type": "markdown",
      "source": [
        "from ray.tune import CLIReporter\n",
        "\n",
        "reporter = CLIReporter(\n",
        "        parameter_columns={\n",
        "            \"weight_decay\": \"w_decay\",\n",
        "            \"learning_rate\": \"lr\",\n",
        "            \"per_gpu_train_batch_size\": \"train_bs/gpu\",\n",
        "            \"num_epochs\": \"num_epochs\"\n",
        "        },\n",
        "        metric_columns=[\n",
        "            \"eval_acc\", \"eval_loss\", \"epoch\", \"training_iteration\"\n",
        "        ])"
      ],
      "metadata": {
        "id": "1T9LhptLA6bT"
      }
    },
    {
      "cell_type": "markdown",
      "source": [
        "analysis = tune.run(\n",
        "        train_transformer,\n",
        "        resources_per_trial={\n",
        "            \"cpu\": 1,\n",
        "            \"gpu\": 1\n",
        "        },\n",
        "        config=config,\n",
        "        num_samples=3,\n",
        "        scheduler=scheduler,\n",
        "        keep_checkpoints_num=3,\n",
        "        checkpoint_score_attr=\"training_iteration\",\n",
        "        progress_reporter=reporter,\n",
        "        local_dir=\"./ray_results/\",\n",
        "        name=\"tune_transformer_pbt\")"
      ],
      "metadata": {
        "id": "gA1q2XDHBBn3"
      }
    },
    {
      "cell_type": "code",
      "source": [
        ""
      ],
      "metadata": {
        "id": "zDzzEmyyBNJt"
      },
      "execution_count": 54,
      "outputs": []
    }
  ]
}